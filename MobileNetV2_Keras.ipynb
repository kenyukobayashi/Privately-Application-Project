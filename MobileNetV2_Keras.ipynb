{
 "cells": [
  {
   "cell_type": "markdown",
   "metadata": {},
   "source": [
    "# _I - Setting up_"
   ]
  },
  {
   "cell_type": "markdown",
   "metadata": {},
   "source": [
    "### _Imports_"
   ]
  },
  {
   "cell_type": "code",
   "execution_count": 287,
   "metadata": {},
   "outputs": [],
   "source": [
    "import numpy as np\n",
    "import pandas as pd\n",
    "import keras\n",
    "import itertools\n",
    "import shutil\n",
    "import os\n",
    "import csv\n",
    "from ast import literal_eval\n",
    "from keras import backend as K\n",
    "from keras.layers import Activation, Dropout\n",
    "from keras.layers.core import Dense, Flatten\n",
    "from keras.optimizers import Adam\n",
    "from keras.metrics import categorical_crossentropy\n",
    "from keras.preprocessing.image import ImageDataGenerator\n",
    "from keras.layers.normalization import BatchNormalization\n",
    "from keras.layers.convolutional import *\n",
    "from keras.regularizers import l2\n",
    "from keras.models import Model\n",
    "from keras.models import clone_model\n",
    "from keras.applications import imagenet_utils\n",
    "from matplotlib import pyplot as plt\n",
    "from sklearn.metrics import confusion_matrix\n",
    "from plotly.subplots import make_subplots\n",
    "import plotly.graph_objects as go\n",
    "import matplotlib.pyplot as plt\n",
    "%matplotlib inline"
   ]
  },
  {
   "cell_type": "markdown",
   "metadata": {},
   "source": [
    "### _Global variables_"
   ]
  },
  {
   "cell_type": "code",
   "execution_count": 526,
   "metadata": {},
   "outputs": [],
   "source": [
    "train_path = \"Data/Train\"\n",
    "valid_path = \"Data/Validation\"\n",
    "test_path = \"Data/Test\"\n",
    "pred_path = \"Data/Prediction\"\n",
    "classes = ['buildings','forest','glacier','mountain','sea','street']"
   ]
  },
  {
   "cell_type": "markdown",
   "metadata": {},
   "source": [
    "### _Reorganize the *Intel Image Classification* dataset downloaded from Kaggle_\n",
    "(Assuming that the dataset is extracted in the same folder as this notebook)"
   ]
  },
  {
   "cell_type": "code",
   "execution_count": 98,
   "metadata": {},
   "outputs": [
    {
     "name": "stdout",
     "output_type": "stream",
     "text": [
      "Finished reorganizing\n"
     ]
    }
   ],
   "source": [
    "# Renaming\n",
    "os.rename('intel-image-classification', 'Data')\n",
    "\n",
    "# Reorganize the dataset\n",
    "shutil.move('Data/seg_pred/seg_pred', 'Data/Prediction')\n",
    "shutil.move('Data/seg_test/seg_test', 'Data/Test')\n",
    "shutil.move('Data/seg_train/seg_train', 'Data/Train')\n",
    "os.rmdir('Data/seg_pred')\n",
    "os.rmdir('Data/seg_test')\n",
    "os.rmdir('Data/seg_train')\n",
    "\n",
    "print(\"Finished reorganizing\")"
   ]
  },
  {
   "cell_type": "code",
   "execution_count": 99,
   "metadata": {},
   "outputs": [],
   "source": [
    "def shrink(s_factor = 4):\n",
    "    \"\"\"\n",
    "    Shrinks the train and test dataset by a factor of n\n",
    "    \n",
    "    Parameters:\n",
    "    -n (int) : the factor by which the dataset gets shrinked\n",
    "    \n",
    "    \"\"\"\n",
    "    for path in [train_path,test_path]:\n",
    "        image_idx = 0\n",
    "        # Shrinking the dataset\n",
    "        for c in classes:\n",
    "            images = os.listdir(path + '/' + c)\n",
    "            for i in images:\n",
    "                if (((image_idx) % s_factor ) != 0):\n",
    "                    os.remove(path + '/' + c + '/' + i)\n",
    "                image_idx += 1"
   ]
  },
  {
   "cell_type": "code",
   "execution_count": 100,
   "metadata": {},
   "outputs": [],
   "source": [
    "def create_validation(ratio = 0.2):\n",
    "    \"\"\" \n",
    "    Splits the training data into train and validation (to use Keras's flow_from_directory)\n",
    "  \n",
    "    Parameters: \n",
    "    -ratio (float): ratio of the train data to use as validation\n",
    "      \n",
    "    \"\"\"\n",
    "    # Creating a directory for the validation folder\n",
    "    os.mkdir(valid_path)\n",
    "        \n",
    "    # Splitting\n",
    "    image_idx = 1\n",
    "    for c in classes:\n",
    "        os.mkdir(valid_path + '/' + c)\n",
    "        images = os.listdir(train_path + '/' + c)\n",
    "        for i in images:\n",
    "            if ((image_idx) % int(1/ratio) == 0):\n",
    "                shutil.move(train_path + '/' + c + '/' + i, valid_path + '/' + c + '/' + i)\n",
    "            image_idx += 1"
   ]
  },
  {
   "cell_type": "markdown",
   "metadata": {},
   "source": [
    "### _Shrinking the dataset (run this cell only if your pc cannot handle the dataset !)_"
   ]
  },
  {
   "cell_type": "code",
   "execution_count": 101,
   "metadata": {},
   "outputs": [
    {
     "name": "stdout",
     "output_type": "stream",
     "text": [
      "Finished shrinking\n"
     ]
    }
   ],
   "source": [
    "# Shrink the dataset by a factor of 4\n",
    "shrink()\n",
    "\n",
    "print(\"Finished shrinking\")"
   ]
  },
  {
   "cell_type": "code",
   "execution_count": 102,
   "metadata": {},
   "outputs": [
    {
     "name": "stdout",
     "output_type": "stream",
     "text": [
      "Finished creating validation set\n"
     ]
    }
   ],
   "source": [
    "# Create a validation set with a ratio of 0.2\n",
    "create_validation()\n",
    "\n",
    "print(\"Finished creating validation set\")"
   ]
  },
  {
   "cell_type": "markdown",
   "metadata": {},
   "source": [
    "### _Visualize the dataset_"
   ]
  },
  {
   "cell_type": "code",
   "execution_count": 103,
   "metadata": {},
   "outputs": [],
   "source": [
    "def plots(imgs, figsize = (25,6), rows = 1, interp = False, titles = None):\n",
    "    \"\"\" \n",
    "    Plots images with labels within jupyter notebook\n",
    "    \n",
    "    \"\"\"\n",
    "    if type(imgs[0]) is np.ndarray:\n",
    "        imgs = np.array(imgs).astype(np.uint8)\n",
    "        if (imgs.shape[-1] != 3):\n",
    "            imgs = imgs.transpose((0,2,3,1))\n",
    "    f = plt.figure(figsize = figsize)\n",
    "    cols = len(imgs)//rows if len(imgs) % 2 == 0 else len(imgs)//rows + 1\n",
    "    for i in range(len(imgs)):\n",
    "        sp = f.add_subplot(rows, cols, i+1)\n",
    "        sp.axis('Off')\n",
    "        if titles is not None:\n",
    "            sp.set_title(titles[i], fontsize=16)\n",
    "        plt.imshow(imgs[i], interpolation=None if interp else 'none')"
   ]
  },
  {
   "cell_type": "code",
   "execution_count": 104,
   "metadata": {},
   "outputs": [],
   "source": [
    "def create_batch_generator(data_path, classes_, batch_size_, target_size_ = (150,150), preprocessing_function_ = None, shuffle_ = True):\n",
    "    \"\"\" \n",
    "    Creates a batch generator of data from the given directory\n",
    "    \n",
    "    Parameters:\n",
    "    -data_path (string): path to the directory\n",
    "    -classes_ (List[string]): list of the classes\n",
    "    -batch_size_ (int): batch size of the batches to generate\n",
    "    -preprocessing_function: preprocessing for the MobileNetV2\n",
    "    \n",
    "    Returns:\n",
    "    ImageDataGenerator: batch generator\n",
    "    \n",
    "    \"\"\"\n",
    "    if (preprocessing_function_) is None :\n",
    "        return ImageDataGenerator().flow_from_directory(data_path, target_size = target_size_, classes = classes_, batch_size = batch_size_, shuffle = shuffle_)\n",
    "    else :\n",
    "        return ImageDataGenerator(preprocessing_function = preprocessing_function_).flow_from_directory(data_path, target_size = target_size_, classes = classes_, batch_size = batch_size_, shuffle = shuffle_)"
   ]
  },
  {
   "cell_type": "code",
   "execution_count": 105,
   "metadata": {},
   "outputs": [
    {
     "name": "stdout",
     "output_type": "stream",
     "text": [
      "Found 2808 images belonging to 6 classes.\n"
     ]
    },
    {
     "data": {
      "text/plain": [
       "{'buildings': 0,\n",
       " 'forest': 1,\n",
       " 'glacier': 2,\n",
       " 'mountain': 3,\n",
       " 'sea': 4,\n",
       " 'street': 5}"
      ]
     },
     "execution_count": 105,
     "metadata": {},
     "output_type": "execute_result"
    }
   ],
   "source": [
    "# Generate a raw data batch generator to visualize the dataset\n",
    "raw_batches = create_batch_generator(train_path, classes, 5)\n",
    "\n",
    "# Print the class indices\n",
    "raw_batches.class_indices"
   ]
  },
  {
   "cell_type": "code",
   "execution_count": 456,
   "metadata": {},
   "outputs": [
    {
     "name": "stderr",
     "output_type": "stream",
     "text": [
      "/home/seijin/.local/lib/python3.6/site-packages/matplotlib/text.py:1150: FutureWarning:\n",
      "\n",
      "elementwise comparison failed; returning scalar instead, but in the future will perform elementwise comparison\n",
      "\n"
     ]
    },
    {
     "data": {
      "image/png": "[encoded data removed]",
      "text/plain": [
       "<Figure size 1800x432 with 5 Axes>"
      ]
     },
     "metadata": {
      "needs_background": "light"
     },
     "output_type": "display_data"
    }
   ],
   "source": [
    "# Visualize some data samples\n",
    "imgs, labels = next(raw_batches)\n",
    "plots(imgs, titles = labels)"
   ]
  },
  {
   "cell_type": "markdown",
   "metadata": {},
   "source": [
    "# _II - Fine-tuning MobileNetV2_"
   ]
  },
  {
   "cell_type": "markdown",
   "metadata": {},
   "source": [
    "### _Variables_"
   ]
  },
  {
   "cell_type": "code",
   "execution_count": 534,
   "metadata": {},
   "outputs": [],
   "source": [
    "batch_size = 64\n",
    "target_size = (224,224) # Expected input image dimensions by the MobileNetV2\n",
    "learning_rate = 0.0005\n",
    "loss_f = 'categorical_crossentropy'\n",
    "dropout = 0.5\n",
    "weight_decay = 0.0001\n",
    "n_epochs = 40"
   ]
  },
  {
   "cell_type": "markdown",
   "metadata": {},
   "source": [
    "### _Batch generators_"
   ]
  },
  {
   "cell_type": "code",
   "execution_count": 535,
   "metadata": {},
   "outputs": [
    {
     "name": "stdout",
     "output_type": "stream",
     "text": [
      "Found 2808 images belonging to 6 classes.\n",
      "Found 701 images belonging to 6 classes.\n",
      "Found 750 images belonging to 6 classes.\n"
     ]
    }
   ],
   "source": [
    "train_batches = create_batch_generator(train_path, classes, batch_size, target_size, keras.applications.mobilenet_v2.preprocess_input)\n",
    "valid_batches = create_batch_generator(valid_path, classes, batch_size, target_size, keras.applications.mobilenet_v2.preprocess_input)\n",
    "test_batches = create_batch_generator(test_path, classes, batch_size, target_size, keras.applications.mobilenet_v2.preprocess_input, False)"
   ]
  },
  {
   "cell_type": "markdown",
   "metadata": {},
   "source": [
    "### _Instanciate a MobileNetV2_"
   ]
  },
  {
   "cell_type": "code",
   "execution_count": 536,
   "metadata": {},
   "outputs": [],
   "source": [
    "model = keras.applications.mobilenet_v2.MobileNetV2()"
   ]
  },
  {
   "cell_type": "code",
   "execution_count": 537,
   "metadata": {},
   "outputs": [
    {
     "name": "stdout",
     "output_type": "stream",
     "text": [
      "Model: \"mobilenetv2_1.00_224\"\n",
      "__________________________________________________________________________________________________\n",
      "Layer (type)                    Output Shape         Param #     Connected to                     \n",
      "==================================================================================================\n",
      "input_21 (InputLayer)           (None, 224, 224, 3)  0                                            \n",
      "__________________________________________________________________________________________________\n",
      "Conv1_pad (ZeroPadding2D)       (None, 225, 225, 3)  0           input_21[0][0]                   \n",
      "__________________________________________________________________________________________________\n",
      "Conv1 (Conv2D)                  (None, 112, 112, 32) 864         Conv1_pad[0][0]                  \n",
      "__________________________________________________________________________________________________\n",
      "bn_Conv1 (BatchNormalization)   (None, 112, 112, 32) 128         Conv1[0][0]                      \n",
      "__________________________________________________________________________________________________\n",
      "Conv1_relu (ReLU)               (None, 112, 112, 32) 0           bn_Conv1[0][0]                   \n",
      "__________________________________________________________________________________________________\n",
      "expanded_conv_depthwise (Depthw (None, 112, 112, 32) 288         Conv1_relu[0][0]                 \n",
      "__________________________________________________________________________________________________\n",
      "expanded_conv_depthwise_BN (Bat (None, 112, 112, 32) 128         expanded_conv_depthwise[0][0]    \n",
      "__________________________________________________________________________________________________\n",
      "expanded_conv_depthwise_relu (R (None, 112, 112, 32) 0           expanded_conv_depthwise_BN[0][0] \n",
      "__________________________________________________________________________________________________\n",
      "expanded_conv_project (Conv2D)  (None, 112, 112, 16) 512         expanded_conv_depthwise_relu[0][0\n",
      "__________________________________________________________________________________________________\n",
      "expanded_conv_project_BN (Batch (None, 112, 112, 16) 64          expanded_conv_project[0][0]      \n",
      "__________________________________________________________________________________________________\n",
      "block_1_expand (Conv2D)         (None, 112, 112, 96) 1536        expanded_conv_project_BN[0][0]   \n",
      "__________________________________________________________________________________________________\n",
      "block_1_expand_BN (BatchNormali (None, 112, 112, 96) 384         block_1_expand[0][0]             \n",
      "__________________________________________________________________________________________________\n",
      "block_1_expand_relu (ReLU)      (None, 112, 112, 96) 0           block_1_expand_BN[0][0]          \n",
      "__________________________________________________________________________________________________\n",
      "block_1_pad (ZeroPadding2D)     (None, 113, 113, 96) 0           block_1_expand_relu[0][0]        \n",
      "__________________________________________________________________________________________________\n",
      "block_1_depthwise (DepthwiseCon (None, 56, 56, 96)   864         block_1_pad[0][0]                \n",
      "__________________________________________________________________________________________________\n",
      "block_1_depthwise_BN (BatchNorm (None, 56, 56, 96)   384         block_1_depthwise[0][0]          \n",
      "__________________________________________________________________________________________________\n",
      "block_1_depthwise_relu (ReLU)   (None, 56, 56, 96)   0           block_1_depthwise_BN[0][0]       \n",
      "__________________________________________________________________________________________________\n",
      "block_1_project (Conv2D)        (None, 56, 56, 24)   2304        block_1_depthwise_relu[0][0]     \n",
      "__________________________________________________________________________________________________\n",
      "block_1_project_BN (BatchNormal (None, 56, 56, 24)   96          block_1_project[0][0]            \n",
      "__________________________________________________________________________________________________\n",
      "block_2_expand (Conv2D)         (None, 56, 56, 144)  3456        block_1_project_BN[0][0]         \n",
      "__________________________________________________________________________________________________\n",
      "block_2_expand_BN (BatchNormali (None, 56, 56, 144)  576         block_2_expand[0][0]             \n",
      "__________________________________________________________________________________________________\n",
      "block_2_expand_relu (ReLU)      (None, 56, 56, 144)  0           block_2_expand_BN[0][0]          \n",
      "__________________________________________________________________________________________________\n",
      "block_2_depthwise (DepthwiseCon (None, 56, 56, 144)  1296        block_2_expand_relu[0][0]        \n",
      "__________________________________________________________________________________________________\n",
      "block_2_depthwise_BN (BatchNorm (None, 56, 56, 144)  576         block_2_depthwise[0][0]          \n",
      "__________________________________________________________________________________________________\n",
      "block_2_depthwise_relu (ReLU)   (None, 56, 56, 144)  0           block_2_depthwise_BN[0][0]       \n",
      "__________________________________________________________________________________________________\n",
      "block_2_project (Conv2D)        (None, 56, 56, 24)   3456        block_2_depthwise_relu[0][0]     \n",
      "__________________________________________________________________________________________________\n",
      "block_2_project_BN (BatchNormal (None, 56, 56, 24)   96          block_2_project[0][0]            \n",
      "__________________________________________________________________________________________________\n",
      "block_2_add (Add)               (None, 56, 56, 24)   0           block_1_project_BN[0][0]         \n",
      "                                                                 block_2_project_BN[0][0]         \n",
      "__________________________________________________________________________________________________\n",
      "block_3_expand (Conv2D)         (None, 56, 56, 144)  3456        block_2_add[0][0]                \n",
      "__________________________________________________________________________________________________\n",
      "block_3_expand_BN (BatchNormali (None, 56, 56, 144)  576         block_3_expand[0][0]             \n",
      "__________________________________________________________________________________________________\n",
      "block_3_expand_relu (ReLU)      (None, 56, 56, 144)  0           block_3_expand_BN[0][0]          \n",
      "__________________________________________________________________________________________________\n",
      "block_3_pad (ZeroPadding2D)     (None, 57, 57, 144)  0           block_3_expand_relu[0][0]        \n",
      "__________________________________________________________________________________________________\n",
      "block_3_depthwise (DepthwiseCon (None, 28, 28, 144)  1296        block_3_pad[0][0]                \n",
      "__________________________________________________________________________________________________\n",
      "block_3_depthwise_BN (BatchNorm (None, 28, 28, 144)  576         block_3_depthwise[0][0]          \n",
      "__________________________________________________________________________________________________\n",
      "block_3_depthwise_relu (ReLU)   (None, 28, 28, 144)  0           block_3_depthwise_BN[0][0]       \n",
      "__________________________________________________________________________________________________\n",
      "block_3_project (Conv2D)        (None, 28, 28, 32)   4608        block_3_depthwise_relu[0][0]     \n",
      "__________________________________________________________________________________________________\n",
      "block_3_project_BN (BatchNormal (None, 28, 28, 32)   128         block_3_project[0][0]            \n",
      "__________________________________________________________________________________________________\n",
      "block_4_expand (Conv2D)         (None, 28, 28, 192)  6144        block_3_project_BN[0][0]         \n",
      "__________________________________________________________________________________________________\n",
      "block_4_expand_BN (BatchNormali (None, 28, 28, 192)  768         block_4_expand[0][0]             \n",
      "__________________________________________________________________________________________________\n",
      "block_4_expand_relu (ReLU)      (None, 28, 28, 192)  0           block_4_expand_BN[0][0]          \n",
      "__________________________________________________________________________________________________\n",
      "block_4_depthwise (DepthwiseCon (None, 28, 28, 192)  1728        block_4_expand_relu[0][0]        \n",
      "__________________________________________________________________________________________________\n",
      "block_4_depthwise_BN (BatchNorm (None, 28, 28, 192)  768         block_4_depthwise[0][0]          \n",
      "__________________________________________________________________________________________________\n",
      "block_4_depthwise_relu (ReLU)   (None, 28, 28, 192)  0           block_4_depthwise_BN[0][0]       \n",
      "__________________________________________________________________________________________________\n",
      "block_4_project (Conv2D)        (None, 28, 28, 32)   6144        block_4_depthwise_relu[0][0]     \n",
      "__________________________________________________________________________________________________\n",
      "block_4_project_BN (BatchNormal (None, 28, 28, 32)   128         block_4_project[0][0]            \n",
      "__________________________________________________________________________________________________\n",
      "block_4_add (Add)               (None, 28, 28, 32)   0           block_3_project_BN[0][0]         \n",
      "                                                                 block_4_project_BN[0][0]         \n",
      "__________________________________________________________________________________________________\n",
      "block_5_expand (Conv2D)         (None, 28, 28, 192)  6144        block_4_add[0][0]                \n",
      "__________________________________________________________________________________________________\n",
      "block_5_expand_BN (BatchNormali (None, 28, 28, 192)  768         block_5_expand[0][0]             \n",
      "__________________________________________________________________________________________________\n",
      "block_5_expand_relu (ReLU)      (None, 28, 28, 192)  0           block_5_expand_BN[0][0]          \n",
      "__________________________________________________________________________________________________\n",
      "block_5_depthwise (DepthwiseCon (None, 28, 28, 192)  1728        block_5_expand_relu[0][0]        \n",
      "__________________________________________________________________________________________________\n",
      "block_5_depthwise_BN (BatchNorm (None, 28, 28, 192)  768         block_5_depthwise[0][0]          \n",
      "__________________________________________________________________________________________________\n",
      "block_5_depthwise_relu (ReLU)   (None, 28, 28, 192)  0           block_5_depthwise_BN[0][0]       \n",
      "__________________________________________________________________________________________________\n",
      "block_5_project (Conv2D)        (None, 28, 28, 32)   6144        block_5_depthwise_relu[0][0]     \n",
      "__________________________________________________________________________________________________\n",
      "block_5_project_BN (BatchNormal (None, 28, 28, 32)   128         block_5_project[0][0]            \n",
      "__________________________________________________________________________________________________\n",
      "block_5_add (Add)               (None, 28, 28, 32)   0           block_4_add[0][0]                \n",
      "                                                                 block_5_project_BN[0][0]         \n",
      "__________________________________________________________________________________________________\n",
      "block_6_expand (Conv2D)         (None, 28, 28, 192)  6144        block_5_add[0][0]                \n",
      "__________________________________________________________________________________________________\n",
      "block_6_expand_BN (BatchNormali (None, 28, 28, 192)  768         block_6_expand[0][0]             \n",
      "__________________________________________________________________________________________________\n",
      "block_6_expand_relu (ReLU)      (None, 28, 28, 192)  0           block_6_expand_BN[0][0]          \n",
      "__________________________________________________________________________________________________\n",
      "block_6_pad (ZeroPadding2D)     (None, 29, 29, 192)  0           block_6_expand_relu[0][0]        \n",
      "__________________________________________________________________________________________________\n",
      "block_6_depthwise (DepthwiseCon (None, 14, 14, 192)  1728        block_6_pad[0][0]                \n",
      "__________________________________________________________________________________________________\n",
      "block_6_depthwise_BN (BatchNorm (None, 14, 14, 192)  768         block_6_depthwise[0][0]          \n",
      "__________________________________________________________________________________________________\n",
      "block_6_depthwise_relu (ReLU)   (None, 14, 14, 192)  0           block_6_depthwise_BN[0][0]       \n",
      "__________________________________________________________________________________________________\n",
      "block_6_project (Conv2D)        (None, 14, 14, 64)   12288       block_6_depthwise_relu[0][0]     \n",
      "__________________________________________________________________________________________________\n",
      "block_6_project_BN (BatchNormal (None, 14, 14, 64)   256         block_6_project[0][0]            \n",
      "__________________________________________________________________________________________________\n",
      "block_7_expand (Conv2D)         (None, 14, 14, 384)  24576       block_6_project_BN[0][0]         \n",
      "__________________________________________________________________________________________________\n",
      "block_7_expand_BN (BatchNormali (None, 14, 14, 384)  1536        block_7_expand[0][0]             \n",
      "__________________________________________________________________________________________________\n",
      "block_7_expand_relu (ReLU)      (None, 14, 14, 384)  0           block_7_expand_BN[0][0]          \n",
      "__________________________________________________________________________________________________\n",
      "block_7_depthwise (DepthwiseCon (None, 14, 14, 384)  3456        block_7_expand_relu[0][0]        \n",
      "__________________________________________________________________________________________________\n",
      "block_7_depthwise_BN (BatchNorm (None, 14, 14, 384)  1536        block_7_depthwise[0][0]          \n",
      "__________________________________________________________________________________________________\n",
      "block_7_depthwise_relu (ReLU)   (None, 14, 14, 384)  0           block_7_depthwise_BN[0][0]       \n",
      "__________________________________________________________________________________________________\n",
      "block_7_project (Conv2D)        (None, 14, 14, 64)   24576       block_7_depthwise_relu[0][0]     \n",
      "__________________________________________________________________________________________________\n",
      "block_7_project_BN (BatchNormal (None, 14, 14, 64)   256         block_7_project[0][0]            \n",
      "__________________________________________________________________________________________________\n",
      "block_7_add (Add)               (None, 14, 14, 64)   0           block_6_project_BN[0][0]         \n",
      "                                                                 block_7_project_BN[0][0]         \n",
      "__________________________________________________________________________________________________\n",
      "block_8_expand (Conv2D)         (None, 14, 14, 384)  24576       block_7_add[0][0]                \n",
      "__________________________________________________________________________________________________\n",
      "block_8_expand_BN (BatchNormali (None, 14, 14, 384)  1536        block_8_expand[0][0]             \n",
      "__________________________________________________________________________________________________\n",
      "block_8_expand_relu (ReLU)      (None, 14, 14, 384)  0           block_8_expand_BN[0][0]          \n",
      "__________________________________________________________________________________________________\n",
      "block_8_depthwise (DepthwiseCon (None, 14, 14, 384)  3456        block_8_expand_relu[0][0]        \n",
      "__________________________________________________________________________________________________\n",
      "block_8_depthwise_BN (BatchNorm (None, 14, 14, 384)  1536        block_8_depthwise[0][0]          \n",
      "__________________________________________________________________________________________________\n",
      "block_8_depthwise_relu (ReLU)   (None, 14, 14, 384)  0           block_8_depthwise_BN[0][0]       \n",
      "__________________________________________________________________________________________________\n",
      "block_8_project (Conv2D)        (None, 14, 14, 64)   24576       block_8_depthwise_relu[0][0]     \n",
      "__________________________________________________________________________________________________\n",
      "block_8_project_BN (BatchNormal (None, 14, 14, 64)   256         block_8_project[0][0]            \n",
      "__________________________________________________________________________________________________\n",
      "block_8_add (Add)               (None, 14, 14, 64)   0           block_7_add[0][0]                \n",
      "                                                                 block_8_project_BN[0][0]         \n",
      "__________________________________________________________________________________________________\n",
      "block_9_expand (Conv2D)         (None, 14, 14, 384)  24576       block_8_add[0][0]                \n",
      "__________________________________________________________________________________________________\n",
      "block_9_expand_BN (BatchNormali (None, 14, 14, 384)  1536        block_9_expand[0][0]             \n",
      "__________________________________________________________________________________________________\n",
      "block_9_expand_relu (ReLU)      (None, 14, 14, 384)  0           block_9_expand_BN[0][0]          \n",
      "__________________________________________________________________________________________________\n",
      "block_9_depthwise (DepthwiseCon (None, 14, 14, 384)  3456        block_9_expand_relu[0][0]        \n",
      "__________________________________________________________________________________________________\n",
      "block_9_depthwise_BN (BatchNorm (None, 14, 14, 384)  1536        block_9_depthwise[0][0]          \n",
      "__________________________________________________________________________________________________\n",
      "block_9_depthwise_relu (ReLU)   (None, 14, 14, 384)  0           block_9_depthwise_BN[0][0]       \n",
      "__________________________________________________________________________________________________\n",
      "block_9_project (Conv2D)        (None, 14, 14, 64)   24576       block_9_depthwise_relu[0][0]     \n",
      "__________________________________________________________________________________________________\n",
      "block_9_project_BN (BatchNormal (None, 14, 14, 64)   256         block_9_project[0][0]            \n",
      "__________________________________________________________________________________________________\n",
      "block_9_add (Add)               (None, 14, 14, 64)   0           block_8_add[0][0]                \n",
      "                                                                 block_9_project_BN[0][0]         \n",
      "__________________________________________________________________________________________________\n",
      "block_10_expand (Conv2D)        (None, 14, 14, 384)  24576       block_9_add[0][0]                \n",
      "__________________________________________________________________________________________________\n",
      "block_10_expand_BN (BatchNormal (None, 14, 14, 384)  1536        block_10_expand[0][0]            \n",
      "__________________________________________________________________________________________________\n",
      "block_10_expand_relu (ReLU)     (None, 14, 14, 384)  0           block_10_expand_BN[0][0]         \n",
      "__________________________________________________________________________________________________\n",
      "block_10_depthwise (DepthwiseCo (None, 14, 14, 384)  3456        block_10_expand_relu[0][0]       \n",
      "__________________________________________________________________________________________________\n",
      "block_10_depthwise_BN (BatchNor (None, 14, 14, 384)  1536        block_10_depthwise[0][0]         \n",
      "__________________________________________________________________________________________________\n",
      "block_10_depthwise_relu (ReLU)  (None, 14, 14, 384)  0           block_10_depthwise_BN[0][0]      \n",
      "__________________________________________________________________________________________________\n",
      "block_10_project (Conv2D)       (None, 14, 14, 96)   36864       block_10_depthwise_relu[0][0]    \n",
      "__________________________________________________________________________________________________\n",
      "block_10_project_BN (BatchNorma (None, 14, 14, 96)   384         block_10_project[0][0]           \n",
      "__________________________________________________________________________________________________\n",
      "block_11_expand (Conv2D)        (None, 14, 14, 576)  55296       block_10_project_BN[0][0]        \n",
      "__________________________________________________________________________________________________\n",
      "block_11_expand_BN (BatchNormal (None, 14, 14, 576)  2304        block_11_expand[0][0]            \n",
      "__________________________________________________________________________________________________\n",
      "block_11_expand_relu (ReLU)     (None, 14, 14, 576)  0           block_11_expand_BN[0][0]         \n",
      "__________________________________________________________________________________________________\n",
      "block_11_depthwise (DepthwiseCo (None, 14, 14, 576)  5184        block_11_expand_relu[0][0]       \n",
      "__________________________________________________________________________________________________\n",
      "block_11_depthwise_BN (BatchNor (None, 14, 14, 576)  2304        block_11_depthwise[0][0]         \n",
      "__________________________________________________________________________________________________\n",
      "block_11_depthwise_relu (ReLU)  (None, 14, 14, 576)  0           block_11_depthwise_BN[0][0]      \n",
      "__________________________________________________________________________________________________\n",
      "block_11_project (Conv2D)       (None, 14, 14, 96)   55296       block_11_depthwise_relu[0][0]    \n",
      "__________________________________________________________________________________________________\n",
      "block_11_project_BN (BatchNorma (None, 14, 14, 96)   384         block_11_project[0][0]           \n",
      "__________________________________________________________________________________________________\n",
      "block_11_add (Add)              (None, 14, 14, 96)   0           block_10_project_BN[0][0]        \n",
      "                                                                 block_11_project_BN[0][0]        \n",
      "__________________________________________________________________________________________________\n",
      "block_12_expand (Conv2D)        (None, 14, 14, 576)  55296       block_11_add[0][0]               \n",
      "__________________________________________________________________________________________________\n",
      "block_12_expand_BN (BatchNormal (None, 14, 14, 576)  2304        block_12_expand[0][0]            \n",
      "__________________________________________________________________________________________________\n",
      "block_12_expand_relu (ReLU)     (None, 14, 14, 576)  0           block_12_expand_BN[0][0]         \n",
      "__________________________________________________________________________________________________\n",
      "block_12_depthwise (DepthwiseCo (None, 14, 14, 576)  5184        block_12_expand_relu[0][0]       \n",
      "__________________________________________________________________________________________________\n",
      "block_12_depthwise_BN (BatchNor (None, 14, 14, 576)  2304        block_12_depthwise[0][0]         \n",
      "__________________________________________________________________________________________________\n",
      "block_12_depthwise_relu (ReLU)  (None, 14, 14, 576)  0           block_12_depthwise_BN[0][0]      \n",
      "__________________________________________________________________________________________________\n",
      "block_12_project (Conv2D)       (None, 14, 14, 96)   55296       block_12_depthwise_relu[0][0]    \n",
      "__________________________________________________________________________________________________\n",
      "block_12_project_BN (BatchNorma (None, 14, 14, 96)   384         block_12_project[0][0]           \n",
      "__________________________________________________________________________________________________\n",
      "block_12_add (Add)              (None, 14, 14, 96)   0           block_11_add[0][0]               \n",
      "                                                                 block_12_project_BN[0][0]        \n",
      "__________________________________________________________________________________________________\n",
      "block_13_expand (Conv2D)        (None, 14, 14, 576)  55296       block_12_add[0][0]               \n",
      "__________________________________________________________________________________________________\n",
      "block_13_expand_BN (BatchNormal (None, 14, 14, 576)  2304        block_13_expand[0][0]            \n",
      "__________________________________________________________________________________________________\n",
      "block_13_expand_relu (ReLU)     (None, 14, 14, 576)  0           block_13_expand_BN[0][0]         \n",
      "__________________________________________________________________________________________________\n",
      "block_13_pad (ZeroPadding2D)    (None, 15, 15, 576)  0           block_13_expand_relu[0][0]       \n",
      "__________________________________________________________________________________________________\n",
      "block_13_depthwise (DepthwiseCo (None, 7, 7, 576)    5184        block_13_pad[0][0]               \n",
      "__________________________________________________________________________________________________\n",
      "block_13_depthwise_BN (BatchNor (None, 7, 7, 576)    2304        block_13_depthwise[0][0]         \n",
      "__________________________________________________________________________________________________\n",
      "block_13_depthwise_relu (ReLU)  (None, 7, 7, 576)    0           block_13_depthwise_BN[0][0]      \n",
      "__________________________________________________________________________________________________\n",
      "block_13_project (Conv2D)       (None, 7, 7, 160)    92160       block_13_depthwise_relu[0][0]    \n",
      "__________________________________________________________________________________________________\n",
      "block_13_project_BN (BatchNorma (None, 7, 7, 160)    640         block_13_project[0][0]           \n",
      "__________________________________________________________________________________________________\n",
      "block_14_expand (Conv2D)        (None, 7, 7, 960)    153600      block_13_project_BN[0][0]        \n",
      "__________________________________________________________________________________________________\n",
      "block_14_expand_BN (BatchNormal (None, 7, 7, 960)    3840        block_14_expand[0][0]            \n",
      "__________________________________________________________________________________________________\n",
      "block_14_expand_relu (ReLU)     (None, 7, 7, 960)    0           block_14_expand_BN[0][0]         \n",
      "__________________________________________________________________________________________________\n",
      "block_14_depthwise (DepthwiseCo (None, 7, 7, 960)    8640        block_14_expand_relu[0][0]       \n",
      "__________________________________________________________________________________________________\n",
      "block_14_depthwise_BN (BatchNor (None, 7, 7, 960)    3840        block_14_depthwise[0][0]         \n",
      "__________________________________________________________________________________________________\n",
      "block_14_depthwise_relu (ReLU)  (None, 7, 7, 960)    0           block_14_depthwise_BN[0][0]      \n",
      "__________________________________________________________________________________________________\n",
      "block_14_project (Conv2D)       (None, 7, 7, 160)    153600      block_14_depthwise_relu[0][0]    \n",
      "__________________________________________________________________________________________________\n",
      "block_14_project_BN (BatchNorma (None, 7, 7, 160)    640         block_14_project[0][0]           \n",
      "__________________________________________________________________________________________________\n",
      "block_14_add (Add)              (None, 7, 7, 160)    0           block_13_project_BN[0][0]        \n",
      "                                                                 block_14_project_BN[0][0]        \n",
      "__________________________________________________________________________________________________\n",
      "block_15_expand (Conv2D)        (None, 7, 7, 960)    153600      block_14_add[0][0]               \n",
      "__________________________________________________________________________________________________\n",
      "block_15_expand_BN (BatchNormal (None, 7, 7, 960)    3840        block_15_expand[0][0]            \n",
      "__________________________________________________________________________________________________\n",
      "block_15_expand_relu (ReLU)     (None, 7, 7, 960)    0           block_15_expand_BN[0][0]         \n",
      "__________________________________________________________________________________________________\n",
      "block_15_depthwise (DepthwiseCo (None, 7, 7, 960)    8640        block_15_expand_relu[0][0]       \n",
      "__________________________________________________________________________________________________\n",
      "block_15_depthwise_BN (BatchNor (None, 7, 7, 960)    3840        block_15_depthwise[0][0]         \n",
      "__________________________________________________________________________________________________\n",
      "block_15_depthwise_relu (ReLU)  (None, 7, 7, 960)    0           block_15_depthwise_BN[0][0]      \n",
      "__________________________________________________________________________________________________\n",
      "block_15_project (Conv2D)       (None, 7, 7, 160)    153600      block_15_depthwise_relu[0][0]    \n",
      "__________________________________________________________________________________________________\n",
      "block_15_project_BN (BatchNorma (None, 7, 7, 160)    640         block_15_project[0][0]           \n",
      "__________________________________________________________________________________________________\n",
      "block_15_add (Add)              (None, 7, 7, 160)    0           block_14_add[0][0]               \n",
      "                                                                 block_15_project_BN[0][0]        \n",
      "__________________________________________________________________________________________________\n",
      "block_16_expand (Conv2D)        (None, 7, 7, 960)    153600      block_15_add[0][0]               \n",
      "__________________________________________________________________________________________________\n",
      "block_16_expand_BN (BatchNormal (None, 7, 7, 960)    3840        block_16_expand[0][0]            \n",
      "__________________________________________________________________________________________________\n",
      "block_16_expand_relu (ReLU)     (None, 7, 7, 960)    0           block_16_expand_BN[0][0]         \n",
      "__________________________________________________________________________________________________\n",
      "block_16_depthwise (DepthwiseCo (None, 7, 7, 960)    8640        block_16_expand_relu[0][0]       \n",
      "__________________________________________________________________________________________________\n",
      "block_16_depthwise_BN (BatchNor (None, 7, 7, 960)    3840        block_16_depthwise[0][0]         \n",
      "__________________________________________________________________________________________________\n",
      "block_16_depthwise_relu (ReLU)  (None, 7, 7, 960)    0           block_16_depthwise_BN[0][0]      \n",
      "__________________________________________________________________________________________________\n",
      "block_16_project (Conv2D)       (None, 7, 7, 320)    307200      block_16_depthwise_relu[0][0]    \n",
      "__________________________________________________________________________________________________\n",
      "block_16_project_BN (BatchNorma (None, 7, 7, 320)    1280        block_16_project[0][0]           \n",
      "__________________________________________________________________________________________________\n",
      "Conv_1 (Conv2D)                 (None, 7, 7, 1280)   409600      block_16_project_BN[0][0]        \n",
      "__________________________________________________________________________________________________\n",
      "Conv_1_bn (BatchNormalization)  (None, 7, 7, 1280)   5120        Conv_1[0][0]                     \n",
      "__________________________________________________________________________________________________\n",
      "out_relu (ReLU)                 (None, 7, 7, 1280)   0           Conv_1_bn[0][0]                  \n",
      "__________________________________________________________________________________________________\n",
      "global_average_pooling2d_20 (Gl (None, 1280)         0           out_relu[0][0]                   \n",
      "__________________________________________________________________________________________________\n",
      "Logits (Dense)                  (None, 1000)         1281000     global_average_pooling2d_20[0][0]\n",
      "==================================================================================================\n",
      "Total params: 3,538,984\n",
      "Trainable params: 3,504,872\n",
      "Non-trainable params: 34,112\n",
      "__________________________________________________________________________________________________\n"
     ]
    }
   ],
   "source": [
    "# Summary of the model\n",
    "model.summary()"
   ]
  },
  {
   "cell_type": "markdown",
   "metadata": {},
   "source": [
    "### _Change the prediction layer of the model_"
   ]
  },
  {
   "cell_type": "code",
   "execution_count": 538,
   "metadata": {},
   "outputs": [],
   "source": [
    "# Add a dropout before the last layer to regularize\n",
    "x = (Dropout(rate = dropout, input_shape = (1280,)))(model.layers[-2].output)\n",
    "\n",
    "# Change the last layer to a 6 class classification layer with a softmax activation function combined with a weight decay\n",
    "last_layer = Dense(6, kernel_regularizer = l2(weight_decay), activation = 'softmax')(x)\n",
    "\n",
    "# Changed model\n",
    "model = Model(inputs = model.input, outputs = last_layer)"
   ]
  },
  {
   "cell_type": "code",
   "execution_count": 539,
   "metadata": {},
   "outputs": [
    {
     "name": "stdout",
     "output_type": "stream",
     "text": [
      "Model: \"model_55\"\n",
      "__________________________________________________________________________________________________\n",
      "Layer (type)                    Output Shape         Param #     Connected to                     \n",
      "==================================================================================================\n",
      "input_21 (InputLayer)           (None, 224, 224, 3)  0                                            \n",
      "__________________________________________________________________________________________________\n",
      "Conv1_pad (ZeroPadding2D)       (None, 225, 225, 3)  0           input_21[0][0]                   \n",
      "__________________________________________________________________________________________________\n",
      "Conv1 (Conv2D)                  (None, 112, 112, 32) 864         Conv1_pad[0][0]                  \n",
      "__________________________________________________________________________________________________\n",
      "bn_Conv1 (BatchNormalization)   (None, 112, 112, 32) 128         Conv1[0][0]                      \n",
      "__________________________________________________________________________________________________\n",
      "Conv1_relu (ReLU)               (None, 112, 112, 32) 0           bn_Conv1[0][0]                   \n",
      "__________________________________________________________________________________________________\n",
      "expanded_conv_depthwise (Depthw (None, 112, 112, 32) 288         Conv1_relu[0][0]                 \n",
      "__________________________________________________________________________________________________\n",
      "expanded_conv_depthwise_BN (Bat (None, 112, 112, 32) 128         expanded_conv_depthwise[0][0]    \n",
      "__________________________________________________________________________________________________\n",
      "expanded_conv_depthwise_relu (R (None, 112, 112, 32) 0           expanded_conv_depthwise_BN[0][0] \n",
      "__________________________________________________________________________________________________\n",
      "expanded_conv_project (Conv2D)  (None, 112, 112, 16) 512         expanded_conv_depthwise_relu[0][0\n",
      "__________________________________________________________________________________________________\n",
      "expanded_conv_project_BN (Batch (None, 112, 112, 16) 64          expanded_conv_project[0][0]      \n",
      "__________________________________________________________________________________________________\n",
      "block_1_expand (Conv2D)         (None, 112, 112, 96) 1536        expanded_conv_project_BN[0][0]   \n",
      "__________________________________________________________________________________________________\n",
      "block_1_expand_BN (BatchNormali (None, 112, 112, 96) 384         block_1_expand[0][0]             \n",
      "__________________________________________________________________________________________________\n",
      "block_1_expand_relu (ReLU)      (None, 112, 112, 96) 0           block_1_expand_BN[0][0]          \n",
      "__________________________________________________________________________________________________\n",
      "block_1_pad (ZeroPadding2D)     (None, 113, 113, 96) 0           block_1_expand_relu[0][0]        \n",
      "__________________________________________________________________________________________________\n",
      "block_1_depthwise (DepthwiseCon (None, 56, 56, 96)   864         block_1_pad[0][0]                \n",
      "__________________________________________________________________________________________________\n",
      "block_1_depthwise_BN (BatchNorm (None, 56, 56, 96)   384         block_1_depthwise[0][0]          \n",
      "__________________________________________________________________________________________________\n",
      "block_1_depthwise_relu (ReLU)   (None, 56, 56, 96)   0           block_1_depthwise_BN[0][0]       \n",
      "__________________________________________________________________________________________________\n",
      "block_1_project (Conv2D)        (None, 56, 56, 24)   2304        block_1_depthwise_relu[0][0]     \n",
      "__________________________________________________________________________________________________\n",
      "block_1_project_BN (BatchNormal (None, 56, 56, 24)   96          block_1_project[0][0]            \n",
      "__________________________________________________________________________________________________\n",
      "block_2_expand (Conv2D)         (None, 56, 56, 144)  3456        block_1_project_BN[0][0]         \n",
      "__________________________________________________________________________________________________\n",
      "block_2_expand_BN (BatchNormali (None, 56, 56, 144)  576         block_2_expand[0][0]             \n",
      "__________________________________________________________________________________________________\n",
      "block_2_expand_relu (ReLU)      (None, 56, 56, 144)  0           block_2_expand_BN[0][0]          \n",
      "__________________________________________________________________________________________________\n",
      "block_2_depthwise (DepthwiseCon (None, 56, 56, 144)  1296        block_2_expand_relu[0][0]        \n",
      "__________________________________________________________________________________________________\n",
      "block_2_depthwise_BN (BatchNorm (None, 56, 56, 144)  576         block_2_depthwise[0][0]          \n",
      "__________________________________________________________________________________________________\n",
      "block_2_depthwise_relu (ReLU)   (None, 56, 56, 144)  0           block_2_depthwise_BN[0][0]       \n",
      "__________________________________________________________________________________________________\n",
      "block_2_project (Conv2D)        (None, 56, 56, 24)   3456        block_2_depthwise_relu[0][0]     \n",
      "__________________________________________________________________________________________________\n",
      "block_2_project_BN (BatchNormal (None, 56, 56, 24)   96          block_2_project[0][0]            \n",
      "__________________________________________________________________________________________________\n",
      "block_2_add (Add)               (None, 56, 56, 24)   0           block_1_project_BN[0][0]         \n",
      "                                                                 block_2_project_BN[0][0]         \n",
      "__________________________________________________________________________________________________\n",
      "block_3_expand (Conv2D)         (None, 56, 56, 144)  3456        block_2_add[0][0]                \n",
      "__________________________________________________________________________________________________\n",
      "block_3_expand_BN (BatchNormali (None, 56, 56, 144)  576         block_3_expand[0][0]             \n",
      "__________________________________________________________________________________________________\n",
      "block_3_expand_relu (ReLU)      (None, 56, 56, 144)  0           block_3_expand_BN[0][0]          \n",
      "__________________________________________________________________________________________________\n",
      "block_3_pad (ZeroPadding2D)     (None, 57, 57, 144)  0           block_3_expand_relu[0][0]        \n",
      "__________________________________________________________________________________________________\n",
      "block_3_depthwise (DepthwiseCon (None, 28, 28, 144)  1296        block_3_pad[0][0]                \n",
      "__________________________________________________________________________________________________\n",
      "block_3_depthwise_BN (BatchNorm (None, 28, 28, 144)  576         block_3_depthwise[0][0]          \n",
      "__________________________________________________________________________________________________\n",
      "block_3_depthwise_relu (ReLU)   (None, 28, 28, 144)  0           block_3_depthwise_BN[0][0]       \n",
      "__________________________________________________________________________________________________\n",
      "block_3_project (Conv2D)        (None, 28, 28, 32)   4608        block_3_depthwise_relu[0][0]     \n",
      "__________________________________________________________________________________________________\n",
      "block_3_project_BN (BatchNormal (None, 28, 28, 32)   128         block_3_project[0][0]            \n",
      "__________________________________________________________________________________________________\n",
      "block_4_expand (Conv2D)         (None, 28, 28, 192)  6144        block_3_project_BN[0][0]         \n",
      "__________________________________________________________________________________________________\n",
      "block_4_expand_BN (BatchNormali (None, 28, 28, 192)  768         block_4_expand[0][0]             \n",
      "__________________________________________________________________________________________________\n",
      "block_4_expand_relu (ReLU)      (None, 28, 28, 192)  0           block_4_expand_BN[0][0]          \n",
      "__________________________________________________________________________________________________\n",
      "block_4_depthwise (DepthwiseCon (None, 28, 28, 192)  1728        block_4_expand_relu[0][0]        \n",
      "__________________________________________________________________________________________________\n",
      "block_4_depthwise_BN (BatchNorm (None, 28, 28, 192)  768         block_4_depthwise[0][0]          \n",
      "__________________________________________________________________________________________________\n",
      "block_4_depthwise_relu (ReLU)   (None, 28, 28, 192)  0           block_4_depthwise_BN[0][0]       \n",
      "__________________________________________________________________________________________________\n",
      "block_4_project (Conv2D)        (None, 28, 28, 32)   6144        block_4_depthwise_relu[0][0]     \n",
      "__________________________________________________________________________________________________\n",
      "block_4_project_BN (BatchNormal (None, 28, 28, 32)   128         block_4_project[0][0]            \n",
      "__________________________________________________________________________________________________\n",
      "block_4_add (Add)               (None, 28, 28, 32)   0           block_3_project_BN[0][0]         \n",
      "                                                                 block_4_project_BN[0][0]         \n",
      "__________________________________________________________________________________________________\n",
      "block_5_expand (Conv2D)         (None, 28, 28, 192)  6144        block_4_add[0][0]                \n",
      "__________________________________________________________________________________________________\n",
      "block_5_expand_BN (BatchNormali (None, 28, 28, 192)  768         block_5_expand[0][0]             \n",
      "__________________________________________________________________________________________________\n",
      "block_5_expand_relu (ReLU)      (None, 28, 28, 192)  0           block_5_expand_BN[0][0]          \n",
      "__________________________________________________________________________________________________\n",
      "block_5_depthwise (DepthwiseCon (None, 28, 28, 192)  1728        block_5_expand_relu[0][0]        \n",
      "__________________________________________________________________________________________________\n",
      "block_5_depthwise_BN (BatchNorm (None, 28, 28, 192)  768         block_5_depthwise[0][0]          \n",
      "__________________________________________________________________________________________________\n",
      "block_5_depthwise_relu (ReLU)   (None, 28, 28, 192)  0           block_5_depthwise_BN[0][0]       \n",
      "__________________________________________________________________________________________________\n",
      "block_5_project (Conv2D)        (None, 28, 28, 32)   6144        block_5_depthwise_relu[0][0]     \n",
      "__________________________________________________________________________________________________\n",
      "block_5_project_BN (BatchNormal (None, 28, 28, 32)   128         block_5_project[0][0]            \n",
      "__________________________________________________________________________________________________\n",
      "block_5_add (Add)               (None, 28, 28, 32)   0           block_4_add[0][0]                \n",
      "                                                                 block_5_project_BN[0][0]         \n",
      "__________________________________________________________________________________________________\n",
      "block_6_expand (Conv2D)         (None, 28, 28, 192)  6144        block_5_add[0][0]                \n",
      "__________________________________________________________________________________________________\n",
      "block_6_expand_BN (BatchNormali (None, 28, 28, 192)  768         block_6_expand[0][0]             \n",
      "__________________________________________________________________________________________________\n",
      "block_6_expand_relu (ReLU)      (None, 28, 28, 192)  0           block_6_expand_BN[0][0]          \n",
      "__________________________________________________________________________________________________\n",
      "block_6_pad (ZeroPadding2D)     (None, 29, 29, 192)  0           block_6_expand_relu[0][0]        \n",
      "__________________________________________________________________________________________________\n",
      "block_6_depthwise (DepthwiseCon (None, 14, 14, 192)  1728        block_6_pad[0][0]                \n",
      "__________________________________________________________________________________________________\n",
      "block_6_depthwise_BN (BatchNorm (None, 14, 14, 192)  768         block_6_depthwise[0][0]          \n",
      "__________________________________________________________________________________________________\n",
      "block_6_depthwise_relu (ReLU)   (None, 14, 14, 192)  0           block_6_depthwise_BN[0][0]       \n",
      "__________________________________________________________________________________________________\n",
      "block_6_project (Conv2D)        (None, 14, 14, 64)   12288       block_6_depthwise_relu[0][0]     \n",
      "__________________________________________________________________________________________________\n",
      "block_6_project_BN (BatchNormal (None, 14, 14, 64)   256         block_6_project[0][0]            \n",
      "__________________________________________________________________________________________________\n",
      "block_7_expand (Conv2D)         (None, 14, 14, 384)  24576       block_6_project_BN[0][0]         \n",
      "__________________________________________________________________________________________________\n",
      "block_7_expand_BN (BatchNormali (None, 14, 14, 384)  1536        block_7_expand[0][0]             \n",
      "__________________________________________________________________________________________________\n",
      "block_7_expand_relu (ReLU)      (None, 14, 14, 384)  0           block_7_expand_BN[0][0]          \n",
      "__________________________________________________________________________________________________\n",
      "block_7_depthwise (DepthwiseCon (None, 14, 14, 384)  3456        block_7_expand_relu[0][0]        \n",
      "__________________________________________________________________________________________________\n",
      "block_7_depthwise_BN (BatchNorm (None, 14, 14, 384)  1536        block_7_depthwise[0][0]          \n",
      "__________________________________________________________________________________________________\n",
      "block_7_depthwise_relu (ReLU)   (None, 14, 14, 384)  0           block_7_depthwise_BN[0][0]       \n",
      "__________________________________________________________________________________________________\n",
      "block_7_project (Conv2D)        (None, 14, 14, 64)   24576       block_7_depthwise_relu[0][0]     \n",
      "__________________________________________________________________________________________________\n",
      "block_7_project_BN (BatchNormal (None, 14, 14, 64)   256         block_7_project[0][0]            \n",
      "__________________________________________________________________________________________________\n",
      "block_7_add (Add)               (None, 14, 14, 64)   0           block_6_project_BN[0][0]         \n",
      "                                                                 block_7_project_BN[0][0]         \n",
      "__________________________________________________________________________________________________\n",
      "block_8_expand (Conv2D)         (None, 14, 14, 384)  24576       block_7_add[0][0]                \n",
      "__________________________________________________________________________________________________\n",
      "block_8_expand_BN (BatchNormali (None, 14, 14, 384)  1536        block_8_expand[0][0]             \n",
      "__________________________________________________________________________________________________\n",
      "block_8_expand_relu (ReLU)      (None, 14, 14, 384)  0           block_8_expand_BN[0][0]          \n",
      "__________________________________________________________________________________________________\n",
      "block_8_depthwise (DepthwiseCon (None, 14, 14, 384)  3456        block_8_expand_relu[0][0]        \n",
      "__________________________________________________________________________________________________\n",
      "block_8_depthwise_BN (BatchNorm (None, 14, 14, 384)  1536        block_8_depthwise[0][0]          \n",
      "__________________________________________________________________________________________________\n",
      "block_8_depthwise_relu (ReLU)   (None, 14, 14, 384)  0           block_8_depthwise_BN[0][0]       \n",
      "__________________________________________________________________________________________________\n",
      "block_8_project (Conv2D)        (None, 14, 14, 64)   24576       block_8_depthwise_relu[0][0]     \n",
      "__________________________________________________________________________________________________\n",
      "block_8_project_BN (BatchNormal (None, 14, 14, 64)   256         block_8_project[0][0]            \n",
      "__________________________________________________________________________________________________\n",
      "block_8_add (Add)               (None, 14, 14, 64)   0           block_7_add[0][0]                \n",
      "                                                                 block_8_project_BN[0][0]         \n",
      "__________________________________________________________________________________________________\n",
      "block_9_expand (Conv2D)         (None, 14, 14, 384)  24576       block_8_add[0][0]                \n",
      "__________________________________________________________________________________________________\n",
      "block_9_expand_BN (BatchNormali (None, 14, 14, 384)  1536        block_9_expand[0][0]             \n",
      "__________________________________________________________________________________________________\n",
      "block_9_expand_relu (ReLU)      (None, 14, 14, 384)  0           block_9_expand_BN[0][0]          \n",
      "__________________________________________________________________________________________________\n",
      "block_9_depthwise (DepthwiseCon (None, 14, 14, 384)  3456        block_9_expand_relu[0][0]        \n",
      "__________________________________________________________________________________________________\n",
      "block_9_depthwise_BN (BatchNorm (None, 14, 14, 384)  1536        block_9_depthwise[0][0]          \n",
      "__________________________________________________________________________________________________\n",
      "block_9_depthwise_relu (ReLU)   (None, 14, 14, 384)  0           block_9_depthwise_BN[0][0]       \n",
      "__________________________________________________________________________________________________\n",
      "block_9_project (Conv2D)        (None, 14, 14, 64)   24576       block_9_depthwise_relu[0][0]     \n",
      "__________________________________________________________________________________________________\n",
      "block_9_project_BN (BatchNormal (None, 14, 14, 64)   256         block_9_project[0][0]            \n",
      "__________________________________________________________________________________________________\n",
      "block_9_add (Add)               (None, 14, 14, 64)   0           block_8_add[0][0]                \n",
      "                                                                 block_9_project_BN[0][0]         \n",
      "__________________________________________________________________________________________________\n",
      "block_10_expand (Conv2D)        (None, 14, 14, 384)  24576       block_9_add[0][0]                \n",
      "__________________________________________________________________________________________________\n",
      "block_10_expand_BN (BatchNormal (None, 14, 14, 384)  1536        block_10_expand[0][0]            \n",
      "__________________________________________________________________________________________________\n",
      "block_10_expand_relu (ReLU)     (None, 14, 14, 384)  0           block_10_expand_BN[0][0]         \n",
      "__________________________________________________________________________________________________\n",
      "block_10_depthwise (DepthwiseCo (None, 14, 14, 384)  3456        block_10_expand_relu[0][0]       \n",
      "__________________________________________________________________________________________________\n",
      "block_10_depthwise_BN (BatchNor (None, 14, 14, 384)  1536        block_10_depthwise[0][0]         \n",
      "__________________________________________________________________________________________________\n",
      "block_10_depthwise_relu (ReLU)  (None, 14, 14, 384)  0           block_10_depthwise_BN[0][0]      \n",
      "__________________________________________________________________________________________________\n",
      "block_10_project (Conv2D)       (None, 14, 14, 96)   36864       block_10_depthwise_relu[0][0]    \n",
      "__________________________________________________________________________________________________\n",
      "block_10_project_BN (BatchNorma (None, 14, 14, 96)   384         block_10_project[0][0]           \n",
      "__________________________________________________________________________________________________\n",
      "block_11_expand (Conv2D)        (None, 14, 14, 576)  55296       block_10_project_BN[0][0]        \n",
      "__________________________________________________________________________________________________\n",
      "block_11_expand_BN (BatchNormal (None, 14, 14, 576)  2304        block_11_expand[0][0]            \n",
      "__________________________________________________________________________________________________\n",
      "block_11_expand_relu (ReLU)     (None, 14, 14, 576)  0           block_11_expand_BN[0][0]         \n",
      "__________________________________________________________________________________________________\n",
      "block_11_depthwise (DepthwiseCo (None, 14, 14, 576)  5184        block_11_expand_relu[0][0]       \n",
      "__________________________________________________________________________________________________\n",
      "block_11_depthwise_BN (BatchNor (None, 14, 14, 576)  2304        block_11_depthwise[0][0]         \n",
      "__________________________________________________________________________________________________\n",
      "block_11_depthwise_relu (ReLU)  (None, 14, 14, 576)  0           block_11_depthwise_BN[0][0]      \n",
      "__________________________________________________________________________________________________\n",
      "block_11_project (Conv2D)       (None, 14, 14, 96)   55296       block_11_depthwise_relu[0][0]    \n",
      "__________________________________________________________________________________________________\n",
      "block_11_project_BN (BatchNorma (None, 14, 14, 96)   384         block_11_project[0][0]           \n",
      "__________________________________________________________________________________________________\n",
      "block_11_add (Add)              (None, 14, 14, 96)   0           block_10_project_BN[0][0]        \n",
      "                                                                 block_11_project_BN[0][0]        \n",
      "__________________________________________________________________________________________________\n",
      "block_12_expand (Conv2D)        (None, 14, 14, 576)  55296       block_11_add[0][0]               \n",
      "__________________________________________________________________________________________________\n",
      "block_12_expand_BN (BatchNormal (None, 14, 14, 576)  2304        block_12_expand[0][0]            \n",
      "__________________________________________________________________________________________________\n",
      "block_12_expand_relu (ReLU)     (None, 14, 14, 576)  0           block_12_expand_BN[0][0]         \n",
      "__________________________________________________________________________________________________\n",
      "block_12_depthwise (DepthwiseCo (None, 14, 14, 576)  5184        block_12_expand_relu[0][0]       \n",
      "__________________________________________________________________________________________________\n",
      "block_12_depthwise_BN (BatchNor (None, 14, 14, 576)  2304        block_12_depthwise[0][0]         \n",
      "__________________________________________________________________________________________________\n",
      "block_12_depthwise_relu (ReLU)  (None, 14, 14, 576)  0           block_12_depthwise_BN[0][0]      \n",
      "__________________________________________________________________________________________________\n",
      "block_12_project (Conv2D)       (None, 14, 14, 96)   55296       block_12_depthwise_relu[0][0]    \n",
      "__________________________________________________________________________________________________\n",
      "block_12_project_BN (BatchNorma (None, 14, 14, 96)   384         block_12_project[0][0]           \n",
      "__________________________________________________________________________________________________\n",
      "block_12_add (Add)              (None, 14, 14, 96)   0           block_11_add[0][0]               \n",
      "                                                                 block_12_project_BN[0][0]        \n",
      "__________________________________________________________________________________________________\n",
      "block_13_expand (Conv2D)        (None, 14, 14, 576)  55296       block_12_add[0][0]               \n",
      "__________________________________________________________________________________________________\n",
      "block_13_expand_BN (BatchNormal (None, 14, 14, 576)  2304        block_13_expand[0][0]            \n",
      "__________________________________________________________________________________________________\n",
      "block_13_expand_relu (ReLU)     (None, 14, 14, 576)  0           block_13_expand_BN[0][0]         \n",
      "__________________________________________________________________________________________________\n",
      "block_13_pad (ZeroPadding2D)    (None, 15, 15, 576)  0           block_13_expand_relu[0][0]       \n",
      "__________________________________________________________________________________________________\n",
      "block_13_depthwise (DepthwiseCo (None, 7, 7, 576)    5184        block_13_pad[0][0]               \n",
      "__________________________________________________________________________________________________\n",
      "block_13_depthwise_BN (BatchNor (None, 7, 7, 576)    2304        block_13_depthwise[0][0]         \n",
      "__________________________________________________________________________________________________\n",
      "block_13_depthwise_relu (ReLU)  (None, 7, 7, 576)    0           block_13_depthwise_BN[0][0]      \n",
      "__________________________________________________________________________________________________\n",
      "block_13_project (Conv2D)       (None, 7, 7, 160)    92160       block_13_depthwise_relu[0][0]    \n",
      "__________________________________________________________________________________________________\n",
      "block_13_project_BN (BatchNorma (None, 7, 7, 160)    640         block_13_project[0][0]           \n",
      "__________________________________________________________________________________________________\n",
      "block_14_expand (Conv2D)        (None, 7, 7, 960)    153600      block_13_project_BN[0][0]        \n",
      "__________________________________________________________________________________________________\n",
      "block_14_expand_BN (BatchNormal (None, 7, 7, 960)    3840        block_14_expand[0][0]            \n",
      "__________________________________________________________________________________________________\n",
      "block_14_expand_relu (ReLU)     (None, 7, 7, 960)    0           block_14_expand_BN[0][0]         \n",
      "__________________________________________________________________________________________________\n",
      "block_14_depthwise (DepthwiseCo (None, 7, 7, 960)    8640        block_14_expand_relu[0][0]       \n",
      "__________________________________________________________________________________________________\n",
      "block_14_depthwise_BN (BatchNor (None, 7, 7, 960)    3840        block_14_depthwise[0][0]         \n",
      "__________________________________________________________________________________________________\n",
      "block_14_depthwise_relu (ReLU)  (None, 7, 7, 960)    0           block_14_depthwise_BN[0][0]      \n",
      "__________________________________________________________________________________________________\n",
      "block_14_project (Conv2D)       (None, 7, 7, 160)    153600      block_14_depthwise_relu[0][0]    \n",
      "__________________________________________________________________________________________________\n",
      "block_14_project_BN (BatchNorma (None, 7, 7, 160)    640         block_14_project[0][0]           \n",
      "__________________________________________________________________________________________________\n",
      "block_14_add (Add)              (None, 7, 7, 160)    0           block_13_project_BN[0][0]        \n",
      "                                                                 block_14_project_BN[0][0]        \n",
      "__________________________________________________________________________________________________\n",
      "block_15_expand (Conv2D)        (None, 7, 7, 960)    153600      block_14_add[0][0]               \n",
      "__________________________________________________________________________________________________\n",
      "block_15_expand_BN (BatchNormal (None, 7, 7, 960)    3840        block_15_expand[0][0]            \n",
      "__________________________________________________________________________________________________\n",
      "block_15_expand_relu (ReLU)     (None, 7, 7, 960)    0           block_15_expand_BN[0][0]         \n",
      "__________________________________________________________________________________________________\n",
      "block_15_depthwise (DepthwiseCo (None, 7, 7, 960)    8640        block_15_expand_relu[0][0]       \n",
      "__________________________________________________________________________________________________\n",
      "block_15_depthwise_BN (BatchNor (None, 7, 7, 960)    3840        block_15_depthwise[0][0]         \n",
      "__________________________________________________________________________________________________\n",
      "block_15_depthwise_relu (ReLU)  (None, 7, 7, 960)    0           block_15_depthwise_BN[0][0]      \n",
      "__________________________________________________________________________________________________\n",
      "block_15_project (Conv2D)       (None, 7, 7, 160)    153600      block_15_depthwise_relu[0][0]    \n",
      "__________________________________________________________________________________________________\n",
      "block_15_project_BN (BatchNorma (None, 7, 7, 160)    640         block_15_project[0][0]           \n",
      "__________________________________________________________________________________________________\n",
      "block_15_add (Add)              (None, 7, 7, 160)    0           block_14_add[0][0]               \n",
      "                                                                 block_15_project_BN[0][0]        \n",
      "__________________________________________________________________________________________________\n",
      "block_16_expand (Conv2D)        (None, 7, 7, 960)    153600      block_15_add[0][0]               \n",
      "__________________________________________________________________________________________________\n",
      "block_16_expand_BN (BatchNormal (None, 7, 7, 960)    3840        block_16_expand[0][0]            \n",
      "__________________________________________________________________________________________________\n",
      "block_16_expand_relu (ReLU)     (None, 7, 7, 960)    0           block_16_expand_BN[0][0]         \n",
      "__________________________________________________________________________________________________\n",
      "block_16_depthwise (DepthwiseCo (None, 7, 7, 960)    8640        block_16_expand_relu[0][0]       \n",
      "__________________________________________________________________________________________________\n",
      "block_16_depthwise_BN (BatchNor (None, 7, 7, 960)    3840        block_16_depthwise[0][0]         \n",
      "__________________________________________________________________________________________________\n",
      "block_16_depthwise_relu (ReLU)  (None, 7, 7, 960)    0           block_16_depthwise_BN[0][0]      \n",
      "__________________________________________________________________________________________________\n",
      "block_16_project (Conv2D)       (None, 7, 7, 320)    307200      block_16_depthwise_relu[0][0]    \n",
      "__________________________________________________________________________________________________\n",
      "block_16_project_BN (BatchNorma (None, 7, 7, 320)    1280        block_16_project[0][0]           \n",
      "__________________________________________________________________________________________________\n",
      "Conv_1 (Conv2D)                 (None, 7, 7, 1280)   409600      block_16_project_BN[0][0]        \n",
      "__________________________________________________________________________________________________\n",
      "Conv_1_bn (BatchNormalization)  (None, 7, 7, 1280)   5120        Conv_1[0][0]                     \n",
      "__________________________________________________________________________________________________\n",
      "out_relu (ReLU)                 (None, 7, 7, 1280)   0           Conv_1_bn[0][0]                  \n",
      "__________________________________________________________________________________________________\n",
      "global_average_pooling2d_20 (Gl (None, 1280)         0           out_relu[0][0]                   \n",
      "__________________________________________________________________________________________________\n",
      "dropout_55 (Dropout)            (None, 1280)         0           global_average_pooling2d_20[0][0]\n",
      "__________________________________________________________________________________________________\n",
      "dense_55 (Dense)                (None, 6)            7686        dropout_55[0][0]                 \n",
      "==================================================================================================\n",
      "Total params: 2,265,670\n",
      "Trainable params: 2,231,558\n",
      "Non-trainable params: 34,112\n",
      "__________________________________________________________________________________________________\n"
     ]
    }
   ],
   "source": [
    "# Summary of the model with modified prediction layer\n",
    "model.summary()"
   ]
  },
  {
   "cell_type": "markdown",
   "metadata": {},
   "source": [
    "### _Gridsearch for hyper-parameter tuning_"
   ]
  },
  {
   "cell_type": "code",
   "execution_count": 540,
   "metadata": {},
   "outputs": [],
   "source": [
    "# Takes as input the MobileNetV2 to decide for the hyper parameters for the last layers\n",
    "def grid_search(model):\n",
    "    \"\"\" \n",
    "    Runs a grid search algorithm for the modified MobileNetV2 model. \n",
    "    This function takes as input the unmodified MobileNetV2 model, modifies it, \n",
    "    and exports the training history into a .csv file, for each combination of hyper-parameters specified below.\n",
    "    \n",
    "    Parameters:\n",
    "    -model : The unmodified MobileNetV2 model\n",
    "    \n",
    "    \"\"\"\n",
    "    \n",
    "    # Searching parameters\n",
    "    dropouts = [0.1, 0.3, 0.5]\n",
    "    weight_decays = [0.00001, 0.0001, 0.001, 0.01]\n",
    "    learning_rates = [0.0005, 0.001, 0.005]\n",
    "    \n",
    "    # Local variables\n",
    "    histories = []\n",
    "    step = 0\n",
    "    \n",
    "    # Prepare the csv file to export the histories\n",
    "    csv_columns = ['val_loss','val_accuracy','loss','accuracy','dropout','weight_decay','learning_rate']\n",
    "    csv_file = open(\"gridsearch.csv\", \"a\")\n",
    "    writer = csv.DictWriter(csv_file, fieldnames = csv_columns)    \n",
    "    writer.writeheader()    \n",
    "\n",
    "    for d in dropouts:\n",
    "        for wd in weight_decays:\n",
    "            for lrate in learning_rates:\n",
    "                \n",
    "                    # Clone the MobileNetV2\n",
    "                    m = clone_model(model)\n",
    "                    m.set_weights(model.get_weights())\n",
    "                    \n",
    "                    # Add a dropout before the last layer to regularize\n",
    "                    x = (Dropout(rate = d, input_shape=(1280,)))(m.layers[-2].output)\n",
    "                    \n",
    "                    # Change the last layer to a 6 class classification layer with a softmax activation function combined with a weight decay\n",
    "                    last_layer = Dense(6, kernel_regularizer = l2(wd), activation = 'softmax')(x)\n",
    "                    m = Model(inputs = m.input, outputs = last_layer)\n",
    "                    \n",
    "                    # Freezing the already trained layers so that their parameters don't get updated when training the last layer\n",
    "                    for layer in m.layers[:-1]:\n",
    "                        layer.trainable = False\n",
    "                        \n",
    "                    # Compile the model, use an Adam optimizer\n",
    "                    m.compile(Adam(lr = lrate), loss = loss_f, metrics = ['accuracy'])\n",
    "                    history = m.fit_generator(train_batches, validation_data = valid_batches, epochs = n_epochs, verbose = 0)\n",
    "                    \n",
    "                    # Save the history\n",
    "                    history.history['dropout'] = d\n",
    "                    history.history['weight_decay'] = wd\n",
    "                    history.history['learning_rate'] = lrate\n",
    "                    writer.writerow(history.history)\n",
    "                    \n",
    "                    # Increment the step\n",
    "                    print(\"\\nStep : \", step)\n",
    "                    step += 1\n",
    "    \n",
    "    # Return the histories\n",
    "    csv_file.close()\n",
    "    return histories"
   ]
  },
  {
   "cell_type": "code",
   "execution_count": 542,
   "metadata": {},
   "outputs": [],
   "source": [
    "# Grid search to tune the learning rate, dropout rate and weight decay, over 25 epochs\n",
    "\n",
    "# grid_search(keras.applications.mobilenet_v2.MobileNetV2())"
   ]
  },
  {
   "cell_type": "markdown",
   "metadata": {},
   "source": [
    "### _Find the best hyper-parameters_"
   ]
  },
  {
   "cell_type": "code",
   "execution_count": 543,
   "metadata": {},
   "outputs": [
    {
     "data": {
      "text/html": [
       "<div>\n",
       "<style scoped>\n",
       "    .dataframe tbody tr th:only-of-type {\n",
       "        vertical-align: middle;\n",
       "    }\n",
       "\n",
       "    .dataframe tbody tr th {\n",
       "        vertical-align: top;\n",
       "    }\n",
       "\n",
       "    .dataframe thead th {\n",
       "        text-align: right;\n",
       "    }\n",
       "</style>\n",
       "<table border=\"1\" class=\"dataframe\">\n",
       "  <thead>\n",
       "    <tr style=\"text-align: right;\">\n",
       "      <th></th>\n",
       "      <th>val_loss</th>\n",
       "      <th>val_accuracy</th>\n",
       "      <th>loss</th>\n",
       "      <th>accuracy</th>\n",
       "      <th>dropout</th>\n",
       "      <th>weight_decay</th>\n",
       "      <th>learning_rate</th>\n",
       "    </tr>\n",
       "  </thead>\n",
       "  <tbody>\n",
       "    <tr>\n",
       "      <th>0</th>\n",
       "      <td>[1.0036860704421997, 0.6715518236160278, 0.508...</td>\n",
       "      <td>[0.6348074078559875, 0.7631954550743103, 0.787...</td>\n",
       "      <td>[1.6311353370335027, 0.9574710799757912, 0.726...</td>\n",
       "      <td>[0.35363248, 0.6442308, 0.73183763, 0.7934473,...</td>\n",
       "      <td>0.1</td>\n",
       "      <td>0.00001</td>\n",
       "      <td>0.0005</td>\n",
       "    </tr>\n",
       "    <tr>\n",
       "      <th>1</th>\n",
       "      <td>[0.784997820854187, 0.5298510193824768, 0.4312...</td>\n",
       "      <td>[0.7489300966262817, 0.7774607539176941, 0.807...</td>\n",
       "      <td>[1.374940718680705, 0.652715831400662, 0.51949...</td>\n",
       "      <td>[0.47792023, 0.7724359, 0.8158832, 0.84045583,...</td>\n",
       "      <td>0.1</td>\n",
       "      <td>0.00001</td>\n",
       "      <td>0.0010</td>\n",
       "    </tr>\n",
       "    <tr>\n",
       "      <th>2</th>\n",
       "      <td>[0.29699084162712097, 0.2648340165615082, 0.31...</td>\n",
       "      <td>[0.855920135974884, 0.8502140045166016, 0.8516...</td>\n",
       "      <td>[0.8152461848367653, 0.43527393785976615, 0.37...</td>\n",
       "      <td>[0.70263535, 0.84508544, 0.8593305, 0.8742877,...</td>\n",
       "      <td>0.1</td>\n",
       "      <td>0.00001</td>\n",
       "      <td>0.0050</td>\n",
       "    </tr>\n",
       "    <tr>\n",
       "      <th>3</th>\n",
       "      <td>[1.0670417547225952, 0.5748893022537231, 0.704...</td>\n",
       "      <td>[0.6262482404708862, 0.7774607539176941, 0.803...</td>\n",
       "      <td>[1.7043640552422938, 0.9793478352391821, 0.724...</td>\n",
       "      <td>[0.3340456, 0.63924503, 0.74572647, 0.77884614...</td>\n",
       "      <td>0.1</td>\n",
       "      <td>0.00010</td>\n",
       "      <td>0.0005</td>\n",
       "    </tr>\n",
       "    <tr>\n",
       "      <th>4</th>\n",
       "      <td>[0.7067393660545349, 0.48477134108543396, 0.47...</td>\n",
       "      <td>[0.8059914112091064, 0.8330955505371094, 0.828...</td>\n",
       "      <td>[1.245724800984744, 0.6372891248461188, 0.5093...</td>\n",
       "      <td>[0.519943, 0.75498575, 0.82229346, 0.8326211, ...</td>\n",
       "      <td>0.1</td>\n",
       "      <td>0.00010</td>\n",
       "      <td>0.0010</td>\n",
       "    </tr>\n",
       "  </tbody>\n",
       "</table>\n",
       "</div>"
      ],
      "text/plain": [
       "                                            val_loss  \\\n",
       "0  [1.0036860704421997, 0.6715518236160278, 0.508...   \n",
       "1  [0.784997820854187, 0.5298510193824768, 0.4312...   \n",
       "2  [0.29699084162712097, 0.2648340165615082, 0.31...   \n",
       "3  [1.0670417547225952, 0.5748893022537231, 0.704...   \n",
       "4  [0.7067393660545349, 0.48477134108543396, 0.47...   \n",
       "\n",
       "                                        val_accuracy  \\\n",
       "0  [0.6348074078559875, 0.7631954550743103, 0.787...   \n",
       "1  [0.7489300966262817, 0.7774607539176941, 0.807...   \n",
       "2  [0.855920135974884, 0.8502140045166016, 0.8516...   \n",
       "3  [0.6262482404708862, 0.7774607539176941, 0.803...   \n",
       "4  [0.8059914112091064, 0.8330955505371094, 0.828...   \n",
       "\n",
       "                                                loss  \\\n",
       "0  [1.6311353370335027, 0.9574710799757912, 0.726...   \n",
       "1  [1.374940718680705, 0.652715831400662, 0.51949...   \n",
       "2  [0.8152461848367653, 0.43527393785976615, 0.37...   \n",
       "3  [1.7043640552422938, 0.9793478352391821, 0.724...   \n",
       "4  [1.245724800984744, 0.6372891248461188, 0.5093...   \n",
       "\n",
       "                                            accuracy  dropout  weight_decay  \\\n",
       "0  [0.35363248, 0.6442308, 0.73183763, 0.7934473,...      0.1       0.00001   \n",
       "1  [0.47792023, 0.7724359, 0.8158832, 0.84045583,...      0.1       0.00001   \n",
       "2  [0.70263535, 0.84508544, 0.8593305, 0.8742877,...      0.1       0.00001   \n",
       "3  [0.3340456, 0.63924503, 0.74572647, 0.77884614...      0.1       0.00010   \n",
       "4  [0.519943, 0.75498575, 0.82229346, 0.8326211, ...      0.1       0.00010   \n",
       "\n",
       "   learning_rate  \n",
       "0         0.0005  \n",
       "1         0.0010  \n",
       "2         0.0050  \n",
       "3         0.0005  \n",
       "4         0.0010  "
      ]
     },
     "execution_count": 543,
     "metadata": {},
     "output_type": "execute_result"
    }
   ],
   "source": [
    "# Load the saved training histories of the grid search algorithm\n",
    "df = pd.read_csv('gridsearch.csv')\n",
    "df.head()"
   ]
  },
  {
   "cell_type": "code",
   "execution_count": 544,
   "metadata": {},
   "outputs": [
    {
     "data": {
      "application/vnd.plotly.v1+json": {
       "config": {
        "plotlyServerURL": "https://plot.ly"
       },
       "data": [
        {
         "legendgroup": "0",
         "line": {
          "color": "#5fa8d3",
          "width": 1
         },
         "marker": {
          "size": 4
         },
         "mode": "lines+markers",
         "name": "W.D. : 1e-05",
         "showlegend": true,
         "type": "scatter",
         "x": [
          0,
          1,
          2,
          3,
          4,
          5,
          6,
          7,
          8,
          9,
          10,
          11,
          12,
          13,
          14,
          15,
          16,
          17,
          18,
          19,
          20,
          21,
          22,
          23,
          24
         ],
         "xaxis": "x",
         "y": [
          0.6348074078559875,
          0.7631954550743103,
          0.7874464988708496,
          0.800285279750824,
          0.8445078730583191,
          0.851640522480011,
          0.8544935584068298,
          0.851640522480011,
          0.855920135974884,
          0.8659058213233948,
          0.851640522480011,
          0.8616262674331665,
          0.8616262674331665,
          0.8530670404434204,
          0.8573466539382935,
          0.8659058213233948,
          0.871612012386322,
          0.8587731719017029,
          0.8773181438446045,
          0.8630527853965759,
          0.8701854348182678,
          0.8730385303497314,
          0.8730385303497314,
          0.871612012386322,
          0.8730385303497314
         ],
         "yaxis": "y"
        },
        {
         "legendgroup": "1",
         "line": {
          "color": "#1bc965",
          "width": 1
         },
         "marker": {
          "size": 4
         },
         "mode": "lines+markers",
         "name": "W.D. : 0.0001",
         "showlegend": true,
         "type": "scatter",
         "x": [
          0,
          1,
          2,
          3,
          4,
          5,
          6,
          7,
          8,
          9,
          10,
          11,
          12,
          13,
          14,
          15,
          16,
          17,
          18,
          19,
          20,
          21,
          22,
          23,
          24
         ],
         "xaxis": "x",
         "y": [
          0.6262482404708862,
          0.7774607539176941,
          0.8031383752822876,
          0.820256769657135,
          0.8017118573188782,
          0.8131241202354431,
          0.8245363831520081,
          0.820256769657135,
          0.8259629011154175,
          0.8074179887771606,
          0.8345221281051636,
          0.8116976022720337,
          0.8388017416000366,
          0.8231098651885986,
          0.8330955505371094,
          0.8245363831520081,
          0.835948646068573,
          0.840228259563446,
          0.8430812954902649,
          0.8388017416000366,
          0.8330955505371094,
          0.835948646068573,
          0.8445078730583191,
          0.851640522480011,
          0.8373751640319824
         ],
         "yaxis": "y"
        },
        {
         "legendgroup": "2",
         "line": {
          "color": "#5266cb",
          "width": 1
         },
         "marker": {
          "size": 4
         },
         "mode": "lines+markers",
         "name": "W.D. : 0.001",
         "showlegend": true,
         "type": "scatter",
         "x": [
          0,
          1,
          2,
          3,
          4,
          5,
          6,
          7,
          8,
          9,
          10,
          11,
          12,
          13,
          14,
          15,
          16,
          17,
          18,
          19,
          20,
          21,
          22,
          23,
          24
         ],
         "xaxis": "x",
         "y": [
          0.651925802230835,
          0.7589158415794373,
          0.788873016834259,
          0.815977156162262,
          0.8116976022720337,
          0.815977156162262,
          0.8273894190788269,
          0.8388017416000366,
          0.8445078730583191,
          0.8502140045166016,
          0.8373751640319824,
          0.8373751640319824,
          0.8445078730583191,
          0.8430812954902649,
          0.8459343910217285,
          0.8445078730583191,
          0.8473609089851379,
          0.8473609089851379,
          0.8587731719017029,
          0.8544935584068298,
          0.8473609089851379,
          0.8487874269485474,
          0.8388017416000366,
          0.8487874269485474,
          0.851640522480011
         ],
         "yaxis": "y"
        },
        {
         "legendgroup": "3",
         "line": {
          "color": "#be59e8",
          "width": 1
         },
         "marker": {
          "size": 4
         },
         "mode": "lines+markers",
         "name": "W.D. : 0.01",
         "showlegend": true,
         "type": "scatter",
         "x": [
          0,
          1,
          2,
          3,
          4,
          5,
          6,
          7,
          8,
          9,
          10,
          11,
          12,
          13,
          14,
          15,
          16,
          17,
          18,
          19,
          20,
          21,
          22,
          23,
          24
         ],
         "xaxis": "x",
         "y": [
          0.6647646427154541,
          0.8088445067405701,
          0.8273894190788269,
          0.820256769657135,
          0.8188302516937256,
          0.815977156162262,
          0.8502140045166016,
          0.8373751640319824,
          0.8502140045166016,
          0.8587731719017029,
          0.8459343910217285,
          0.8573466539382935,
          0.867332398891449,
          0.8744650483131409,
          0.8758915662765503,
          0.8587731719017029,
          0.8601996898651123,
          0.8701854348182678,
          0.8730385303497314,
          0.8473609089851379,
          0.8601996898651123,
          0.8758915662765503,
          0.8659058213233948,
          0.8701854348182678,
          0.867332398891449
         ],
         "yaxis": "y"
        },
        {
         "legendgroup": "0",
         "line": {
          "color": "#5fa8d3",
          "width": 1
         },
         "marker": {
          "size": 4
         },
         "mode": "lines+markers",
         "name": "W.D. : 1e-05",
         "showlegend": false,
         "type": "scatter",
         "x": [
          0,
          1,
          2,
          3,
          4,
          5,
          6,
          7,
          8,
          9,
          10,
          11,
          12,
          13,
          14,
          15,
          16,
          17,
          18,
          19,
          20,
          21,
          22,
          23,
          24
         ],
         "xaxis": "x2",
         "y": [
          0.7489300966262817,
          0.7774607539176941,
          0.8074179887771606,
          0.7988587617874146,
          0.8573466539382935,
          0.8459343910217285,
          0.867332398891449,
          0.840228259563446,
          0.8644793033599854,
          0.8687589168548584,
          0.8373751640319824,
          0.8659058213233948,
          0.8730385303497314,
          0.8687589168548584,
          0.8730385303497314,
          0.8601996898651123,
          0.8801711797714233,
          0.871612012386322,
          0.8644793033599854,
          0.8758915662765503,
          0.8730385303497314,
          0.8601996898651123,
          0.8701854348182678,
          0.8659058213233948,
          0.867332398891449
         ],
         "yaxis": "y2"
        },
        {
         "legendgroup": "1",
         "line": {
          "color": "#1bc965",
          "width": 1
         },
         "marker": {
          "size": 4
         },
         "mode": "lines+markers",
         "name": "W.D. : 0.0001",
         "showlegend": false,
         "type": "scatter",
         "x": [
          0,
          1,
          2,
          3,
          4,
          5,
          6,
          7,
          8,
          9,
          10,
          11,
          12,
          13,
          14,
          15,
          16,
          17,
          18,
          19,
          20,
          21,
          22,
          23,
          24
         ],
         "xaxis": "x2",
         "y": [
          0.8059914112091064,
          0.8330955505371094,
          0.8288159966468811,
          0.8502140045166016,
          0.8430812954902649,
          0.8473609089851379,
          0.8487874269485474,
          0.8487874269485474,
          0.8487874269485474,
          0.867332398891449,
          0.8316690325737,
          0.8573466539382935,
          0.871612012386322,
          0.8744650483131409,
          0.855920135974884,
          0.840228259563446,
          0.8701854348182678,
          0.8644793033599854,
          0.8601996898651123,
          0.8701854348182678,
          0.8573466539382935,
          0.8530670404434204,
          0.8445078730583191,
          0.8430812954902649,
          0.851640522480011
         ],
         "yaxis": "y2"
        },
        {
         "legendgroup": "2",
         "line": {
          "color": "#5266cb",
          "width": 1
         },
         "marker": {
          "size": 4
         },
         "mode": "lines+markers",
         "name": "W.D. : 0.001",
         "showlegend": false,
         "type": "scatter",
         "x": [
          0,
          1,
          2,
          3,
          4,
          5,
          6,
          7,
          8,
          9,
          10,
          11,
          12,
          13,
          14,
          15,
          16,
          17,
          18,
          19,
          20,
          21,
          22,
          23,
          24
         ],
         "xaxis": "x2",
         "y": [
          0.7475035786628723,
          0.788873016834259,
          0.8074179887771606,
          0.8473609089851379,
          0.8330955505371094,
          0.8245363831520081,
          0.8659058213233948,
          0.8530670404434204,
          0.8701854348182678,
          0.855920135974884,
          0.8616262674331665,
          0.8573466539382935,
          0.8701854348182678,
          0.8573466539382935,
          0.8644793033599854,
          0.8573466539382935,
          0.855920135974884,
          0.8601996898651123,
          0.867332398891449,
          0.851640522480011,
          0.8744650483131409,
          0.8616262674331665,
          0.851640522480011,
          0.8544935584068298,
          0.851640522480011
         ],
         "yaxis": "y2"
        },
        {
         "legendgroup": "3",
         "line": {
          "color": "#be59e8",
          "width": 1
         },
         "marker": {
          "size": 4
         },
         "mode": "lines+markers",
         "name": "W.D. : 0.01",
         "showlegend": false,
         "type": "scatter",
         "x": [
          0,
          1,
          2,
          3,
          4,
          5,
          6,
          7,
          8,
          9,
          10,
          11,
          12,
          13,
          14,
          15,
          16,
          17,
          18,
          19,
          20,
          21,
          22,
          23,
          24
         ],
         "xaxis": "x2",
         "y": [
          0.7931526303291321,
          0.7845934629440308,
          0.8131241202354431,
          0.7931526303291321,
          0.8416547775268555,
          0.8017118573188782,
          0.8416547775268555,
          0.8345221281051636,
          0.8174037337303162,
          0.840228259563446,
          0.8473609089851379,
          0.8502140045166016,
          0.8145506381988525,
          0.840228259563446,
          0.835948646068573,
          0.8487874269485474,
          0.8373751640319824,
          0.8473609089851379,
          0.8245363831520081,
          0.855920135974884,
          0.8502140045166016,
          0.8644793033599854,
          0.8701854348182678,
          0.8644793033599854,
          0.8687589168548584
         ],
         "yaxis": "y2"
        },
        {
         "legendgroup": "0",
         "line": {
          "color": "#5fa8d3",
          "width": 1
         },
         "marker": {
          "size": 4
         },
         "mode": "lines+markers",
         "name": "W.D. : 1e-05",
         "showlegend": false,
         "type": "scatter",
         "x": [
          0,
          1,
          2,
          3,
          4,
          5,
          6,
          7,
          8,
          9,
          10,
          11,
          12,
          13,
          14,
          15,
          16,
          17,
          18,
          19,
          20,
          21,
          22,
          23,
          24
         ],
         "xaxis": "x3",
         "y": [
          0.855920135974884,
          0.8502140045166016,
          0.851640522480011,
          0.871612012386322,
          0.8644793033599854,
          0.8530670404434204,
          0.820256769657135,
          0.8445078730583191,
          0.8330955505371094,
          0.8373751640319824,
          0.8345221281051636,
          0.7860199809074402,
          0.8544935584068298,
          0.8616262674331665,
          0.8316690325737,
          0.8330955505371094,
          0.8459343910217285,
          0.8302425146102905,
          0.7974322438240051,
          0.8273894190788269,
          0.804564893245697,
          0.7845934629440308,
          0.800285279750824,
          0.8502140045166016,
          0.815977156162262
         ],
         "yaxis": "y3"
        },
        {
         "legendgroup": "1",
         "line": {
          "color": "#1bc965",
          "width": 1
         },
         "marker": {
          "size": 4
         },
         "mode": "lines+markers",
         "name": "W.D. : 0.0001",
         "showlegend": false,
         "type": "scatter",
         "x": [
          0,
          1,
          2,
          3,
          4,
          5,
          6,
          7,
          8,
          9,
          10,
          11,
          12,
          13,
          14,
          15,
          16,
          17,
          18,
          19,
          20,
          21,
          22,
          23,
          24
         ],
         "xaxis": "x3",
         "y": [
          0.835948646068573,
          0.855920135974884,
          0.8659058213233948,
          0.8416547775268555,
          0.8473609089851379,
          0.8459343910217285,
          0.8416547775268555,
          0.8487874269485474,
          0.8216832876205444,
          0.871612012386322,
          0.8031383752822876,
          0.8330955505371094,
          0.8302425146102905,
          0.835948646068573,
          0.8430812954902649,
          0.855920135974884,
          0.8259629011154175,
          0.8445078730583191,
          0.840228259563446,
          0.8259629011154175,
          0.8701854348182678,
          0.8630527853965759,
          0.8473609089851379,
          0.8302425146102905,
          0.8630527853965759
         ],
         "yaxis": "y3"
        },
        {
         "legendgroup": "2",
         "line": {
          "color": "#5266cb",
          "width": 1
         },
         "marker": {
          "size": 4
         },
         "mode": "lines+markers",
         "name": "W.D. : 0.001",
         "showlegend": false,
         "type": "scatter",
         "x": [
          0,
          1,
          2,
          3,
          4,
          5,
          6,
          7,
          8,
          9,
          10,
          11,
          12,
          13,
          14,
          15,
          16,
          17,
          18,
          19,
          20,
          21,
          22,
          23,
          24
         ],
         "xaxis": "x3",
         "y": [
          0.8345221281051636,
          0.8659058213233948,
          0.8487874269485474,
          0.8459343910217285,
          0.8174037337303162,
          0.804564893245697,
          0.7803138494491577,
          0.8544935584068298,
          0.8616262674331665,
          0.815977156162262,
          0.8373751640319824,
          0.8445078730583191,
          0.8530670404434204,
          0.8445078730583191,
          0.8302425146102905,
          0.7931526303291321,
          0.8630527853965759,
          0.8730385303497314,
          0.8758915662765503,
          0.840228259563446,
          0.804564893245697,
          0.851640522480011,
          0.8530670404434204,
          0.8573466539382935,
          0.855920135974884
         ],
         "yaxis": "y3"
        },
        {
         "legendgroup": "3",
         "line": {
          "color": "#be59e8",
          "width": 1
         },
         "marker": {
          "size": 4
         },
         "mode": "lines+markers",
         "name": "W.D. : 0.01",
         "showlegend": false,
         "type": "scatter",
         "x": [
          0,
          1,
          2,
          3,
          4,
          5,
          6,
          7,
          8,
          9,
          10,
          11,
          12,
          13,
          14,
          15,
          16,
          17,
          18,
          19,
          20,
          21,
          22,
          23,
          24
         ],
         "xaxis": "x3",
         "y": [
          0.855920135974884,
          0.8345221281051636,
          0.8801711797714233,
          0.7917261123657227,
          0.851640522480011,
          0.8102710247039795,
          0.8473609089851379,
          0.8587731719017029,
          0.7917261123657227,
          0.855920135974884,
          0.8131241202354431,
          0.8730385303497314,
          0.8473609089851379,
          0.8388017416000366,
          0.8587731719017029,
          0.8530670404434204,
          0.8430812954902649,
          0.8188302516937256,
          0.8273894190788269,
          0.8730385303497314,
          0.8445078730583191,
          0.788873016834259,
          0.867332398891449,
          0.7831668853759766,
          0.8174037337303162
         ],
         "yaxis": "y3"
        },
        {
         "legendgroup": "0",
         "line": {
          "color": "#5fa8d3",
          "width": 1
         },
         "marker": {
          "size": 4
         },
         "mode": "lines+markers",
         "name": "W.D. : 1e-05",
         "showlegend": false,
         "type": "scatter",
         "x": [
          0,
          1,
          2,
          3,
          4,
          5,
          6,
          7,
          8,
          9,
          10,
          11,
          12,
          13,
          14,
          15,
          16,
          17,
          18,
          19,
          20,
          21,
          22,
          23,
          24
         ],
         "xaxis": "x4",
         "y": [
          0.6305277943611145,
          0.7503566145896912,
          0.804564893245697,
          0.8345221281051636,
          0.8345221281051636,
          0.8259629011154175,
          0.8288159966468811,
          0.840228259563446,
          0.8487874269485474,
          0.8273894190788269,
          0.855920135974884,
          0.8544935584068298,
          0.8388017416000366,
          0.8502140045166016,
          0.8416547775268555,
          0.8502140045166016,
          0.8659058213233948,
          0.8601996898651123,
          0.8616262674331665,
          0.8630527853965759,
          0.8630527853965759,
          0.8659058213233948,
          0.8587731719017029,
          0.8459343910217285,
          0.8587731719017029
         ],
         "yaxis": "y4"
        },
        {
         "legendgroup": "1",
         "line": {
          "color": "#1bc965",
          "width": 1
         },
         "marker": {
          "size": 4
         },
         "mode": "lines+markers",
         "name": "W.D. : 0.0001",
         "showlegend": false,
         "type": "scatter",
         "x": [
          0,
          1,
          2,
          3,
          4,
          5,
          6,
          7,
          8,
          9,
          10,
          11,
          12,
          13,
          14,
          15,
          16,
          17,
          18,
          19,
          20,
          21,
          22,
          23,
          24
         ],
         "xaxis": "x4",
         "y": [
          0.7061340808868408,
          0.800285279750824,
          0.8216832876205444,
          0.8430812954902649,
          0.835948646068573,
          0.8459343910217285,
          0.8373751640319824,
          0.8601996898651123,
          0.8601996898651123,
          0.8530670404434204,
          0.8587731719017029,
          0.851640522480011,
          0.8616262674331665,
          0.855920135974884,
          0.8601996898651123,
          0.855920135974884,
          0.8473609089851379,
          0.8487874269485474,
          0.8459343910217285,
          0.8630527853965759,
          0.8530670404434204,
          0.851640522480011,
          0.8701854348182678,
          0.8601996898651123,
          0.8487874269485474
         ],
         "yaxis": "y4"
        },
        {
         "legendgroup": "2",
         "line": {
          "color": "#5266cb",
          "width": 1
         },
         "marker": {
          "size": 4
         },
         "mode": "lines+markers",
         "name": "W.D. : 0.001",
         "showlegend": false,
         "type": "scatter",
         "x": [
          0,
          1,
          2,
          3,
          4,
          5,
          6,
          7,
          8,
          9,
          10,
          11,
          12,
          13,
          14,
          15,
          16,
          17,
          18,
          19,
          20,
          21,
          22,
          23,
          24
         ],
         "xaxis": "x4",
         "y": [
          0.6633380651473999,
          0.7417974472045898,
          0.7660484910011292,
          0.7974322438240051,
          0.804564893245697,
          0.8231098651885986,
          0.8487874269485474,
          0.8373751640319824,
          0.8487874269485474,
          0.8630527853965759,
          0.8701854348182678,
          0.8701854348182678,
          0.8630527853965759,
          0.8659058213233948,
          0.8687589168548584,
          0.8573466539382935,
          0.8687589168548584,
          0.8773181438446045,
          0.8630527853965759,
          0.871612012386322,
          0.8573466539382935,
          0.8644793033599854,
          0.8758915662765503,
          0.8687589168548584,
          0.8659058213233948
         ],
         "yaxis": "y4"
        },
        {
         "legendgroup": "3",
         "line": {
          "color": "#be59e8",
          "width": 1
         },
         "marker": {
          "size": 4
         },
         "mode": "lines+markers",
         "name": "W.D. : 0.01",
         "showlegend": false,
         "type": "scatter",
         "x": [
          0,
          1,
          2,
          3,
          4,
          5,
          6,
          7,
          8,
          9,
          10,
          11,
          12,
          13,
          14,
          15,
          16,
          17,
          18,
          19,
          20,
          21,
          22,
          23,
          24
         ],
         "xaxis": "x4",
         "y": [
          0.6348074078559875,
          0.7902995944023132,
          0.8388017416000366,
          0.8345221281051636,
          0.8430812954902649,
          0.8502140045166016,
          0.8644793033599854,
          0.8445078730583191,
          0.8630527853965759,
          0.867332398891449,
          0.8701854348182678,
          0.8587731719017029,
          0.8630527853965759,
          0.8773181438446045,
          0.8630527853965759,
          0.8587731719017029,
          0.8858773112297058,
          0.8630527853965759,
          0.8787446618080139,
          0.8587731719017029,
          0.871612012386322,
          0.8744650483131409,
          0.8773181438446045,
          0.8687589168548584,
          0.8616262674331665
         ],
         "yaxis": "y4"
        },
        {
         "legendgroup": "0",
         "line": {
          "color": "#5fa8d3",
          "width": 1
         },
         "marker": {
          "size": 4
         },
         "mode": "lines+markers",
         "name": "W.D. : 1e-05",
         "showlegend": false,
         "type": "scatter",
         "x": [
          0,
          1,
          2,
          3,
          4,
          5,
          6,
          7,
          8,
          9,
          10,
          11,
          12,
          13,
          14,
          15,
          16,
          17,
          18,
          19,
          20,
          21,
          22,
          23,
          24
         ],
         "xaxis": "x5",
         "y": [
          0.7803138494491577,
          0.8102710247039795,
          0.8131241202354431,
          0.8302425146102905,
          0.8459343910217285,
          0.8487874269485474,
          0.8330955505371094,
          0.8459343910217285,
          0.8544935584068298,
          0.8616262674331665,
          0.8659058213233948,
          0.8473609089851379,
          0.867332398891449,
          0.8430812954902649,
          0.855920135974884,
          0.8601996898651123,
          0.855920135974884,
          0.871612012386322,
          0.8502140045166016,
          0.8473609089851379,
          0.8487874269485474,
          0.8544935584068298,
          0.8544935584068298,
          0.8330955505371094,
          0.871612012386322
         ],
         "yaxis": "y5"
        },
        {
         "legendgroup": "1",
         "line": {
          "color": "#1bc965",
          "width": 1
         },
         "marker": {
          "size": 4
         },
         "mode": "lines+markers",
         "name": "W.D. : 0.0001",
         "showlegend": false,
         "type": "scatter",
         "x": [
          0,
          1,
          2,
          3,
          4,
          5,
          6,
          7,
          8,
          9,
          10,
          11,
          12,
          13,
          14,
          15,
          16,
          17,
          18,
          19,
          20,
          21,
          22,
          23,
          24
         ],
         "xaxis": "x5",
         "y": [
          0.7446504831314087,
          0.7974322438240051,
          0.800285279750824,
          0.8302425146102905,
          0.8430812954902649,
          0.8345221281051636,
          0.8388017416000366,
          0.8330955505371094,
          0.8473609089851379,
          0.8316690325737,
          0.8473609089851379,
          0.8544935584068298,
          0.8445078730583191,
          0.8601996898651123,
          0.855920135974884,
          0.8587731719017029,
          0.8473609089851379,
          0.8544935584068298,
          0.851640522480011,
          0.835948646068573,
          0.8459343910217285,
          0.8587731719017029,
          0.8701854348182678,
          0.8630527853965759,
          0.8587731719017029
         ],
         "yaxis": "y5"
        },
        {
         "legendgroup": "2",
         "line": {
          "color": "#5266cb",
          "width": 1
         },
         "marker": {
          "size": 4
         },
         "mode": "lines+markers",
         "name": "W.D. : 0.001",
         "showlegend": false,
         "type": "scatter",
         "x": [
          0,
          1,
          2,
          3,
          4,
          5,
          6,
          7,
          8,
          9,
          10,
          11,
          12,
          13,
          14,
          15,
          16,
          17,
          18,
          19,
          20,
          21,
          22,
          23,
          24
         ],
         "xaxis": "x5",
         "y": [
          0.7660484910011292,
          0.8088445067405701,
          0.8245363831520081,
          0.8487874269485474,
          0.8231098651885986,
          0.8445078730583191,
          0.855920135974884,
          0.855920135974884,
          0.851640522480011,
          0.855920135974884,
          0.8544935584068298,
          0.8659058213233948,
          0.867332398891449,
          0.8587731719017029,
          0.8616262674331665,
          0.8430812954902649,
          0.8302425146102905,
          0.8573466539382935,
          0.855920135974884,
          0.8445078730583191,
          0.851640522480011,
          0.8573466539382935,
          0.8473609089851379,
          0.8601996898651123,
          0.8601996898651123
         ],
         "yaxis": "y5"
        },
        {
         "legendgroup": "3",
         "line": {
          "color": "#be59e8",
          "width": 1
         },
         "marker": {
          "size": 4
         },
         "mode": "lines+markers",
         "name": "W.D. : 0.01",
         "showlegend": false,
         "type": "scatter",
         "x": [
          0,
          1,
          2,
          3,
          4,
          5,
          6,
          7,
          8,
          9,
          10,
          11,
          12,
          13,
          14,
          15,
          16,
          17,
          18,
          19,
          20,
          21,
          22,
          23,
          24
         ],
         "xaxis": "x5",
         "y": [
          0.7931526303291321,
          0.8273894190788269,
          0.8330955505371094,
          0.8544935584068298,
          0.8630527853965759,
          0.8630527853965759,
          0.8573466539382935,
          0.867332398891449,
          0.8701854348182678,
          0.8687589168548584,
          0.8659058213233948,
          0.871612012386322,
          0.8758915662765503,
          0.8758915662765503,
          0.8601996898651123,
          0.8701854348182678,
          0.8659058213233948,
          0.8644793033599854,
          0.8487874269485474,
          0.8773181438446045,
          0.8188302516937256,
          0.8687589168548584,
          0.8373751640319824,
          0.8587731719017029,
          0.867332398891449
         ],
         "yaxis": "y5"
        },
        {
         "legendgroup": "0",
         "line": {
          "color": "#5fa8d3",
          "width": 1
         },
         "marker": {
          "size": 4
         },
         "mode": "lines+markers",
         "name": "W.D. : 1e-05",
         "showlegend": false,
         "type": "scatter",
         "x": [
          0,
          1,
          2,
          3,
          4,
          5,
          6,
          7,
          8,
          9,
          10,
          11,
          12,
          13,
          14,
          15,
          16,
          17,
          18,
          19,
          20,
          21,
          22,
          23,
          24
         ],
         "xaxis": "x6",
         "y": [
          0.7831668853759766,
          0.835948646068573,
          0.8416547775268555,
          0.8145506381988525,
          0.8544935584068298,
          0.8430812954902649,
          0.8373751640319824,
          0.8102710247039795,
          0.851640522480011,
          0.8644793033599854,
          0.8573466539382935,
          0.7917261123657227,
          0.8174037337303162,
          0.8487874269485474,
          0.8388017416000366,
          0.8473609089851379,
          0.8701854348182678,
          0.8430812954902649,
          0.8601996898651123,
          0.8445078730583191,
          0.8330955505371094,
          0.8388017416000366,
          0.8288159966468811,
          0.8345221281051636,
          0.8502140045166016
         ],
         "yaxis": "y6"
        },
        {
         "legendgroup": "1",
         "line": {
          "color": "#1bc965",
          "width": 1
         },
         "marker": {
          "size": 4
         },
         "mode": "lines+markers",
         "name": "W.D. : 0.0001",
         "showlegend": false,
         "type": "scatter",
         "x": [
          0,
          1,
          2,
          3,
          4,
          5,
          6,
          7,
          8,
          9,
          10,
          11,
          12,
          13,
          14,
          15,
          16,
          17,
          18,
          19,
          20,
          21,
          22,
          23,
          24
         ],
         "xaxis": "x6",
         "y": [
          0.8116976022720337,
          0.8573466539382935,
          0.855920135974884,
          0.820256769657135,
          0.8587731719017029,
          0.8288159966468811,
          0.8587731719017029,
          0.8273894190788269,
          0.8530670404434204,
          0.8530670404434204,
          0.855920135974884,
          0.8430812954902649,
          0.8330955505371094,
          0.8288159966468811,
          0.8502140045166016,
          0.8288159966468811,
          0.8544935584068298,
          0.8587731719017029,
          0.8430812954902649,
          0.8445078730583191,
          0.8102710247039795,
          0.8074179887771606,
          0.8273894190788269,
          0.8587731719017029,
          0.8388017416000366
         ],
         "yaxis": "y6"
        },
        {
         "legendgroup": "2",
         "line": {
          "color": "#5266cb",
          "width": 1
         },
         "marker": {
          "size": 4
         },
         "mode": "lines+markers",
         "name": "W.D. : 0.001",
         "showlegend": false,
         "type": "scatter",
         "x": [
          0,
          1,
          2,
          3,
          4,
          5,
          6,
          7,
          8,
          9,
          10,
          11,
          12,
          13,
          14,
          15,
          16,
          17,
          18,
          19,
          20,
          21,
          22,
          23,
          24
         ],
         "xaxis": "x6",
         "y": [
          0.8587731719017029,
          0.8659058213233948,
          0.8787446618080139,
          0.840228259563446,
          0.8031383752822876,
          0.8430812954902649,
          0.8259629011154175,
          0.8687589168548584,
          0.8601996898651123,
          0.8430812954902649,
          0.851640522480011,
          0.8601996898651123,
          0.8487874269485474,
          0.8573466539382935,
          0.8473609089851379,
          0.8544935584068298,
          0.8302425146102905,
          0.8616262674331665,
          0.8601996898651123,
          0.871612012386322,
          0.8459343910217285,
          0.8473609089851379,
          0.840228259563446,
          0.855920135974884,
          0.8573466539382935
         ],
         "yaxis": "y6"
        },
        {
         "legendgroup": "3",
         "line": {
          "color": "#be59e8",
          "width": 1
         },
         "marker": {
          "size": 4
         },
         "mode": "lines+markers",
         "name": "W.D. : 0.01",
         "showlegend": false,
         "type": "scatter",
         "x": [
          0,
          1,
          2,
          3,
          4,
          5,
          6,
          7,
          8,
          9,
          10,
          11,
          12,
          13,
          14,
          15,
          16,
          17,
          18,
          19,
          20,
          21,
          22,
          23,
          24
         ],
         "xaxis": "x6",
         "y": [
          0.8601996898651123,
          0.8573466539382935,
          0.8587731719017029,
          0.8388017416000366,
          0.8616262674331665,
          0.871612012386322,
          0.8430812954902649,
          0.7974322438240051,
          0.8316690325737,
          0.8544935584068298,
          0.815977156162262,
          0.8259629011154175,
          0.8131241202354431,
          0.8302425146102905,
          0.8573466539382935,
          0.8416547775268555,
          0.835948646068573,
          0.7960057258605957,
          0.8530670404434204,
          0.855920135974884,
          0.8145506381988525,
          0.8102710247039795,
          0.8487874269485474,
          0.804564893245697,
          0.8573466539382935
         ],
         "yaxis": "y6"
        },
        {
         "legendgroup": "0",
         "line": {
          "color": "#5fa8d3",
          "width": 1
         },
         "marker": {
          "size": 4
         },
         "mode": "lines+markers",
         "name": "W.D. : 1e-05",
         "showlegend": false,
         "type": "scatter",
         "x": [
          0,
          1,
          2,
          3,
          4,
          5,
          6,
          7,
          8,
          9,
          10,
          11,
          12,
          13,
          14,
          15,
          16,
          17,
          18,
          19,
          20,
          21,
          22,
          23,
          24
         ],
         "xaxis": "x7",
         "y": [
          0.6547788977622986,
          0.7489300966262817,
          0.7945791482925415,
          0.8131241202354431,
          0.8216832876205444,
          0.8373751640319824,
          0.815977156162262,
          0.8388017416000366,
          0.8388017416000366,
          0.8316690325737,
          0.8573466539382935,
          0.8544935584068298,
          0.8644793033599854,
          0.8473609089851379,
          0.855920135974884,
          0.8616262674331665,
          0.8573466539382935,
          0.8630527853965759,
          0.867332398891449,
          0.8573466539382935,
          0.840228259563446,
          0.8630527853965759,
          0.8773181438446045,
          0.8630527853965759,
          0.8616262674331665
         ],
         "yaxis": "y7"
        },
        {
         "legendgroup": "1",
         "line": {
          "color": "#1bc965",
          "width": 1
         },
         "marker": {
          "size": 4
         },
         "mode": "lines+markers",
         "name": "W.D. : 0.0001",
         "showlegend": false,
         "type": "scatter",
         "x": [
          0,
          1,
          2,
          3,
          4,
          5,
          6,
          7,
          8,
          9,
          10,
          11,
          12,
          13,
          14,
          15,
          16,
          17,
          18,
          19,
          20,
          21,
          22,
          23,
          24
         ],
         "xaxis": "x7",
         "y": [
          0.5135520696640015,
          0.7631954550743103,
          0.7845934629440308,
          0.8174037337303162,
          0.8145506381988525,
          0.8416547775268555,
          0.8502140045166016,
          0.8288159966468811,
          0.8459343910217285,
          0.855920135974884,
          0.871612012386322,
          0.8573466539382935,
          0.8687589168548584,
          0.8815976977348328,
          0.8430812954902649,
          0.840228259563446,
          0.8758915662765503,
          0.8416547775268555,
          0.8659058213233948,
          0.8530670404434204,
          0.867332398891449,
          0.8730385303497314,
          0.8773181438446045,
          0.8815976977348328,
          0.8730385303497314
         ],
         "yaxis": "y7"
        },
        {
         "legendgroup": "2",
         "line": {
          "color": "#5266cb",
          "width": 1
         },
         "marker": {
          "size": 4
         },
         "mode": "lines+markers",
         "name": "W.D. : 0.001",
         "showlegend": false,
         "type": "scatter",
         "x": [
          0,
          1,
          2,
          3,
          4,
          5,
          6,
          7,
          8,
          9,
          10,
          11,
          12,
          13,
          14,
          15,
          16,
          17,
          18,
          19,
          20,
          21,
          22,
          23,
          24
         ],
         "xaxis": "x7",
         "y": [
          0.671897292137146,
          0.7432239651679993,
          0.7689015865325928,
          0.7874464988708496,
          0.7774607539176941,
          0.7803138494491577,
          0.8074179887771606,
          0.8116976022720337,
          0.8116976022720337,
          0.8245363831520081,
          0.820256769657135,
          0.8302425146102905,
          0.8388017416000366,
          0.8388017416000366,
          0.8430812954902649,
          0.851640522480011,
          0.8345221281051636,
          0.8487874269485474,
          0.8373751640319824,
          0.8473609089851379,
          0.8473609089851379,
          0.8473609089851379,
          0.8530670404434204,
          0.8644793033599854,
          0.867332398891449
         ],
         "yaxis": "y7"
        },
        {
         "legendgroup": "3",
         "line": {
          "color": "#be59e8",
          "width": 1
         },
         "marker": {
          "size": 4
         },
         "mode": "lines+markers",
         "name": "W.D. : 0.01",
         "showlegend": false,
         "type": "scatter",
         "x": [
          0,
          1,
          2,
          3,
          4,
          5,
          6,
          7,
          8,
          9,
          10,
          11,
          12,
          13,
          14,
          15,
          16,
          17,
          18,
          19,
          20,
          21,
          22,
          23,
          24
         ],
         "xaxis": "x7",
         "y": [
          0.6162624955177307,
          0.7360913157463074,
          0.7589158415794373,
          0.7974322438240051,
          0.815977156162262,
          0.8302425146102905,
          0.8031383752822876,
          0.8316690325737,
          0.8330955505371094,
          0.8416547775268555,
          0.8316690325737,
          0.8459343910217285,
          0.8373751640319824,
          0.8445078730583191,
          0.835948646068573,
          0.8373751640319824,
          0.8416547775268555,
          0.8459343910217285,
          0.8530670404434204,
          0.851640522480011,
          0.8430812954902649,
          0.8388017416000366,
          0.8416547775268555,
          0.867332398891449,
          0.8530670404434204
         ],
         "yaxis": "y7"
        },
        {
         "legendgroup": "0",
         "line": {
          "color": "#5fa8d3",
          "width": 1
         },
         "marker": {
          "size": 4
         },
         "mode": "lines+markers",
         "name": "W.D. : 1e-05",
         "showlegend": false,
         "type": "scatter",
         "x": [
          0,
          1,
          2,
          3,
          4,
          5,
          6,
          7,
          8,
          9,
          10,
          11,
          12,
          13,
          14,
          15,
          16,
          17,
          18,
          19,
          20,
          21,
          22,
          23,
          24
         ],
         "xaxis": "x8",
         "y": [
          0.7931526303291321,
          0.815977156162262,
          0.804564893245697,
          0.835948646068573,
          0.8473609089851379,
          0.8544935584068298,
          0.8430812954902649,
          0.8630527853965759,
          0.867332398891449,
          0.8601996898651123,
          0.8644793033599854,
          0.8644793033599854,
          0.867332398891449,
          0.855920135974884,
          0.8487874269485474,
          0.8587731719017029,
          0.8616262674331665,
          0.8630527853965759,
          0.8630527853965759,
          0.8659058213233948,
          0.8644793033599854,
          0.8616262674331665,
          0.8630527853965759,
          0.8659058213233948,
          0.867332398891449
         ],
         "yaxis": "y8"
        },
        {
         "legendgroup": "1",
         "line": {
          "color": "#1bc965",
          "width": 1
         },
         "marker": {
          "size": 4
         },
         "mode": "lines+markers",
         "name": "W.D. : 0.0001",
         "showlegend": false,
         "type": "scatter",
         "x": [
          0,
          1,
          2,
          3,
          4,
          5,
          6,
          7,
          8,
          9,
          10,
          11,
          12,
          13,
          14,
          15,
          16,
          17,
          18,
          19,
          20,
          21,
          22,
          23,
          24
         ],
         "xaxis": "x8",
         "y": [
          0.7275320887565613,
          0.7931526303291321,
          0.8059914112091064,
          0.8502140045166016,
          0.8473609089851379,
          0.840228259563446,
          0.8530670404434204,
          0.8544935584068298,
          0.8630527853965759,
          0.851640522480011,
          0.8502140045166016,
          0.8573466539382935,
          0.8445078730583191,
          0.8530670404434204,
          0.8502140045166016,
          0.8587731719017029,
          0.855920135974884,
          0.8430812954902649,
          0.8544935584068298,
          0.8601996898651123,
          0.8473609089851379,
          0.8701854348182678,
          0.8445078730583191,
          0.8473609089851379,
          0.8758915662765503
         ],
         "yaxis": "y8"
        },
        {
         "legendgroup": "2",
         "line": {
          "color": "#5266cb",
          "width": 1
         },
         "marker": {
          "size": 4
         },
         "mode": "lines+markers",
         "name": "W.D. : 0.001",
         "showlegend": false,
         "type": "scatter",
         "x": [
          0,
          1,
          2,
          3,
          4,
          5,
          6,
          7,
          8,
          9,
          10,
          11,
          12,
          13,
          14,
          15,
          16,
          17,
          18,
          19,
          20,
          21,
          22,
          23,
          24
         ],
         "xaxis": "x8",
         "y": [
          0.788873016834259,
          0.804564893245697,
          0.8031383752822876,
          0.8416547775268555,
          0.835948646068573,
          0.8644793033599854,
          0.8445078730583191,
          0.8573466539382935,
          0.8487874269485474,
          0.8473609089851379,
          0.8530670404434204,
          0.8459343910217285,
          0.8416547775268555,
          0.8373751640319824,
          0.835948646068573,
          0.8473609089851379,
          0.8473609089851379,
          0.8416547775268555,
          0.8616262674331665,
          0.8616262674331665,
          0.8601996898651123,
          0.8744650483131409,
          0.8601996898651123,
          0.8430812954902649,
          0.8644793033599854
         ],
         "yaxis": "y8"
        },
        {
         "legendgroup": "3",
         "line": {
          "color": "#be59e8",
          "width": 1
         },
         "marker": {
          "size": 4
         },
         "mode": "lines+markers",
         "name": "W.D. : 0.01",
         "showlegend": false,
         "type": "scatter",
         "x": [
          0,
          1,
          2,
          3,
          4,
          5,
          6,
          7,
          8,
          9,
          10,
          11,
          12,
          13,
          14,
          15,
          16,
          17,
          18,
          19,
          20,
          21,
          22,
          23,
          24
         ],
         "xaxis": "x8",
         "y": [
          0.7717546224594116,
          0.8216832876205444,
          0.8416547775268555,
          0.8530670404434204,
          0.8573466539382935,
          0.8345221281051636,
          0.8701854348182678,
          0.8430812954902649,
          0.8630527853965759,
          0.835948646068573,
          0.8616262674331665,
          0.8502140045166016,
          0.8473609089851379,
          0.8302425146102905,
          0.8544935584068298,
          0.8416547775268555,
          0.8701854348182678,
          0.867332398891449,
          0.871612012386322,
          0.8430812954902649,
          0.8601996898651123,
          0.8687589168548584,
          0.8644793033599854,
          0.8273894190788269,
          0.8544935584068298
         ],
         "yaxis": "y8"
        },
        {
         "legendgroup": "0",
         "line": {
          "color": "#5fa8d3",
          "width": 1
         },
         "marker": {
          "size": 4
         },
         "mode": "lines+markers",
         "name": "W.D. : 1e-05",
         "showlegend": false,
         "type": "scatter",
         "x": [
          0,
          1,
          2,
          3,
          4,
          5,
          6,
          7,
          8,
          9,
          10,
          11,
          12,
          13,
          14,
          15,
          16,
          17,
          18,
          19,
          20,
          21,
          22,
          23,
          24
         ],
         "xaxis": "x9",
         "y": [
          0.7960057258605957,
          0.8345221281051636,
          0.8502140045166016,
          0.8530670404434204,
          0.8644793033599854,
          0.8659058213233948,
          0.8288159966468811,
          0.8601996898651123,
          0.8587731719017029,
          0.8573466539382935,
          0.8701854348182678,
          0.855920135974884,
          0.8659058213233948,
          0.8416547775268555,
          0.8644793033599854,
          0.8601996898651123,
          0.8630527853965759,
          0.8430812954902649,
          0.8659058213233948,
          0.8601996898651123,
          0.8544935584068298,
          0.8530670404434204,
          0.8373751640319824,
          0.855920135974884,
          0.8216832876205444
         ],
         "yaxis": "y9"
        },
        {
         "legendgroup": "1",
         "line": {
          "color": "#1bc965",
          "width": 1
         },
         "marker": {
          "size": 4
         },
         "mode": "lines+markers",
         "name": "W.D. : 0.0001",
         "showlegend": false,
         "type": "scatter",
         "x": [
          0,
          1,
          2,
          3,
          4,
          5,
          6,
          7,
          8,
          9,
          10,
          11,
          12,
          13,
          14,
          15,
          16,
          17,
          18,
          19,
          20,
          21,
          22,
          23,
          24
         ],
         "xaxis": "x9",
         "y": [
          0.8373751640319824,
          0.8459343910217285,
          0.8430812954902649,
          0.8573466539382935,
          0.8701854348182678,
          0.8231098651885986,
          0.820256769657135,
          0.8502140045166016,
          0.8502140045166016,
          0.8430812954902649,
          0.8487874269485474,
          0.7974322438240051,
          0.8330955505371094,
          0.8330955505371094,
          0.7917261123657227,
          0.7917261123657227,
          0.8017118573188782,
          0.8174037337303162,
          0.820256769657135,
          0.840228259563446,
          0.8259629011154175,
          0.8445078730583191,
          0.8573466539382935,
          0.8587731719017029,
          0.8487874269485474
         ],
         "yaxis": "y9"
        },
        {
         "legendgroup": "2",
         "line": {
          "color": "#5266cb",
          "width": 1
         },
         "marker": {
          "size": 4
         },
         "mode": "lines+markers",
         "name": "W.D. : 0.001",
         "showlegend": false,
         "type": "scatter",
         "x": [
          0,
          1,
          2,
          3,
          4,
          5,
          6,
          7,
          8,
          9,
          10,
          11,
          12,
          13,
          14,
          15,
          16,
          17,
          18,
          19,
          20,
          21,
          22,
          23,
          24
         ],
         "xaxis": "x9",
         "y": [
          0.7917261123657227,
          0.820256769657135,
          0.8188302516937256,
          0.8730385303497314,
          0.8388017416000366,
          0.835948646068573,
          0.8231098651885986,
          0.8445078730583191,
          0.8116976022720337,
          0.8473609089851379,
          0.840228259563446,
          0.8259629011154175,
          0.7845934629440308,
          0.8345221281051636,
          0.8459343910217285,
          0.851640522480011,
          0.8330955505371094,
          0.8273894190788269,
          0.840228259563446,
          0.8502140045166016,
          0.8273894190788269,
          0.8573466539382935,
          0.8530670404434204,
          0.7960057258605957,
          0.835948646068573
         ],
         "yaxis": "y9"
        },
        {
         "legendgroup": "3",
         "line": {
          "color": "#be59e8",
          "width": 1
         },
         "marker": {
          "size": 4
         },
         "mode": "lines+markers",
         "name": "W.D. : 0.01",
         "showlegend": false,
         "type": "scatter",
         "x": [
          0,
          1,
          2,
          3,
          4,
          5,
          6,
          7,
          8,
          9,
          10,
          11,
          12,
          13,
          14,
          15,
          16,
          17,
          18,
          19,
          20,
          21,
          22,
          23,
          24
         ],
         "xaxis": "x9",
         "y": [
          0.773181140422821,
          0.855920135974884,
          0.8316690325737,
          0.8616262674331665,
          0.8459343910217285,
          0.800285279750824,
          0.8330955505371094,
          0.855920135974884,
          0.8587731719017029,
          0.8601996898651123,
          0.7945791482925415,
          0.820256769657135,
          0.840228259563446,
          0.8174037337303162,
          0.8017118573188782,
          0.8544935584068298,
          0.7874464988708496,
          0.8288159966468811,
          0.8174037337303162,
          0.8502140045166016,
          0.8373751640319824,
          0.8744650483131409,
          0.8416547775268555,
          0.8088445067405701,
          0.8330955505371094
         ],
         "yaxis": "y9"
        }
       ],
       "layout": {
        "annotations": [
         {
          "font": {
           "color": "black",
           "size": 12
          },
          "showarrow": false,
          "text": "Dropout : 0.1 & L.R. : 0.0005",
          "x": 0.14444444444444446,
          "xanchor": "center",
          "xref": "paper",
          "y": 1,
          "yanchor": "bottom",
          "yref": "paper"
         },
         {
          "font": {
           "color": "black",
           "size": 12
          },
          "showarrow": false,
          "text": "Dropout : 0.1 & L.R. : 0.001",
          "x": 0.5,
          "xanchor": "center",
          "xref": "paper",
          "y": 1,
          "yanchor": "bottom",
          "yref": "paper"
         },
         {
          "font": {
           "color": "black",
           "size": 12
          },
          "showarrow": false,
          "text": "Dropout : 0.1 & L.R. : 0.005",
          "x": 0.8555555555555556,
          "xanchor": "center",
          "xref": "paper",
          "y": 1,
          "yanchor": "bottom",
          "yref": "paper"
         },
         {
          "font": {
           "color": "black",
           "size": 12
          },
          "showarrow": false,
          "text": "Dropout : 0.3 & L.R. : 0.0005",
          "x": 0.14444444444444446,
          "xanchor": "center",
          "xref": "paper",
          "y": 0.6111111111111112,
          "yanchor": "bottom",
          "yref": "paper"
         },
         {
          "font": {
           "color": "black",
           "size": 12
          },
          "showarrow": false,
          "text": "Dropout : 0.3 & L.R. : 0.001",
          "x": 0.5,
          "xanchor": "center",
          "xref": "paper",
          "y": 0.6111111111111112,
          "yanchor": "bottom",
          "yref": "paper"
         },
         {
          "font": {
           "color": "black",
           "size": 12
          },
          "showarrow": false,
          "text": "Dropout : 0.3 & L.R. : 0.005",
          "x": 0.8555555555555556,
          "xanchor": "center",
          "xref": "paper",
          "y": 0.6111111111111112,
          "yanchor": "bottom",
          "yref": "paper"
         },
         {
          "font": {
           "color": "black",
           "size": 12
          },
          "showarrow": false,
          "text": "Dropout : 0.5 & L.R. : 0.0005",
          "x": 0.14444444444444446,
          "xanchor": "center",
          "xref": "paper",
          "y": 0.22222222222222224,
          "yanchor": "bottom",
          "yref": "paper"
         },
         {
          "font": {
           "color": "black",
           "size": 12
          },
          "showarrow": false,
          "text": "Dropout : 0.5 & L.R. : 0.001",
          "x": 0.5,
          "xanchor": "center",
          "xref": "paper",
          "y": 0.22222222222222224,
          "yanchor": "bottom",
          "yref": "paper"
         },
         {
          "font": {
           "color": "black",
           "size": 12
          },
          "showarrow": false,
          "text": "Dropout : 0.5 & L.R. : 0.005",
          "x": 0.8555555555555556,
          "xanchor": "center",
          "xref": "paper",
          "y": 0.22222222222222224,
          "yanchor": "bottom",
          "yref": "paper"
         }
        ],
        "height": 800,
        "template": {
         "data": {
          "bar": [
           {
            "error_x": {
             "color": "#2a3f5f"
            },
            "error_y": {
             "color": "#2a3f5f"
            },
            "marker": {
             "line": {
              "color": "#E5ECF6",
              "width": 0.5
             }
            },
            "type": "bar"
           }
          ],
          "barpolar": [
           {
            "marker": {
             "line": {
              "color": "#E5ECF6",
              "width": 0.5
             }
            },
            "type": "barpolar"
           }
          ],
          "carpet": [
           {
            "aaxis": {
             "endlinecolor": "#2a3f5f",
             "gridcolor": "white",
             "linecolor": "white",
             "minorgridcolor": "white",
             "startlinecolor": "#2a3f5f"
            },
            "baxis": {
             "endlinecolor": "#2a3f5f",
             "gridcolor": "white",
             "linecolor": "white",
             "minorgridcolor": "white",
             "startlinecolor": "#2a3f5f"
            },
            "type": "carpet"
           }
          ],
          "choropleth": [
           {
            "colorbar": {
             "outlinewidth": 0,
             "ticks": ""
            },
            "type": "choropleth"
           }
          ],
          "contour": [
           {
            "colorbar": {
             "outlinewidth": 0,
             "ticks": ""
            },
            "colorscale": [
             [
              0,
              "#0d0887"
             ],
             [
              0.1111111111111111,
              "#46039f"
             ],
             [
              0.2222222222222222,
              "#7201a8"
             ],
             [
              0.3333333333333333,
              "#9c179e"
             ],
             [
              0.4444444444444444,
              "#bd3786"
             ],
             [
              0.5555555555555556,
              "#d8576b"
             ],
             [
              0.6666666666666666,
              "#ed7953"
             ],
             [
              0.7777777777777778,
              "#fb9f3a"
             ],
             [
              0.8888888888888888,
              "#fdca26"
             ],
             [
              1,
              "#f0f921"
             ]
            ],
            "type": "contour"
           }
          ],
          "contourcarpet": [
           {
            "colorbar": {
             "outlinewidth": 0,
             "ticks": ""
            },
            "type": "contourcarpet"
           }
          ],
          "heatmap": [
           {
            "colorbar": {
             "outlinewidth": 0,
             "ticks": ""
            },
            "colorscale": [
             [
              0,
              "#0d0887"
             ],
             [
              0.1111111111111111,
              "#46039f"
             ],
             [
              0.2222222222222222,
              "#7201a8"
             ],
             [
              0.3333333333333333,
              "#9c179e"
             ],
             [
              0.4444444444444444,
              "#bd3786"
             ],
             [
              0.5555555555555556,
              "#d8576b"
             ],
             [
              0.6666666666666666,
              "#ed7953"
             ],
             [
              0.7777777777777778,
              "#fb9f3a"
             ],
             [
              0.8888888888888888,
              "#fdca26"
             ],
             [
              1,
              "#f0f921"
             ]
            ],
            "type": "heatmap"
           }
          ],
          "heatmapgl": [
           {
            "colorbar": {
             "outlinewidth": 0,
             "ticks": ""
            },
            "colorscale": [
             [
              0,
              "#0d0887"
             ],
             [
              0.1111111111111111,
              "#46039f"
             ],
             [
              0.2222222222222222,
              "#7201a8"
             ],
             [
              0.3333333333333333,
              "#9c179e"
             ],
             [
              0.4444444444444444,
              "#bd3786"
             ],
             [
              0.5555555555555556,
              "#d8576b"
             ],
             [
              0.6666666666666666,
              "#ed7953"
             ],
             [
              0.7777777777777778,
              "#fb9f3a"
             ],
             [
              0.8888888888888888,
              "#fdca26"
             ],
             [
              1,
              "#f0f921"
             ]
            ],
            "type": "heatmapgl"
           }
          ],
          "histogram": [
           {
            "marker": {
             "colorbar": {
              "outlinewidth": 0,
              "ticks": ""
             }
            },
            "type": "histogram"
           }
          ],
          "histogram2d": [
           {
            "colorbar": {
             "outlinewidth": 0,
             "ticks": ""
            },
            "colorscale": [
             [
              0,
              "#0d0887"
             ],
             [
              0.1111111111111111,
              "#46039f"
             ],
             [
              0.2222222222222222,
              "#7201a8"
             ],
             [
              0.3333333333333333,
              "#9c179e"
             ],
             [
              0.4444444444444444,
              "#bd3786"
             ],
             [
              0.5555555555555556,
              "#d8576b"
             ],
             [
              0.6666666666666666,
              "#ed7953"
             ],
             [
              0.7777777777777778,
              "#fb9f3a"
             ],
             [
              0.8888888888888888,
              "#fdca26"
             ],
             [
              1,
              "#f0f921"
             ]
            ],
            "type": "histogram2d"
           }
          ],
          "histogram2dcontour": [
           {
            "colorbar": {
             "outlinewidth": 0,
             "ticks": ""
            },
            "colorscale": [
             [
              0,
              "#0d0887"
             ],
             [
              0.1111111111111111,
              "#46039f"
             ],
             [
              0.2222222222222222,
              "#7201a8"
             ],
             [
              0.3333333333333333,
              "#9c179e"
             ],
             [
              0.4444444444444444,
              "#bd3786"
             ],
             [
              0.5555555555555556,
              "#d8576b"
             ],
             [
              0.6666666666666666,
              "#ed7953"
             ],
             [
              0.7777777777777778,
              "#fb9f3a"
             ],
             [
              0.8888888888888888,
              "#fdca26"
             ],
             [
              1,
              "#f0f921"
             ]
            ],
            "type": "histogram2dcontour"
           }
          ],
          "mesh3d": [
           {
            "colorbar": {
             "outlinewidth": 0,
             "ticks": ""
            },
            "type": "mesh3d"
           }
          ],
          "parcoords": [
           {
            "line": {
             "colorbar": {
              "outlinewidth": 0,
              "ticks": ""
             }
            },
            "type": "parcoords"
           }
          ],
          "pie": [
           {
            "automargin": true,
            "type": "pie"
           }
          ],
          "scatter": [
           {
            "marker": {
             "colorbar": {
              "outlinewidth": 0,
              "ticks": ""
             }
            },
            "type": "scatter"
           }
          ],
          "scatter3d": [
           {
            "line": {
             "colorbar": {
              "outlinewidth": 0,
              "ticks": ""
             }
            },
            "marker": {
             "colorbar": {
              "outlinewidth": 0,
              "ticks": ""
             }
            },
            "type": "scatter3d"
           }
          ],
          "scattercarpet": [
           {
            "marker": {
             "colorbar": {
              "outlinewidth": 0,
              "ticks": ""
             }
            },
            "type": "scattercarpet"
           }
          ],
          "scattergeo": [
           {
            "marker": {
             "colorbar": {
              "outlinewidth": 0,
              "ticks": ""
             }
            },
            "type": "scattergeo"
           }
          ],
          "scattergl": [
           {
            "marker": {
             "colorbar": {
              "outlinewidth": 0,
              "ticks": ""
             }
            },
            "type": "scattergl"
           }
          ],
          "scattermapbox": [
           {
            "marker": {
             "colorbar": {
              "outlinewidth": 0,
              "ticks": ""
             }
            },
            "type": "scattermapbox"
           }
          ],
          "scatterpolar": [
           {
            "marker": {
             "colorbar": {
              "outlinewidth": 0,
              "ticks": ""
             }
            },
            "type": "scatterpolar"
           }
          ],
          "scatterpolargl": [
           {
            "marker": {
             "colorbar": {
              "outlinewidth": 0,
              "ticks": ""
             }
            },
            "type": "scatterpolargl"
           }
          ],
          "scatterternary": [
           {
            "marker": {
             "colorbar": {
              "outlinewidth": 0,
              "ticks": ""
             }
            },
            "type": "scatterternary"
           }
          ],
          "surface": [
           {
            "colorbar": {
             "outlinewidth": 0,
             "ticks": ""
            },
            "colorscale": [
             [
              0,
              "#0d0887"
             ],
             [
              0.1111111111111111,
              "#46039f"
             ],
             [
              0.2222222222222222,
              "#7201a8"
             ],
             [
              0.3333333333333333,
              "#9c179e"
             ],
             [
              0.4444444444444444,
              "#bd3786"
             ],
             [
              0.5555555555555556,
              "#d8576b"
             ],
             [
              0.6666666666666666,
              "#ed7953"
             ],
             [
              0.7777777777777778,
              "#fb9f3a"
             ],
             [
              0.8888888888888888,
              "#fdca26"
             ],
             [
              1,
              "#f0f921"
             ]
            ],
            "type": "surface"
           }
          ],
          "table": [
           {
            "cells": {
             "fill": {
              "color": "#EBF0F8"
             },
             "line": {
              "color": "white"
             }
            },
            "header": {
             "fill": {
              "color": "#C8D4E3"
             },
             "line": {
              "color": "white"
             }
            },
            "type": "table"
           }
          ]
         },
         "layout": {
          "annotationdefaults": {
           "arrowcolor": "#2a3f5f",
           "arrowhead": 0,
           "arrowwidth": 1
          },
          "coloraxis": {
           "colorbar": {
            "outlinewidth": 0,
            "ticks": ""
           }
          },
          "colorscale": {
           "diverging": [
            [
             0,
             "#8e0152"
            ],
            [
             0.1,
             "#c51b7d"
            ],
            [
             0.2,
             "#de77ae"
            ],
            [
             0.3,
             "#f1b6da"
            ],
            [
             0.4,
             "#fde0ef"
            ],
            [
             0.5,
             "#f7f7f7"
            ],
            [
             0.6,
             "#e6f5d0"
            ],
            [
             0.7,
             "#b8e186"
            ],
            [
             0.8,
             "#7fbc41"
            ],
            [
             0.9,
             "#4d9221"
            ],
            [
             1,
             "#276419"
            ]
           ],
           "sequential": [
            [
             0,
             "#0d0887"
            ],
            [
             0.1111111111111111,
             "#46039f"
            ],
            [
             0.2222222222222222,
             "#7201a8"
            ],
            [
             0.3333333333333333,
             "#9c179e"
            ],
            [
             0.4444444444444444,
             "#bd3786"
            ],
            [
             0.5555555555555556,
             "#d8576b"
            ],
            [
             0.6666666666666666,
             "#ed7953"
            ],
            [
             0.7777777777777778,
             "#fb9f3a"
            ],
            [
             0.8888888888888888,
             "#fdca26"
            ],
            [
             1,
             "#f0f921"
            ]
           ],
           "sequentialminus": [
            [
             0,
             "#0d0887"
            ],
            [
             0.1111111111111111,
             "#46039f"
            ],
            [
             0.2222222222222222,
             "#7201a8"
            ],
            [
             0.3333333333333333,
             "#9c179e"
            ],
            [
             0.4444444444444444,
             "#bd3786"
            ],
            [
             0.5555555555555556,
             "#d8576b"
            ],
            [
             0.6666666666666666,
             "#ed7953"
            ],
            [
             0.7777777777777778,
             "#fb9f3a"
            ],
            [
             0.8888888888888888,
             "#fdca26"
            ],
            [
             1,
             "#f0f921"
            ]
           ]
          },
          "colorway": [
           "#636efa",
           "#EF553B",
           "#00cc96",
           "#ab63fa",
           "#FFA15A",
           "#19d3f3",
           "#FF6692",
           "#B6E880",
           "#FF97FF",
           "#FECB52"
          ],
          "font": {
           "color": "#2a3f5f"
          },
          "geo": {
           "bgcolor": "white",
           "lakecolor": "white",
           "landcolor": "#E5ECF6",
           "showlakes": true,
           "showland": true,
           "subunitcolor": "white"
          },
          "hoverlabel": {
           "align": "left"
          },
          "hovermode": "closest",
          "mapbox": {
           "style": "light"
          },
          "paper_bgcolor": "white",
          "plot_bgcolor": "#E5ECF6",
          "polar": {
           "angularaxis": {
            "gridcolor": "white",
            "linecolor": "white",
            "ticks": ""
           },
           "bgcolor": "#E5ECF6",
           "radialaxis": {
            "gridcolor": "white",
            "linecolor": "white",
            "ticks": ""
           }
          },
          "scene": {
           "xaxis": {
            "backgroundcolor": "#E5ECF6",
            "gridcolor": "white",
            "gridwidth": 2,
            "linecolor": "white",
            "showbackground": true,
            "ticks": "",
            "zerolinecolor": "white"
           },
           "yaxis": {
            "backgroundcolor": "#E5ECF6",
            "gridcolor": "white",
            "gridwidth": 2,
            "linecolor": "white",
            "showbackground": true,
            "ticks": "",
            "zerolinecolor": "white"
           },
           "zaxis": {
            "backgroundcolor": "#E5ECF6",
            "gridcolor": "white",
            "gridwidth": 2,
            "linecolor": "white",
            "showbackground": true,
            "ticks": "",
            "zerolinecolor": "white"
           }
          },
          "shapedefaults": {
           "line": {
            "color": "#2a3f5f"
           }
          },
          "ternary": {
           "aaxis": {
            "gridcolor": "white",
            "linecolor": "white",
            "ticks": ""
           },
           "baxis": {
            "gridcolor": "white",
            "linecolor": "white",
            "ticks": ""
           },
           "bgcolor": "#E5ECF6",
           "caxis": {
            "gridcolor": "white",
            "linecolor": "white",
            "ticks": ""
           }
          },
          "title": {
           "x": 0.05
          },
          "xaxis": {
           "automargin": true,
           "gridcolor": "white",
           "linecolor": "white",
           "ticks": "",
           "title": {
            "standoff": 15
           },
           "zerolinecolor": "white",
           "zerolinewidth": 2
          },
          "yaxis": {
           "automargin": true,
           "gridcolor": "white",
           "linecolor": "white",
           "ticks": "",
           "title": {
            "standoff": 15
           },
           "zerolinecolor": "white",
           "zerolinewidth": 2
          }
         }
        },
        "title": {
         "text": "Validation accuracy with respect to epochs for different hyper parameters",
         "x": 0.5
        },
        "width": 950,
        "xaxis": {
         "anchor": "y",
         "domain": [
          0,
          0.2888888888888889
         ],
         "gridcolor": "LightGrey",
         "gridwidth": 1,
         "showgrid": true,
         "tickfont": {
          "size": 8
         },
         "title": {
          "font": {
           "size": 10
          },
          "text": "Epoch"
         }
        },
        "xaxis2": {
         "anchor": "y2",
         "domain": [
          0.35555555555555557,
          0.6444444444444445
         ],
         "gridcolor": "LightGrey",
         "gridwidth": 1,
         "showgrid": true,
         "tickfont": {
          "size": 8
         },
         "title": {
          "font": {
           "size": 10
          }
         }
        },
        "xaxis3": {
         "anchor": "y3",
         "domain": [
          0.7111111111111111,
          1
         ],
         "gridcolor": "LightGrey",
         "gridwidth": 1,
         "showgrid": true,
         "tickfont": {
          "size": 8
         },
         "title": {
          "font": {
           "size": 10
          }
         }
        },
        "xaxis4": {
         "anchor": "y4",
         "domain": [
          0,
          0.2888888888888889
         ],
         "gridcolor": "LightGrey",
         "gridwidth": 1,
         "showgrid": true,
         "tickfont": {
          "size": 8
         },
         "title": {
          "font": {
           "size": 10
          }
         }
        },
        "xaxis5": {
         "anchor": "y5",
         "domain": [
          0.35555555555555557,
          0.6444444444444445
         ],
         "gridcolor": "LightGrey",
         "gridwidth": 1,
         "showgrid": true,
         "tickfont": {
          "size": 8
         },
         "title": {
          "font": {
           "size": 10
          }
         }
        },
        "xaxis6": {
         "anchor": "y6",
         "domain": [
          0.7111111111111111,
          1
         ],
         "gridcolor": "LightGrey",
         "gridwidth": 1,
         "showgrid": true,
         "tickfont": {
          "size": 8
         },
         "title": {
          "font": {
           "size": 10
          }
         }
        },
        "xaxis7": {
         "anchor": "y7",
         "domain": [
          0,
          0.2888888888888889
         ],
         "gridcolor": "LightGrey",
         "gridwidth": 1,
         "showgrid": true,
         "tickfont": {
          "size": 8
         },
         "title": {
          "font": {
           "size": 10
          }
         }
        },
        "xaxis8": {
         "anchor": "y8",
         "domain": [
          0.35555555555555557,
          0.6444444444444445
         ],
         "gridcolor": "LightGrey",
         "gridwidth": 1,
         "showgrid": true,
         "tickfont": {
          "size": 8
         },
         "title": {
          "font": {
           "size": 10
          }
         }
        },
        "xaxis9": {
         "anchor": "y9",
         "domain": [
          0.7111111111111111,
          1
         ],
         "gridcolor": "LightGrey",
         "gridwidth": 1,
         "showgrid": true,
         "tickfont": {
          "size": 8
         },
         "title": {
          "font": {
           "size": 10
          }
         }
        },
        "yaxis": {
         "anchor": "x",
         "autorange": false,
         "domain": [
          0.7777777777777778,
          1
         ],
         "gridcolor": "LightGrey",
         "gridwidth": 1,
         "range": [
          0.6,
          0.9
         ],
         "showgrid": true,
         "tickfont": {
          "size": 8
         },
         "title": {
          "font": {
           "size": 10
          },
          "text": "Validation accuracy (%)"
         }
        },
        "yaxis2": {
         "anchor": "x2",
         "autorange": false,
         "domain": [
          0.7777777777777778,
          1
         ],
         "gridcolor": "LightGrey",
         "gridwidth": 1,
         "range": [
          0.6,
          0.9
         ],
         "showgrid": true,
         "tickfont": {
          "size": 8
         },
         "title": {
          "font": {
           "size": 10
          }
         }
        },
        "yaxis3": {
         "anchor": "x3",
         "autorange": false,
         "domain": [
          0.7777777777777778,
          1
         ],
         "gridcolor": "LightGrey",
         "gridwidth": 1,
         "range": [
          0.6,
          0.9
         ],
         "showgrid": true,
         "tickfont": {
          "size": 8
         },
         "title": {
          "font": {
           "size": 10
          }
         }
        },
        "yaxis4": {
         "anchor": "x4",
         "autorange": false,
         "domain": [
          0.3888888888888889,
          0.6111111111111112
         ],
         "gridcolor": "LightGrey",
         "gridwidth": 1,
         "range": [
          0.6,
          0.9
         ],
         "showgrid": true,
         "tickfont": {
          "size": 8
         },
         "title": {
          "font": {
           "size": 10
          }
         }
        },
        "yaxis5": {
         "anchor": "x5",
         "autorange": false,
         "domain": [
          0.3888888888888889,
          0.6111111111111112
         ],
         "gridcolor": "LightGrey",
         "gridwidth": 1,
         "range": [
          0.6,
          0.9
         ],
         "showgrid": true,
         "tickfont": {
          "size": 8
         },
         "title": {
          "font": {
           "size": 10
          }
         }
        },
        "yaxis6": {
         "anchor": "x6",
         "autorange": false,
         "domain": [
          0.3888888888888889,
          0.6111111111111112
         ],
         "gridcolor": "LightGrey",
         "gridwidth": 1,
         "range": [
          0.6,
          0.9
         ],
         "showgrid": true,
         "tickfont": {
          "size": 8
         },
         "title": {
          "font": {
           "size": 10
          }
         }
        },
        "yaxis7": {
         "anchor": "x7",
         "autorange": false,
         "domain": [
          0,
          0.22222222222222224
         ],
         "gridcolor": "LightGrey",
         "gridwidth": 1,
         "range": [
          0.6,
          0.9
         ],
         "showgrid": true,
         "tickfont": {
          "size": 8
         },
         "title": {
          "font": {
           "size": 10
          }
         }
        },
        "yaxis8": {
         "anchor": "x8",
         "autorange": false,
         "domain": [
          0,
          0.22222222222222224
         ],
         "gridcolor": "LightGrey",
         "gridwidth": 1,
         "range": [
          0.6,
          0.9
         ],
         "showgrid": true,
         "tickfont": {
          "size": 8
         },
         "title": {
          "font": {
           "size": 10
          }
         }
        },
        "yaxis9": {
         "anchor": "x9",
         "autorange": false,
         "domain": [
          0,
          0.22222222222222224
         ],
         "gridcolor": "LightGrey",
         "gridwidth": 1,
         "range": [
          0.6,
          0.9
         ],
         "showgrid": true,
         "tickfont": {
          "size": 8
         },
         "title": {
          "font": {
           "size": 10
          }
         }
        }
       }
      },
      "text/html": [
       "<div>\n",
       "        \n",
       "        \n",
       "            <div id=\"3919b364-4d16-457a-a98d-34c7393fe8ad\" class=\"plotly-graph-div\" style=\"height:800px; width:950px;\"></div>\n",
       "            <script type=\"text/javascript\">\n",
       "                require([\"plotly\"], function(Plotly) {\n",
       "                    window.PLOTLYENV=window.PLOTLYENV || {};\n",
       "                    \n",
       "                if (document.getElementById(\"3919b364-4d16-457a-a98d-34c7393fe8ad\")) {\n",
       "                    Plotly.newPlot(\n",
       "                        '3919b364-4d16-457a-a98d-34c7393fe8ad',\n",
       "                        [{\"legendgroup\": \"0\", \"line\": {\"color\": \"#5fa8d3\", \"width\": 1}, \"marker\": {\"size\": 4}, \"mode\": \"lines+markers\", \"name\": \"W.D. : 1e-05\", \"showlegend\": true, \"type\": \"scatter\", \"x\": [0, 1, 2, 3, 4, 5, 6, 7, 8, 9, 10, 11, 12, 13, 14, 15, 16, 17, 18, 19, 20, 21, 22, 23, 24], \"xaxis\": \"x\", \"y\": [0.6348074078559875, 0.7631954550743103, 0.7874464988708496, 0.800285279750824, 0.8445078730583191, 0.851640522480011, 0.8544935584068298, 0.851640522480011, 0.855920135974884, 0.8659058213233948, 0.851640522480011, 0.8616262674331665, 0.8616262674331665, 0.8530670404434204, 0.8573466539382935, 0.8659058213233948, 0.871612012386322, 0.8587731719017029, 0.8773181438446045, 0.8630527853965759, 0.8701854348182678, 0.8730385303497314, 0.8730385303497314, 0.871612012386322, 0.8730385303497314], \"yaxis\": \"y\"}, {\"legendgroup\": \"1\", \"line\": {\"color\": \"#1bc965\", \"width\": 1}, \"marker\": {\"size\": 4}, \"mode\": \"lines+markers\", \"name\": \"W.D. : 0.0001\", \"showlegend\": true, \"type\": \"scatter\", \"x\": [0, 1, 2, 3, 4, 5, 6, 7, 8, 9, 10, 11, 12, 13, 14, 15, 16, 17, 18, 19, 20, 21, 22, 23, 24], \"xaxis\": \"x\", \"y\": [0.6262482404708862, 0.7774607539176941, 0.8031383752822876, 0.820256769657135, 0.8017118573188782, 0.8131241202354431, 0.8245363831520081, 0.820256769657135, 0.8259629011154175, 0.8074179887771606, 0.8345221281051636, 0.8116976022720337, 0.8388017416000366, 0.8231098651885986, 0.8330955505371094, 0.8245363831520081, 0.835948646068573, 0.840228259563446, 0.8430812954902649, 0.8388017416000366, 0.8330955505371094, 0.835948646068573, 0.8445078730583191, 0.851640522480011, 0.8373751640319824], \"yaxis\": \"y\"}, {\"legendgroup\": \"2\", \"line\": {\"color\": \"#5266cb\", \"width\": 1}, \"marker\": {\"size\": 4}, \"mode\": \"lines+markers\", \"name\": \"W.D. : 0.001\", \"showlegend\": true, \"type\": \"scatter\", \"x\": [0, 1, 2, 3, 4, 5, 6, 7, 8, 9, 10, 11, 12, 13, 14, 15, 16, 17, 18, 19, 20, 21, 22, 23, 24], \"xaxis\": \"x\", \"y\": [0.651925802230835, 0.7589158415794373, 0.788873016834259, 0.815977156162262, 0.8116976022720337, 0.815977156162262, 0.8273894190788269, 0.8388017416000366, 0.8445078730583191, 0.8502140045166016, 0.8373751640319824, 0.8373751640319824, 0.8445078730583191, 0.8430812954902649, 0.8459343910217285, 0.8445078730583191, 0.8473609089851379, 0.8473609089851379, 0.8587731719017029, 0.8544935584068298, 0.8473609089851379, 0.8487874269485474, 0.8388017416000366, 0.8487874269485474, 0.851640522480011], \"yaxis\": \"y\"}, {\"legendgroup\": \"3\", \"line\": {\"color\": \"#be59e8\", \"width\": 1}, \"marker\": {\"size\": 4}, \"mode\": \"lines+markers\", \"name\": \"W.D. : 0.01\", \"showlegend\": true, \"type\": \"scatter\", \"x\": [0, 1, 2, 3, 4, 5, 6, 7, 8, 9, 10, 11, 12, 13, 14, 15, 16, 17, 18, 19, 20, 21, 22, 23, 24], \"xaxis\": \"x\", \"y\": [0.6647646427154541, 0.8088445067405701, 0.8273894190788269, 0.820256769657135, 0.8188302516937256, 0.815977156162262, 0.8502140045166016, 0.8373751640319824, 0.8502140045166016, 0.8587731719017029, 0.8459343910217285, 0.8573466539382935, 0.867332398891449, 0.8744650483131409, 0.8758915662765503, 0.8587731719017029, 0.8601996898651123, 0.8701854348182678, 0.8730385303497314, 0.8473609089851379, 0.8601996898651123, 0.8758915662765503, 0.8659058213233948, 0.8701854348182678, 0.867332398891449], \"yaxis\": \"y\"}, {\"legendgroup\": \"0\", \"line\": {\"color\": \"#5fa8d3\", \"width\": 1}, \"marker\": {\"size\": 4}, \"mode\": \"lines+markers\", \"name\": \"W.D. : 1e-05\", \"showlegend\": false, \"type\": \"scatter\", \"x\": [0, 1, 2, 3, 4, 5, 6, 7, 8, 9, 10, 11, 12, 13, 14, 15, 16, 17, 18, 19, 20, 21, 22, 23, 24], \"xaxis\": \"x2\", \"y\": [0.7489300966262817, 0.7774607539176941, 0.8074179887771606, 0.7988587617874146, 0.8573466539382935, 0.8459343910217285, 0.867332398891449, 0.840228259563446, 0.8644793033599854, 0.8687589168548584, 0.8373751640319824, 0.8659058213233948, 0.8730385303497314, 0.8687589168548584, 0.8730385303497314, 0.8601996898651123, 0.8801711797714233, 0.871612012386322, 0.8644793033599854, 0.8758915662765503, 0.8730385303497314, 0.8601996898651123, 0.8701854348182678, 0.8659058213233948, 0.867332398891449], \"yaxis\": \"y2\"}, {\"legendgroup\": \"1\", \"line\": {\"color\": \"#1bc965\", \"width\": 1}, \"marker\": {\"size\": 4}, \"mode\": \"lines+markers\", \"name\": \"W.D. : 0.0001\", \"showlegend\": false, \"type\": \"scatter\", \"x\": [0, 1, 2, 3, 4, 5, 6, 7, 8, 9, 10, 11, 12, 13, 14, 15, 16, 17, 18, 19, 20, 21, 22, 23, 24], \"xaxis\": \"x2\", \"y\": [0.8059914112091064, 0.8330955505371094, 0.8288159966468811, 0.8502140045166016, 0.8430812954902649, 0.8473609089851379, 0.8487874269485474, 0.8487874269485474, 0.8487874269485474, 0.867332398891449, 0.8316690325737, 0.8573466539382935, 0.871612012386322, 0.8744650483131409, 0.855920135974884, 0.840228259563446, 0.8701854348182678, 0.8644793033599854, 0.8601996898651123, 0.8701854348182678, 0.8573466539382935, 0.8530670404434204, 0.8445078730583191, 0.8430812954902649, 0.851640522480011], \"yaxis\": \"y2\"}, {\"legendgroup\": \"2\", \"line\": {\"color\": \"#5266cb\", \"width\": 1}, \"marker\": {\"size\": 4}, \"mode\": \"lines+markers\", \"name\": \"W.D. : 0.001\", \"showlegend\": false, \"type\": \"scatter\", \"x\": [0, 1, 2, 3, 4, 5, 6, 7, 8, 9, 10, 11, 12, 13, 14, 15, 16, 17, 18, 19, 20, 21, 22, 23, 24], \"xaxis\": \"x2\", \"y\": [0.7475035786628723, 0.788873016834259, 0.8074179887771606, 0.8473609089851379, 0.8330955505371094, 0.8245363831520081, 0.8659058213233948, 0.8530670404434204, 0.8701854348182678, 0.855920135974884, 0.8616262674331665, 0.8573466539382935, 0.8701854348182678, 0.8573466539382935, 0.8644793033599854, 0.8573466539382935, 0.855920135974884, 0.8601996898651123, 0.867332398891449, 0.851640522480011, 0.8744650483131409, 0.8616262674331665, 0.851640522480011, 0.8544935584068298, 0.851640522480011], \"yaxis\": \"y2\"}, {\"legendgroup\": \"3\", \"line\": {\"color\": \"#be59e8\", \"width\": 1}, \"marker\": {\"size\": 4}, \"mode\": \"lines+markers\", \"name\": \"W.D. : 0.01\", \"showlegend\": false, \"type\": \"scatter\", \"x\": [0, 1, 2, 3, 4, 5, 6, 7, 8, 9, 10, 11, 12, 13, 14, 15, 16, 17, 18, 19, 20, 21, 22, 23, 24], \"xaxis\": \"x2\", \"y\": [0.7931526303291321, 0.7845934629440308, 0.8131241202354431, 0.7931526303291321, 0.8416547775268555, 0.8017118573188782, 0.8416547775268555, 0.8345221281051636, 0.8174037337303162, 0.840228259563446, 0.8473609089851379, 0.8502140045166016, 0.8145506381988525, 0.840228259563446, 0.835948646068573, 0.8487874269485474, 0.8373751640319824, 0.8473609089851379, 0.8245363831520081, 0.855920135974884, 0.8502140045166016, 0.8644793033599854, 0.8701854348182678, 0.8644793033599854, 0.8687589168548584], \"yaxis\": \"y2\"}, {\"legendgroup\": \"0\", \"line\": {\"color\": \"#5fa8d3\", \"width\": 1}, \"marker\": {\"size\": 4}, \"mode\": \"lines+markers\", \"name\": \"W.D. : 1e-05\", \"showlegend\": false, \"type\": \"scatter\", \"x\": [0, 1, 2, 3, 4, 5, 6, 7, 8, 9, 10, 11, 12, 13, 14, 15, 16, 17, 18, 19, 20, 21, 22, 23, 24], \"xaxis\": \"x3\", \"y\": [0.855920135974884, 0.8502140045166016, 0.851640522480011, 0.871612012386322, 0.8644793033599854, 0.8530670404434204, 0.820256769657135, 0.8445078730583191, 0.8330955505371094, 0.8373751640319824, 0.8345221281051636, 0.7860199809074402, 0.8544935584068298, 0.8616262674331665, 0.8316690325737, 0.8330955505371094, 0.8459343910217285, 0.8302425146102905, 0.7974322438240051, 0.8273894190788269, 0.804564893245697, 0.7845934629440308, 0.800285279750824, 0.8502140045166016, 0.815977156162262], \"yaxis\": \"y3\"}, {\"legendgroup\": \"1\", \"line\": {\"color\": \"#1bc965\", \"width\": 1}, \"marker\": {\"size\": 4}, \"mode\": \"lines+markers\", \"name\": \"W.D. : 0.0001\", \"showlegend\": false, \"type\": \"scatter\", \"x\": [0, 1, 2, 3, 4, 5, 6, 7, 8, 9, 10, 11, 12, 13, 14, 15, 16, 17, 18, 19, 20, 21, 22, 23, 24], \"xaxis\": \"x3\", \"y\": [0.835948646068573, 0.855920135974884, 0.8659058213233948, 0.8416547775268555, 0.8473609089851379, 0.8459343910217285, 0.8416547775268555, 0.8487874269485474, 0.8216832876205444, 0.871612012386322, 0.8031383752822876, 0.8330955505371094, 0.8302425146102905, 0.835948646068573, 0.8430812954902649, 0.855920135974884, 0.8259629011154175, 0.8445078730583191, 0.840228259563446, 0.8259629011154175, 0.8701854348182678, 0.8630527853965759, 0.8473609089851379, 0.8302425146102905, 0.8630527853965759], \"yaxis\": \"y3\"}, {\"legendgroup\": \"2\", \"line\": {\"color\": \"#5266cb\", \"width\": 1}, \"marker\": {\"size\": 4}, \"mode\": \"lines+markers\", \"name\": \"W.D. : 0.001\", \"showlegend\": false, \"type\": \"scatter\", \"x\": [0, 1, 2, 3, 4, 5, 6, 7, 8, 9, 10, 11, 12, 13, 14, 15, 16, 17, 18, 19, 20, 21, 22, 23, 24], \"xaxis\": \"x3\", \"y\": [0.8345221281051636, 0.8659058213233948, 0.8487874269485474, 0.8459343910217285, 0.8174037337303162, 0.804564893245697, 0.7803138494491577, 0.8544935584068298, 0.8616262674331665, 0.815977156162262, 0.8373751640319824, 0.8445078730583191, 0.8530670404434204, 0.8445078730583191, 0.8302425146102905, 0.7931526303291321, 0.8630527853965759, 0.8730385303497314, 0.8758915662765503, 0.840228259563446, 0.804564893245697, 0.851640522480011, 0.8530670404434204, 0.8573466539382935, 0.855920135974884], \"yaxis\": \"y3\"}, {\"legendgroup\": \"3\", \"line\": {\"color\": \"#be59e8\", \"width\": 1}, \"marker\": {\"size\": 4}, \"mode\": \"lines+markers\", \"name\": \"W.D. : 0.01\", \"showlegend\": false, \"type\": \"scatter\", \"x\": [0, 1, 2, 3, 4, 5, 6, 7, 8, 9, 10, 11, 12, 13, 14, 15, 16, 17, 18, 19, 20, 21, 22, 23, 24], \"xaxis\": \"x3\", \"y\": [0.855920135974884, 0.8345221281051636, 0.8801711797714233, 0.7917261123657227, 0.851640522480011, 0.8102710247039795, 0.8473609089851379, 0.8587731719017029, 0.7917261123657227, 0.855920135974884, 0.8131241202354431, 0.8730385303497314, 0.8473609089851379, 0.8388017416000366, 0.8587731719017029, 0.8530670404434204, 0.8430812954902649, 0.8188302516937256, 0.8273894190788269, 0.8730385303497314, 0.8445078730583191, 0.788873016834259, 0.867332398891449, 0.7831668853759766, 0.8174037337303162], \"yaxis\": \"y3\"}, {\"legendgroup\": \"0\", \"line\": {\"color\": \"#5fa8d3\", \"width\": 1}, \"marker\": {\"size\": 4}, \"mode\": \"lines+markers\", \"name\": \"W.D. : 1e-05\", \"showlegend\": false, \"type\": \"scatter\", \"x\": [0, 1, 2, 3, 4, 5, 6, 7, 8, 9, 10, 11, 12, 13, 14, 15, 16, 17, 18, 19, 20, 21, 22, 23, 24], \"xaxis\": \"x4\", \"y\": [0.6305277943611145, 0.7503566145896912, 0.804564893245697, 0.8345221281051636, 0.8345221281051636, 0.8259629011154175, 0.8288159966468811, 0.840228259563446, 0.8487874269485474, 0.8273894190788269, 0.855920135974884, 0.8544935584068298, 0.8388017416000366, 0.8502140045166016, 0.8416547775268555, 0.8502140045166016, 0.8659058213233948, 0.8601996898651123, 0.8616262674331665, 0.8630527853965759, 0.8630527853965759, 0.8659058213233948, 0.8587731719017029, 0.8459343910217285, 0.8587731719017029], \"yaxis\": \"y4\"}, {\"legendgroup\": \"1\", \"line\": {\"color\": \"#1bc965\", \"width\": 1}, \"marker\": {\"size\": 4}, \"mode\": \"lines+markers\", \"name\": \"W.D. : 0.0001\", \"showlegend\": false, \"type\": \"scatter\", \"x\": [0, 1, 2, 3, 4, 5, 6, 7, 8, 9, 10, 11, 12, 13, 14, 15, 16, 17, 18, 19, 20, 21, 22, 23, 24], \"xaxis\": \"x4\", \"y\": [0.7061340808868408, 0.800285279750824, 0.8216832876205444, 0.8430812954902649, 0.835948646068573, 0.8459343910217285, 0.8373751640319824, 0.8601996898651123, 0.8601996898651123, 0.8530670404434204, 0.8587731719017029, 0.851640522480011, 0.8616262674331665, 0.855920135974884, 0.8601996898651123, 0.855920135974884, 0.8473609089851379, 0.8487874269485474, 0.8459343910217285, 0.8630527853965759, 0.8530670404434204, 0.851640522480011, 0.8701854348182678, 0.8601996898651123, 0.8487874269485474], \"yaxis\": \"y4\"}, {\"legendgroup\": \"2\", \"line\": {\"color\": \"#5266cb\", \"width\": 1}, \"marker\": {\"size\": 4}, \"mode\": \"lines+markers\", \"name\": \"W.D. : 0.001\", \"showlegend\": false, \"type\": \"scatter\", \"x\": [0, 1, 2, 3, 4, 5, 6, 7, 8, 9, 10, 11, 12, 13, 14, 15, 16, 17, 18, 19, 20, 21, 22, 23, 24], \"xaxis\": \"x4\", \"y\": [0.6633380651473999, 0.7417974472045898, 0.7660484910011292, 0.7974322438240051, 0.804564893245697, 0.8231098651885986, 0.8487874269485474, 0.8373751640319824, 0.8487874269485474, 0.8630527853965759, 0.8701854348182678, 0.8701854348182678, 0.8630527853965759, 0.8659058213233948, 0.8687589168548584, 0.8573466539382935, 0.8687589168548584, 0.8773181438446045, 0.8630527853965759, 0.871612012386322, 0.8573466539382935, 0.8644793033599854, 0.8758915662765503, 0.8687589168548584, 0.8659058213233948], \"yaxis\": \"y4\"}, {\"legendgroup\": \"3\", \"line\": {\"color\": \"#be59e8\", \"width\": 1}, \"marker\": {\"size\": 4}, \"mode\": \"lines+markers\", \"name\": \"W.D. : 0.01\", \"showlegend\": false, \"type\": \"scatter\", \"x\": [0, 1, 2, 3, 4, 5, 6, 7, 8, 9, 10, 11, 12, 13, 14, 15, 16, 17, 18, 19, 20, 21, 22, 23, 24], \"xaxis\": \"x4\", \"y\": [0.6348074078559875, 0.7902995944023132, 0.8388017416000366, 0.8345221281051636, 0.8430812954902649, 0.8502140045166016, 0.8644793033599854, 0.8445078730583191, 0.8630527853965759, 0.867332398891449, 0.8701854348182678, 0.8587731719017029, 0.8630527853965759, 0.8773181438446045, 0.8630527853965759, 0.8587731719017029, 0.8858773112297058, 0.8630527853965759, 0.8787446618080139, 0.8587731719017029, 0.871612012386322, 0.8744650483131409, 0.8773181438446045, 0.8687589168548584, 0.8616262674331665], \"yaxis\": \"y4\"}, {\"legendgroup\": \"0\", \"line\": {\"color\": \"#5fa8d3\", \"width\": 1}, \"marker\": {\"size\": 4}, \"mode\": \"lines+markers\", \"name\": \"W.D. : 1e-05\", \"showlegend\": false, \"type\": \"scatter\", \"x\": [0, 1, 2, 3, 4, 5, 6, 7, 8, 9, 10, 11, 12, 13, 14, 15, 16, 17, 18, 19, 20, 21, 22, 23, 24], \"xaxis\": \"x5\", \"y\": [0.7803138494491577, 0.8102710247039795, 0.8131241202354431, 0.8302425146102905, 0.8459343910217285, 0.8487874269485474, 0.8330955505371094, 0.8459343910217285, 0.8544935584068298, 0.8616262674331665, 0.8659058213233948, 0.8473609089851379, 0.867332398891449, 0.8430812954902649, 0.855920135974884, 0.8601996898651123, 0.855920135974884, 0.871612012386322, 0.8502140045166016, 0.8473609089851379, 0.8487874269485474, 0.8544935584068298, 0.8544935584068298, 0.8330955505371094, 0.871612012386322], \"yaxis\": \"y5\"}, {\"legendgroup\": \"1\", \"line\": {\"color\": \"#1bc965\", \"width\": 1}, \"marker\": {\"size\": 4}, \"mode\": \"lines+markers\", \"name\": \"W.D. : 0.0001\", \"showlegend\": false, \"type\": \"scatter\", \"x\": [0, 1, 2, 3, 4, 5, 6, 7, 8, 9, 10, 11, 12, 13, 14, 15, 16, 17, 18, 19, 20, 21, 22, 23, 24], \"xaxis\": \"x5\", \"y\": [0.7446504831314087, 0.7974322438240051, 0.800285279750824, 0.8302425146102905, 0.8430812954902649, 0.8345221281051636, 0.8388017416000366, 0.8330955505371094, 0.8473609089851379, 0.8316690325737, 0.8473609089851379, 0.8544935584068298, 0.8445078730583191, 0.8601996898651123, 0.855920135974884, 0.8587731719017029, 0.8473609089851379, 0.8544935584068298, 0.851640522480011, 0.835948646068573, 0.8459343910217285, 0.8587731719017029, 0.8701854348182678, 0.8630527853965759, 0.8587731719017029], \"yaxis\": \"y5\"}, {\"legendgroup\": \"2\", \"line\": {\"color\": \"#5266cb\", \"width\": 1}, \"marker\": {\"size\": 4}, \"mode\": \"lines+markers\", \"name\": \"W.D. : 0.001\", \"showlegend\": false, \"type\": \"scatter\", \"x\": [0, 1, 2, 3, 4, 5, 6, 7, 8, 9, 10, 11, 12, 13, 14, 15, 16, 17, 18, 19, 20, 21, 22, 23, 24], \"xaxis\": \"x5\", \"y\": [0.7660484910011292, 0.8088445067405701, 0.8245363831520081, 0.8487874269485474, 0.8231098651885986, 0.8445078730583191, 0.855920135974884, 0.855920135974884, 0.851640522480011, 0.855920135974884, 0.8544935584068298, 0.8659058213233948, 0.867332398891449, 0.8587731719017029, 0.8616262674331665, 0.8430812954902649, 0.8302425146102905, 0.8573466539382935, 0.855920135974884, 0.8445078730583191, 0.851640522480011, 0.8573466539382935, 0.8473609089851379, 0.8601996898651123, 0.8601996898651123], \"yaxis\": \"y5\"}, {\"legendgroup\": \"3\", \"line\": {\"color\": \"#be59e8\", \"width\": 1}, \"marker\": {\"size\": 4}, \"mode\": \"lines+markers\", \"name\": \"W.D. : 0.01\", \"showlegend\": false, \"type\": \"scatter\", \"x\": [0, 1, 2, 3, 4, 5, 6, 7, 8, 9, 10, 11, 12, 13, 14, 15, 16, 17, 18, 19, 20, 21, 22, 23, 24], \"xaxis\": \"x5\", \"y\": [0.7931526303291321, 0.8273894190788269, 0.8330955505371094, 0.8544935584068298, 0.8630527853965759, 0.8630527853965759, 0.8573466539382935, 0.867332398891449, 0.8701854348182678, 0.8687589168548584, 0.8659058213233948, 0.871612012386322, 0.8758915662765503, 0.8758915662765503, 0.8601996898651123, 0.8701854348182678, 0.8659058213233948, 0.8644793033599854, 0.8487874269485474, 0.8773181438446045, 0.8188302516937256, 0.8687589168548584, 0.8373751640319824, 0.8587731719017029, 0.867332398891449], \"yaxis\": \"y5\"}, {\"legendgroup\": \"0\", \"line\": {\"color\": \"#5fa8d3\", \"width\": 1}, \"marker\": {\"size\": 4}, \"mode\": \"lines+markers\", \"name\": \"W.D. : 1e-05\", \"showlegend\": false, \"type\": \"scatter\", \"x\": [0, 1, 2, 3, 4, 5, 6, 7, 8, 9, 10, 11, 12, 13, 14, 15, 16, 17, 18, 19, 20, 21, 22, 23, 24], \"xaxis\": \"x6\", \"y\": [0.7831668853759766, 0.835948646068573, 0.8416547775268555, 0.8145506381988525, 0.8544935584068298, 0.8430812954902649, 0.8373751640319824, 0.8102710247039795, 0.851640522480011, 0.8644793033599854, 0.8573466539382935, 0.7917261123657227, 0.8174037337303162, 0.8487874269485474, 0.8388017416000366, 0.8473609089851379, 0.8701854348182678, 0.8430812954902649, 0.8601996898651123, 0.8445078730583191, 0.8330955505371094, 0.8388017416000366, 0.8288159966468811, 0.8345221281051636, 0.8502140045166016], \"yaxis\": \"y6\"}, {\"legendgroup\": \"1\", \"line\": {\"color\": \"#1bc965\", \"width\": 1}, \"marker\": {\"size\": 4}, \"mode\": \"lines+markers\", \"name\": \"W.D. : 0.0001\", \"showlegend\": false, \"type\": \"scatter\", \"x\": [0, 1, 2, 3, 4, 5, 6, 7, 8, 9, 10, 11, 12, 13, 14, 15, 16, 17, 18, 19, 20, 21, 22, 23, 24], \"xaxis\": \"x6\", \"y\": [0.8116976022720337, 0.8573466539382935, 0.855920135974884, 0.820256769657135, 0.8587731719017029, 0.8288159966468811, 0.8587731719017029, 0.8273894190788269, 0.8530670404434204, 0.8530670404434204, 0.855920135974884, 0.8430812954902649, 0.8330955505371094, 0.8288159966468811, 0.8502140045166016, 0.8288159966468811, 0.8544935584068298, 0.8587731719017029, 0.8430812954902649, 0.8445078730583191, 0.8102710247039795, 0.8074179887771606, 0.8273894190788269, 0.8587731719017029, 0.8388017416000366], \"yaxis\": \"y6\"}, {\"legendgroup\": \"2\", \"line\": {\"color\": \"#5266cb\", \"width\": 1}, \"marker\": {\"size\": 4}, \"mode\": \"lines+markers\", \"name\": \"W.D. : 0.001\", \"showlegend\": false, \"type\": \"scatter\", \"x\": [0, 1, 2, 3, 4, 5, 6, 7, 8, 9, 10, 11, 12, 13, 14, 15, 16, 17, 18, 19, 20, 21, 22, 23, 24], \"xaxis\": \"x6\", \"y\": [0.8587731719017029, 0.8659058213233948, 0.8787446618080139, 0.840228259563446, 0.8031383752822876, 0.8430812954902649, 0.8259629011154175, 0.8687589168548584, 0.8601996898651123, 0.8430812954902649, 0.851640522480011, 0.8601996898651123, 0.8487874269485474, 0.8573466539382935, 0.8473609089851379, 0.8544935584068298, 0.8302425146102905, 0.8616262674331665, 0.8601996898651123, 0.871612012386322, 0.8459343910217285, 0.8473609089851379, 0.840228259563446, 0.855920135974884, 0.8573466539382935], \"yaxis\": \"y6\"}, {\"legendgroup\": \"3\", \"line\": {\"color\": \"#be59e8\", \"width\": 1}, \"marker\": {\"size\": 4}, \"mode\": \"lines+markers\", \"name\": \"W.D. : 0.01\", \"showlegend\": false, \"type\": \"scatter\", \"x\": [0, 1, 2, 3, 4, 5, 6, 7, 8, 9, 10, 11, 12, 13, 14, 15, 16, 17, 18, 19, 20, 21, 22, 23, 24], \"xaxis\": \"x6\", \"y\": [0.8601996898651123, 0.8573466539382935, 0.8587731719017029, 0.8388017416000366, 0.8616262674331665, 0.871612012386322, 0.8430812954902649, 0.7974322438240051, 0.8316690325737, 0.8544935584068298, 0.815977156162262, 0.8259629011154175, 0.8131241202354431, 0.8302425146102905, 0.8573466539382935, 0.8416547775268555, 0.835948646068573, 0.7960057258605957, 0.8530670404434204, 0.855920135974884, 0.8145506381988525, 0.8102710247039795, 0.8487874269485474, 0.804564893245697, 0.8573466539382935], \"yaxis\": \"y6\"}, {\"legendgroup\": \"0\", \"line\": {\"color\": \"#5fa8d3\", \"width\": 1}, \"marker\": {\"size\": 4}, \"mode\": \"lines+markers\", \"name\": \"W.D. : 1e-05\", \"showlegend\": false, \"type\": \"scatter\", \"x\": [0, 1, 2, 3, 4, 5, 6, 7, 8, 9, 10, 11, 12, 13, 14, 15, 16, 17, 18, 19, 20, 21, 22, 23, 24], \"xaxis\": \"x7\", \"y\": [0.6547788977622986, 0.7489300966262817, 0.7945791482925415, 0.8131241202354431, 0.8216832876205444, 0.8373751640319824, 0.815977156162262, 0.8388017416000366, 0.8388017416000366, 0.8316690325737, 0.8573466539382935, 0.8544935584068298, 0.8644793033599854, 0.8473609089851379, 0.855920135974884, 0.8616262674331665, 0.8573466539382935, 0.8630527853965759, 0.867332398891449, 0.8573466539382935, 0.840228259563446, 0.8630527853965759, 0.8773181438446045, 0.8630527853965759, 0.8616262674331665], \"yaxis\": \"y7\"}, {\"legendgroup\": \"1\", \"line\": {\"color\": \"#1bc965\", \"width\": 1}, \"marker\": {\"size\": 4}, \"mode\": \"lines+markers\", \"name\": \"W.D. : 0.0001\", \"showlegend\": false, \"type\": \"scatter\", \"x\": [0, 1, 2, 3, 4, 5, 6, 7, 8, 9, 10, 11, 12, 13, 14, 15, 16, 17, 18, 19, 20, 21, 22, 23, 24], \"xaxis\": \"x7\", \"y\": [0.5135520696640015, 0.7631954550743103, 0.7845934629440308, 0.8174037337303162, 0.8145506381988525, 0.8416547775268555, 0.8502140045166016, 0.8288159966468811, 0.8459343910217285, 0.855920135974884, 0.871612012386322, 0.8573466539382935, 0.8687589168548584, 0.8815976977348328, 0.8430812954902649, 0.840228259563446, 0.8758915662765503, 0.8416547775268555, 0.8659058213233948, 0.8530670404434204, 0.867332398891449, 0.8730385303497314, 0.8773181438446045, 0.8815976977348328, 0.8730385303497314], \"yaxis\": \"y7\"}, {\"legendgroup\": \"2\", \"line\": {\"color\": \"#5266cb\", \"width\": 1}, \"marker\": {\"size\": 4}, \"mode\": \"lines+markers\", \"name\": \"W.D. : 0.001\", \"showlegend\": false, \"type\": \"scatter\", \"x\": [0, 1, 2, 3, 4, 5, 6, 7, 8, 9, 10, 11, 12, 13, 14, 15, 16, 17, 18, 19, 20, 21, 22, 23, 24], \"xaxis\": \"x7\", \"y\": [0.671897292137146, 0.7432239651679993, 0.7689015865325928, 0.7874464988708496, 0.7774607539176941, 0.7803138494491577, 0.8074179887771606, 0.8116976022720337, 0.8116976022720337, 0.8245363831520081, 0.820256769657135, 0.8302425146102905, 0.8388017416000366, 0.8388017416000366, 0.8430812954902649, 0.851640522480011, 0.8345221281051636, 0.8487874269485474, 0.8373751640319824, 0.8473609089851379, 0.8473609089851379, 0.8473609089851379, 0.8530670404434204, 0.8644793033599854, 0.867332398891449], \"yaxis\": \"y7\"}, {\"legendgroup\": \"3\", \"line\": {\"color\": \"#be59e8\", \"width\": 1}, \"marker\": {\"size\": 4}, \"mode\": \"lines+markers\", \"name\": \"W.D. : 0.01\", \"showlegend\": false, \"type\": \"scatter\", \"x\": [0, 1, 2, 3, 4, 5, 6, 7, 8, 9, 10, 11, 12, 13, 14, 15, 16, 17, 18, 19, 20, 21, 22, 23, 24], \"xaxis\": \"x7\", \"y\": [0.6162624955177307, 0.7360913157463074, 0.7589158415794373, 0.7974322438240051, 0.815977156162262, 0.8302425146102905, 0.8031383752822876, 0.8316690325737, 0.8330955505371094, 0.8416547775268555, 0.8316690325737, 0.8459343910217285, 0.8373751640319824, 0.8445078730583191, 0.835948646068573, 0.8373751640319824, 0.8416547775268555, 0.8459343910217285, 0.8530670404434204, 0.851640522480011, 0.8430812954902649, 0.8388017416000366, 0.8416547775268555, 0.867332398891449, 0.8530670404434204], \"yaxis\": \"y7\"}, {\"legendgroup\": \"0\", \"line\": {\"color\": \"#5fa8d3\", \"width\": 1}, \"marker\": {\"size\": 4}, \"mode\": \"lines+markers\", \"name\": \"W.D. : 1e-05\", \"showlegend\": false, \"type\": \"scatter\", \"x\": [0, 1, 2, 3, 4, 5, 6, 7, 8, 9, 10, 11, 12, 13, 14, 15, 16, 17, 18, 19, 20, 21, 22, 23, 24], \"xaxis\": \"x8\", \"y\": [0.7931526303291321, 0.815977156162262, 0.804564893245697, 0.835948646068573, 0.8473609089851379, 0.8544935584068298, 0.8430812954902649, 0.8630527853965759, 0.867332398891449, 0.8601996898651123, 0.8644793033599854, 0.8644793033599854, 0.867332398891449, 0.855920135974884, 0.8487874269485474, 0.8587731719017029, 0.8616262674331665, 0.8630527853965759, 0.8630527853965759, 0.8659058213233948, 0.8644793033599854, 0.8616262674331665, 0.8630527853965759, 0.8659058213233948, 0.867332398891449], \"yaxis\": \"y8\"}, {\"legendgroup\": \"1\", \"line\": {\"color\": \"#1bc965\", \"width\": 1}, \"marker\": {\"size\": 4}, \"mode\": \"lines+markers\", \"name\": \"W.D. : 0.0001\", \"showlegend\": false, \"type\": \"scatter\", \"x\": [0, 1, 2, 3, 4, 5, 6, 7, 8, 9, 10, 11, 12, 13, 14, 15, 16, 17, 18, 19, 20, 21, 22, 23, 24], \"xaxis\": \"x8\", \"y\": [0.7275320887565613, 0.7931526303291321, 0.8059914112091064, 0.8502140045166016, 0.8473609089851379, 0.840228259563446, 0.8530670404434204, 0.8544935584068298, 0.8630527853965759, 0.851640522480011, 0.8502140045166016, 0.8573466539382935, 0.8445078730583191, 0.8530670404434204, 0.8502140045166016, 0.8587731719017029, 0.855920135974884, 0.8430812954902649, 0.8544935584068298, 0.8601996898651123, 0.8473609089851379, 0.8701854348182678, 0.8445078730583191, 0.8473609089851379, 0.8758915662765503], \"yaxis\": \"y8\"}, {\"legendgroup\": \"2\", \"line\": {\"color\": \"#5266cb\", \"width\": 1}, \"marker\": {\"size\": 4}, \"mode\": \"lines+markers\", \"name\": \"W.D. : 0.001\", \"showlegend\": false, \"type\": \"scatter\", \"x\": [0, 1, 2, 3, 4, 5, 6, 7, 8, 9, 10, 11, 12, 13, 14, 15, 16, 17, 18, 19, 20, 21, 22, 23, 24], \"xaxis\": \"x8\", \"y\": [0.788873016834259, 0.804564893245697, 0.8031383752822876, 0.8416547775268555, 0.835948646068573, 0.8644793033599854, 0.8445078730583191, 0.8573466539382935, 0.8487874269485474, 0.8473609089851379, 0.8530670404434204, 0.8459343910217285, 0.8416547775268555, 0.8373751640319824, 0.835948646068573, 0.8473609089851379, 0.8473609089851379, 0.8416547775268555, 0.8616262674331665, 0.8616262674331665, 0.8601996898651123, 0.8744650483131409, 0.8601996898651123, 0.8430812954902649, 0.8644793033599854], \"yaxis\": \"y8\"}, {\"legendgroup\": \"3\", \"line\": {\"color\": \"#be59e8\", \"width\": 1}, \"marker\": {\"size\": 4}, \"mode\": \"lines+markers\", \"name\": \"W.D. : 0.01\", \"showlegend\": false, \"type\": \"scatter\", \"x\": [0, 1, 2, 3, 4, 5, 6, 7, 8, 9, 10, 11, 12, 13, 14, 15, 16, 17, 18, 19, 20, 21, 22, 23, 24], \"xaxis\": \"x8\", \"y\": [0.7717546224594116, 0.8216832876205444, 0.8416547775268555, 0.8530670404434204, 0.8573466539382935, 0.8345221281051636, 0.8701854348182678, 0.8430812954902649, 0.8630527853965759, 0.835948646068573, 0.8616262674331665, 0.8502140045166016, 0.8473609089851379, 0.8302425146102905, 0.8544935584068298, 0.8416547775268555, 0.8701854348182678, 0.867332398891449, 0.871612012386322, 0.8430812954902649, 0.8601996898651123, 0.8687589168548584, 0.8644793033599854, 0.8273894190788269, 0.8544935584068298], \"yaxis\": \"y8\"}, {\"legendgroup\": \"0\", \"line\": {\"color\": \"#5fa8d3\", \"width\": 1}, \"marker\": {\"size\": 4}, \"mode\": \"lines+markers\", \"name\": \"W.D. : 1e-05\", \"showlegend\": false, \"type\": \"scatter\", \"x\": [0, 1, 2, 3, 4, 5, 6, 7, 8, 9, 10, 11, 12, 13, 14, 15, 16, 17, 18, 19, 20, 21, 22, 23, 24], \"xaxis\": \"x9\", \"y\": [0.7960057258605957, 0.8345221281051636, 0.8502140045166016, 0.8530670404434204, 0.8644793033599854, 0.8659058213233948, 0.8288159966468811, 0.8601996898651123, 0.8587731719017029, 0.8573466539382935, 0.8701854348182678, 0.855920135974884, 0.8659058213233948, 0.8416547775268555, 0.8644793033599854, 0.8601996898651123, 0.8630527853965759, 0.8430812954902649, 0.8659058213233948, 0.8601996898651123, 0.8544935584068298, 0.8530670404434204, 0.8373751640319824, 0.855920135974884, 0.8216832876205444], \"yaxis\": \"y9\"}, {\"legendgroup\": \"1\", \"line\": {\"color\": \"#1bc965\", \"width\": 1}, \"marker\": {\"size\": 4}, \"mode\": \"lines+markers\", \"name\": \"W.D. : 0.0001\", \"showlegend\": false, \"type\": \"scatter\", \"x\": [0, 1, 2, 3, 4, 5, 6, 7, 8, 9, 10, 11, 12, 13, 14, 15, 16, 17, 18, 19, 20, 21, 22, 23, 24], \"xaxis\": \"x9\", \"y\": [0.8373751640319824, 0.8459343910217285, 0.8430812954902649, 0.8573466539382935, 0.8701854348182678, 0.8231098651885986, 0.820256769657135, 0.8502140045166016, 0.8502140045166016, 0.8430812954902649, 0.8487874269485474, 0.7974322438240051, 0.8330955505371094, 0.8330955505371094, 0.7917261123657227, 0.7917261123657227, 0.8017118573188782, 0.8174037337303162, 0.820256769657135, 0.840228259563446, 0.8259629011154175, 0.8445078730583191, 0.8573466539382935, 0.8587731719017029, 0.8487874269485474], \"yaxis\": \"y9\"}, {\"legendgroup\": \"2\", \"line\": {\"color\": \"#5266cb\", \"width\": 1}, \"marker\": {\"size\": 4}, \"mode\": \"lines+markers\", \"name\": \"W.D. : 0.001\", \"showlegend\": false, \"type\": \"scatter\", \"x\": [0, 1, 2, 3, 4, 5, 6, 7, 8, 9, 10, 11, 12, 13, 14, 15, 16, 17, 18, 19, 20, 21, 22, 23, 24], \"xaxis\": \"x9\", \"y\": [0.7917261123657227, 0.820256769657135, 0.8188302516937256, 0.8730385303497314, 0.8388017416000366, 0.835948646068573, 0.8231098651885986, 0.8445078730583191, 0.8116976022720337, 0.8473609089851379, 0.840228259563446, 0.8259629011154175, 0.7845934629440308, 0.8345221281051636, 0.8459343910217285, 0.851640522480011, 0.8330955505371094, 0.8273894190788269, 0.840228259563446, 0.8502140045166016, 0.8273894190788269, 0.8573466539382935, 0.8530670404434204, 0.7960057258605957, 0.835948646068573], \"yaxis\": \"y9\"}, {\"legendgroup\": \"3\", \"line\": {\"color\": \"#be59e8\", \"width\": 1}, \"marker\": {\"size\": 4}, \"mode\": \"lines+markers\", \"name\": \"W.D. : 0.01\", \"showlegend\": false, \"type\": \"scatter\", \"x\": [0, 1, 2, 3, 4, 5, 6, 7, 8, 9, 10, 11, 12, 13, 14, 15, 16, 17, 18, 19, 20, 21, 22, 23, 24], \"xaxis\": \"x9\", \"y\": [0.773181140422821, 0.855920135974884, 0.8316690325737, 0.8616262674331665, 0.8459343910217285, 0.800285279750824, 0.8330955505371094, 0.855920135974884, 0.8587731719017029, 0.8601996898651123, 0.7945791482925415, 0.820256769657135, 0.840228259563446, 0.8174037337303162, 0.8017118573188782, 0.8544935584068298, 0.7874464988708496, 0.8288159966468811, 0.8174037337303162, 0.8502140045166016, 0.8373751640319824, 0.8744650483131409, 0.8416547775268555, 0.8088445067405701, 0.8330955505371094], \"yaxis\": \"y9\"}],\n",
       "                        {\"annotations\": [{\"font\": {\"color\": \"black\", \"size\": 12}, \"showarrow\": false, \"text\": \"Dropout : 0.1 & L.R. : 0.0005\", \"x\": 0.14444444444444446, \"xanchor\": \"center\", \"xref\": \"paper\", \"y\": 1.0, \"yanchor\": \"bottom\", \"yref\": \"paper\"}, {\"font\": {\"color\": \"black\", \"size\": 12}, \"showarrow\": false, \"text\": \"Dropout : 0.1 & L.R. : 0.001\", \"x\": 0.5, \"xanchor\": \"center\", \"xref\": \"paper\", \"y\": 1.0, \"yanchor\": \"bottom\", \"yref\": \"paper\"}, {\"font\": {\"color\": \"black\", \"size\": 12}, \"showarrow\": false, \"text\": \"Dropout : 0.1 & L.R. : 0.005\", \"x\": 0.8555555555555556, \"xanchor\": \"center\", \"xref\": \"paper\", \"y\": 1.0, \"yanchor\": \"bottom\", \"yref\": \"paper\"}, {\"font\": {\"color\": \"black\", \"size\": 12}, \"showarrow\": false, \"text\": \"Dropout : 0.3 & L.R. : 0.0005\", \"x\": 0.14444444444444446, \"xanchor\": \"center\", \"xref\": \"paper\", \"y\": 0.6111111111111112, \"yanchor\": \"bottom\", \"yref\": \"paper\"}, {\"font\": {\"color\": \"black\", \"size\": 12}, \"showarrow\": false, \"text\": \"Dropout : 0.3 & L.R. : 0.001\", \"x\": 0.5, \"xanchor\": \"center\", \"xref\": \"paper\", \"y\": 0.6111111111111112, \"yanchor\": \"bottom\", \"yref\": \"paper\"}, {\"font\": {\"color\": \"black\", \"size\": 12}, \"showarrow\": false, \"text\": \"Dropout : 0.3 & L.R. : 0.005\", \"x\": 0.8555555555555556, \"xanchor\": \"center\", \"xref\": \"paper\", \"y\": 0.6111111111111112, \"yanchor\": \"bottom\", \"yref\": \"paper\"}, {\"font\": {\"color\": \"black\", \"size\": 12}, \"showarrow\": false, \"text\": \"Dropout : 0.5 & L.R. : 0.0005\", \"x\": 0.14444444444444446, \"xanchor\": \"center\", \"xref\": \"paper\", \"y\": 0.22222222222222224, \"yanchor\": \"bottom\", \"yref\": \"paper\"}, {\"font\": {\"color\": \"black\", \"size\": 12}, \"showarrow\": false, \"text\": \"Dropout : 0.5 & L.R. : 0.001\", \"x\": 0.5, \"xanchor\": \"center\", \"xref\": \"paper\", \"y\": 0.22222222222222224, \"yanchor\": \"bottom\", \"yref\": \"paper\"}, {\"font\": {\"color\": \"black\", \"size\": 12}, \"showarrow\": false, \"text\": \"Dropout : 0.5 & L.R. : 0.005\", \"x\": 0.8555555555555556, \"xanchor\": \"center\", \"xref\": \"paper\", \"y\": 0.22222222222222224, \"yanchor\": \"bottom\", \"yref\": \"paper\"}], \"height\": 800, \"template\": {\"data\": {\"bar\": [{\"error_x\": {\"color\": \"#2a3f5f\"}, \"error_y\": {\"color\": \"#2a3f5f\"}, \"marker\": {\"line\": {\"color\": \"#E5ECF6\", \"width\": 0.5}}, \"type\": \"bar\"}], \"barpolar\": [{\"marker\": {\"line\": {\"color\": \"#E5ECF6\", \"width\": 0.5}}, \"type\": \"barpolar\"}], \"carpet\": [{\"aaxis\": {\"endlinecolor\": \"#2a3f5f\", \"gridcolor\": \"white\", \"linecolor\": \"white\", \"minorgridcolor\": \"white\", \"startlinecolor\": \"#2a3f5f\"}, \"baxis\": {\"endlinecolor\": \"#2a3f5f\", \"gridcolor\": \"white\", \"linecolor\": \"white\", \"minorgridcolor\": \"white\", \"startlinecolor\": \"#2a3f5f\"}, \"type\": \"carpet\"}], \"choropleth\": [{\"colorbar\": {\"outlinewidth\": 0, \"ticks\": \"\"}, \"type\": \"choropleth\"}], \"contour\": [{\"colorbar\": {\"outlinewidth\": 0, \"ticks\": \"\"}, \"colorscale\": [[0.0, \"#0d0887\"], [0.1111111111111111, \"#46039f\"], [0.2222222222222222, \"#7201a8\"], [0.3333333333333333, \"#9c179e\"], [0.4444444444444444, \"#bd3786\"], [0.5555555555555556, \"#d8576b\"], [0.6666666666666666, \"#ed7953\"], [0.7777777777777778, \"#fb9f3a\"], [0.8888888888888888, \"#fdca26\"], [1.0, \"#f0f921\"]], \"type\": \"contour\"}], \"contourcarpet\": [{\"colorbar\": {\"outlinewidth\": 0, \"ticks\": \"\"}, \"type\": \"contourcarpet\"}], \"heatmap\": [{\"colorbar\": {\"outlinewidth\": 0, \"ticks\": \"\"}, \"colorscale\": [[0.0, \"#0d0887\"], [0.1111111111111111, \"#46039f\"], [0.2222222222222222, \"#7201a8\"], [0.3333333333333333, \"#9c179e\"], [0.4444444444444444, \"#bd3786\"], [0.5555555555555556, \"#d8576b\"], [0.6666666666666666, \"#ed7953\"], [0.7777777777777778, \"#fb9f3a\"], [0.8888888888888888, \"#fdca26\"], [1.0, \"#f0f921\"]], \"type\": \"heatmap\"}], \"heatmapgl\": [{\"colorbar\": {\"outlinewidth\": 0, \"ticks\": \"\"}, \"colorscale\": [[0.0, \"#0d0887\"], [0.1111111111111111, \"#46039f\"], [0.2222222222222222, \"#7201a8\"], [0.3333333333333333, \"#9c179e\"], [0.4444444444444444, \"#bd3786\"], [0.5555555555555556, \"#d8576b\"], [0.6666666666666666, \"#ed7953\"], [0.7777777777777778, \"#fb9f3a\"], [0.8888888888888888, \"#fdca26\"], [1.0, \"#f0f921\"]], \"type\": \"heatmapgl\"}], \"histogram\": [{\"marker\": {\"colorbar\": {\"outlinewidth\": 0, \"ticks\": \"\"}}, \"type\": \"histogram\"}], \"histogram2d\": [{\"colorbar\": {\"outlinewidth\": 0, \"ticks\": \"\"}, \"colorscale\": [[0.0, \"#0d0887\"], [0.1111111111111111, \"#46039f\"], [0.2222222222222222, \"#7201a8\"], [0.3333333333333333, \"#9c179e\"], [0.4444444444444444, \"#bd3786\"], [0.5555555555555556, \"#d8576b\"], [0.6666666666666666, \"#ed7953\"], [0.7777777777777778, \"#fb9f3a\"], [0.8888888888888888, \"#fdca26\"], [1.0, \"#f0f921\"]], \"type\": \"histogram2d\"}], \"histogram2dcontour\": [{\"colorbar\": {\"outlinewidth\": 0, \"ticks\": \"\"}, \"colorscale\": [[0.0, \"#0d0887\"], [0.1111111111111111, \"#46039f\"], [0.2222222222222222, \"#7201a8\"], [0.3333333333333333, \"#9c179e\"], [0.4444444444444444, \"#bd3786\"], [0.5555555555555556, \"#d8576b\"], [0.6666666666666666, \"#ed7953\"], [0.7777777777777778, \"#fb9f3a\"], [0.8888888888888888, \"#fdca26\"], [1.0, \"#f0f921\"]], \"type\": \"histogram2dcontour\"}], \"mesh3d\": [{\"colorbar\": {\"outlinewidth\": 0, \"ticks\": \"\"}, \"type\": \"mesh3d\"}], \"parcoords\": [{\"line\": {\"colorbar\": {\"outlinewidth\": 0, \"ticks\": \"\"}}, \"type\": \"parcoords\"}], \"pie\": [{\"automargin\": true, \"type\": \"pie\"}], \"scatter\": [{\"marker\": {\"colorbar\": {\"outlinewidth\": 0, \"ticks\": \"\"}}, \"type\": \"scatter\"}], \"scatter3d\": [{\"line\": {\"colorbar\": {\"outlinewidth\": 0, \"ticks\": \"\"}}, \"marker\": {\"colorbar\": {\"outlinewidth\": 0, \"ticks\": \"\"}}, \"type\": \"scatter3d\"}], \"scattercarpet\": [{\"marker\": {\"colorbar\": {\"outlinewidth\": 0, \"ticks\": \"\"}}, \"type\": \"scattercarpet\"}], \"scattergeo\": [{\"marker\": {\"colorbar\": {\"outlinewidth\": 0, \"ticks\": \"\"}}, \"type\": \"scattergeo\"}], \"scattergl\": [{\"marker\": {\"colorbar\": {\"outlinewidth\": 0, \"ticks\": \"\"}}, \"type\": \"scattergl\"}], \"scattermapbox\": [{\"marker\": {\"colorbar\": {\"outlinewidth\": 0, \"ticks\": \"\"}}, \"type\": \"scattermapbox\"}], \"scatterpolar\": [{\"marker\": {\"colorbar\": {\"outlinewidth\": 0, \"ticks\": \"\"}}, \"type\": \"scatterpolar\"}], \"scatterpolargl\": [{\"marker\": {\"colorbar\": {\"outlinewidth\": 0, \"ticks\": \"\"}}, \"type\": \"scatterpolargl\"}], \"scatterternary\": [{\"marker\": {\"colorbar\": {\"outlinewidth\": 0, \"ticks\": \"\"}}, \"type\": \"scatterternary\"}], \"surface\": [{\"colorbar\": {\"outlinewidth\": 0, \"ticks\": \"\"}, \"colorscale\": [[0.0, \"#0d0887\"], [0.1111111111111111, \"#46039f\"], [0.2222222222222222, \"#7201a8\"], [0.3333333333333333, \"#9c179e\"], [0.4444444444444444, \"#bd3786\"], [0.5555555555555556, \"#d8576b\"], [0.6666666666666666, \"#ed7953\"], [0.7777777777777778, \"#fb9f3a\"], [0.8888888888888888, \"#fdca26\"], [1.0, \"#f0f921\"]], \"type\": \"surface\"}], \"table\": [{\"cells\": {\"fill\": {\"color\": \"#EBF0F8\"}, \"line\": {\"color\": \"white\"}}, \"header\": {\"fill\": {\"color\": \"#C8D4E3\"}, \"line\": {\"color\": \"white\"}}, \"type\": \"table\"}]}, \"layout\": {\"annotationdefaults\": {\"arrowcolor\": \"#2a3f5f\", \"arrowhead\": 0, \"arrowwidth\": 1}, \"coloraxis\": {\"colorbar\": {\"outlinewidth\": 0, \"ticks\": \"\"}}, \"colorscale\": {\"diverging\": [[0, \"#8e0152\"], [0.1, \"#c51b7d\"], [0.2, \"#de77ae\"], [0.3, \"#f1b6da\"], [0.4, \"#fde0ef\"], [0.5, \"#f7f7f7\"], [0.6, \"#e6f5d0\"], [0.7, \"#b8e186\"], [0.8, \"#7fbc41\"], [0.9, \"#4d9221\"], [1, \"#276419\"]], \"sequential\": [[0.0, \"#0d0887\"], [0.1111111111111111, \"#46039f\"], [0.2222222222222222, \"#7201a8\"], [0.3333333333333333, \"#9c179e\"], [0.4444444444444444, \"#bd3786\"], [0.5555555555555556, \"#d8576b\"], [0.6666666666666666, \"#ed7953\"], [0.7777777777777778, \"#fb9f3a\"], [0.8888888888888888, \"#fdca26\"], [1.0, \"#f0f921\"]], \"sequentialminus\": [[0.0, \"#0d0887\"], [0.1111111111111111, \"#46039f\"], [0.2222222222222222, \"#7201a8\"], [0.3333333333333333, \"#9c179e\"], [0.4444444444444444, \"#bd3786\"], [0.5555555555555556, \"#d8576b\"], [0.6666666666666666, \"#ed7953\"], [0.7777777777777778, \"#fb9f3a\"], [0.8888888888888888, \"#fdca26\"], [1.0, \"#f0f921\"]]}, \"colorway\": [\"#636efa\", \"#EF553B\", \"#00cc96\", \"#ab63fa\", \"#FFA15A\", \"#19d3f3\", \"#FF6692\", \"#B6E880\", \"#FF97FF\", \"#FECB52\"], \"font\": {\"color\": \"#2a3f5f\"}, \"geo\": {\"bgcolor\": \"white\", \"lakecolor\": \"white\", \"landcolor\": \"#E5ECF6\", \"showlakes\": true, \"showland\": true, \"subunitcolor\": \"white\"}, \"hoverlabel\": {\"align\": \"left\"}, \"hovermode\": \"closest\", \"mapbox\": {\"style\": \"light\"}, \"paper_bgcolor\": \"white\", \"plot_bgcolor\": \"#E5ECF6\", \"polar\": {\"angularaxis\": {\"gridcolor\": \"white\", \"linecolor\": \"white\", \"ticks\": \"\"}, \"bgcolor\": \"#E5ECF6\", \"radialaxis\": {\"gridcolor\": \"white\", \"linecolor\": \"white\", \"ticks\": \"\"}}, \"scene\": {\"xaxis\": {\"backgroundcolor\": \"#E5ECF6\", \"gridcolor\": \"white\", \"gridwidth\": 2, \"linecolor\": \"white\", \"showbackground\": true, \"ticks\": \"\", \"zerolinecolor\": \"white\"}, \"yaxis\": {\"backgroundcolor\": \"#E5ECF6\", \"gridcolor\": \"white\", \"gridwidth\": 2, \"linecolor\": \"white\", \"showbackground\": true, \"ticks\": \"\", \"zerolinecolor\": \"white\"}, \"zaxis\": {\"backgroundcolor\": \"#E5ECF6\", \"gridcolor\": \"white\", \"gridwidth\": 2, \"linecolor\": \"white\", \"showbackground\": true, \"ticks\": \"\", \"zerolinecolor\": \"white\"}}, \"shapedefaults\": {\"line\": {\"color\": \"#2a3f5f\"}}, \"ternary\": {\"aaxis\": {\"gridcolor\": \"white\", \"linecolor\": \"white\", \"ticks\": \"\"}, \"baxis\": {\"gridcolor\": \"white\", \"linecolor\": \"white\", \"ticks\": \"\"}, \"bgcolor\": \"#E5ECF6\", \"caxis\": {\"gridcolor\": \"white\", \"linecolor\": \"white\", \"ticks\": \"\"}}, \"title\": {\"x\": 0.05}, \"xaxis\": {\"automargin\": true, \"gridcolor\": \"white\", \"linecolor\": \"white\", \"ticks\": \"\", \"title\": {\"standoff\": 15}, \"zerolinecolor\": \"white\", \"zerolinewidth\": 2}, \"yaxis\": {\"automargin\": true, \"gridcolor\": \"white\", \"linecolor\": \"white\", \"ticks\": \"\", \"title\": {\"standoff\": 15}, \"zerolinecolor\": \"white\", \"zerolinewidth\": 2}}}, \"title\": {\"text\": \"Validation accuracy with respect to epochs for different hyper parameters\", \"x\": 0.5}, \"width\": 950, \"xaxis\": {\"anchor\": \"y\", \"domain\": [0.0, 0.2888888888888889], \"gridcolor\": \"LightGrey\", \"gridwidth\": 1, \"showgrid\": true, \"tickfont\": {\"size\": 8}, \"title\": {\"font\": {\"size\": 10}, \"text\": \"Epoch\"}}, \"xaxis2\": {\"anchor\": \"y2\", \"domain\": [0.35555555555555557, 0.6444444444444445], \"gridcolor\": \"LightGrey\", \"gridwidth\": 1, \"showgrid\": true, \"tickfont\": {\"size\": 8}, \"title\": {\"font\": {\"size\": 10}}}, \"xaxis3\": {\"anchor\": \"y3\", \"domain\": [0.7111111111111111, 1.0], \"gridcolor\": \"LightGrey\", \"gridwidth\": 1, \"showgrid\": true, \"tickfont\": {\"size\": 8}, \"title\": {\"font\": {\"size\": 10}}}, \"xaxis4\": {\"anchor\": \"y4\", \"domain\": [0.0, 0.2888888888888889], \"gridcolor\": \"LightGrey\", \"gridwidth\": 1, \"showgrid\": true, \"tickfont\": {\"size\": 8}, \"title\": {\"font\": {\"size\": 10}}}, \"xaxis5\": {\"anchor\": \"y5\", \"domain\": [0.35555555555555557, 0.6444444444444445], \"gridcolor\": \"LightGrey\", \"gridwidth\": 1, \"showgrid\": true, \"tickfont\": {\"size\": 8}, \"title\": {\"font\": {\"size\": 10}}}, \"xaxis6\": {\"anchor\": \"y6\", \"domain\": [0.7111111111111111, 1.0], \"gridcolor\": \"LightGrey\", \"gridwidth\": 1, \"showgrid\": true, \"tickfont\": {\"size\": 8}, \"title\": {\"font\": {\"size\": 10}}}, \"xaxis7\": {\"anchor\": \"y7\", \"domain\": [0.0, 0.2888888888888889], \"gridcolor\": \"LightGrey\", \"gridwidth\": 1, \"showgrid\": true, \"tickfont\": {\"size\": 8}, \"title\": {\"font\": {\"size\": 10}}}, \"xaxis8\": {\"anchor\": \"y8\", \"domain\": [0.35555555555555557, 0.6444444444444445], \"gridcolor\": \"LightGrey\", \"gridwidth\": 1, \"showgrid\": true, \"tickfont\": {\"size\": 8}, \"title\": {\"font\": {\"size\": 10}}}, \"xaxis9\": {\"anchor\": \"y9\", \"domain\": [0.7111111111111111, 1.0], \"gridcolor\": \"LightGrey\", \"gridwidth\": 1, \"showgrid\": true, \"tickfont\": {\"size\": 8}, \"title\": {\"font\": {\"size\": 10}}}, \"yaxis\": {\"anchor\": \"x\", \"autorange\": false, \"domain\": [0.7777777777777778, 1.0], \"gridcolor\": \"LightGrey\", \"gridwidth\": 1, \"range\": [0.6, 0.9], \"showgrid\": true, \"tickfont\": {\"size\": 8}, \"title\": {\"font\": {\"size\": 10}, \"text\": \"Validation accuracy (%)\"}}, \"yaxis2\": {\"anchor\": \"x2\", \"autorange\": false, \"domain\": [0.7777777777777778, 1.0], \"gridcolor\": \"LightGrey\", \"gridwidth\": 1, \"range\": [0.6, 0.9], \"showgrid\": true, \"tickfont\": {\"size\": 8}, \"title\": {\"font\": {\"size\": 10}}}, \"yaxis3\": {\"anchor\": \"x3\", \"autorange\": false, \"domain\": [0.7777777777777778, 1.0], \"gridcolor\": \"LightGrey\", \"gridwidth\": 1, \"range\": [0.6, 0.9], \"showgrid\": true, \"tickfont\": {\"size\": 8}, \"title\": {\"font\": {\"size\": 10}}}, \"yaxis4\": {\"anchor\": \"x4\", \"autorange\": false, \"domain\": [0.3888888888888889, 0.6111111111111112], \"gridcolor\": \"LightGrey\", \"gridwidth\": 1, \"range\": [0.6, 0.9], \"showgrid\": true, \"tickfont\": {\"size\": 8}, \"title\": {\"font\": {\"size\": 10}}}, \"yaxis5\": {\"anchor\": \"x5\", \"autorange\": false, \"domain\": [0.3888888888888889, 0.6111111111111112], \"gridcolor\": \"LightGrey\", \"gridwidth\": 1, \"range\": [0.6, 0.9], \"showgrid\": true, \"tickfont\": {\"size\": 8}, \"title\": {\"font\": {\"size\": 10}}}, \"yaxis6\": {\"anchor\": \"x6\", \"autorange\": false, \"domain\": [0.3888888888888889, 0.6111111111111112], \"gridcolor\": \"LightGrey\", \"gridwidth\": 1, \"range\": [0.6, 0.9], \"showgrid\": true, \"tickfont\": {\"size\": 8}, \"title\": {\"font\": {\"size\": 10}}}, \"yaxis7\": {\"anchor\": \"x7\", \"autorange\": false, \"domain\": [0.0, 0.22222222222222224], \"gridcolor\": \"LightGrey\", \"gridwidth\": 1, \"range\": [0.6, 0.9], \"showgrid\": true, \"tickfont\": {\"size\": 8}, \"title\": {\"font\": {\"size\": 10}}}, \"yaxis8\": {\"anchor\": \"x8\", \"autorange\": false, \"domain\": [0.0, 0.22222222222222224], \"gridcolor\": \"LightGrey\", \"gridwidth\": 1, \"range\": [0.6, 0.9], \"showgrid\": true, \"tickfont\": {\"size\": 8}, \"title\": {\"font\": {\"size\": 10}}}, \"yaxis9\": {\"anchor\": \"x9\", \"autorange\": false, \"domain\": [0.0, 0.22222222222222224], \"gridcolor\": \"LightGrey\", \"gridwidth\": 1, \"range\": [0.6, 0.9], \"showgrid\": true, \"tickfont\": {\"size\": 8}, \"title\": {\"font\": {\"size\": 10}}}},\n",
       "                        {\"responsive\": true}\n",
       "                    ).then(function(){\n",
       "                            \n",
       "var gd = document.getElementById('3919b364-4d16-457a-a98d-34c7393fe8ad');\n",
       "var x = new MutationObserver(function (mutations, observer) {{\n",
       "        var display = window.getComputedStyle(gd).display;\n",
       "        if (!display || display === 'none') {{\n",
       "            console.log([gd, 'removed!']);\n",
       "            Plotly.purge(gd);\n",
       "            observer.disconnect();\n",
       "        }}\n",
       "}});\n",
       "\n",
       "// Listen for the removal of the full notebook cells\n",
       "var notebookContainer = gd.closest('#notebook-container');\n",
       "if (notebookContainer) {{\n",
       "    x.observe(notebookContainer, {childList: true});\n",
       "}}\n",
       "\n",
       "// Listen for the clearing of the current output cell\n",
       "var outputEl = gd.closest('.output');\n",
       "if (outputEl) {{\n",
       "    x.observe(outputEl, {childList: true});\n",
       "}}\n",
       "\n",
       "                        })\n",
       "                };\n",
       "                });\n",
       "            </script>\n",
       "        </div>"
      ]
     },
     "metadata": {},
     "output_type": "display_data"
    }
   ],
   "source": [
    "# Parameters\n",
    "dropouts = [0.1, 0.3, 0.5]\n",
    "learning_rates = [0.0005, 0.001, 0.005]\n",
    "weight_decays = [0.00001, 0.0001, 0.001, 0.01]\n",
    "\n",
    "# Plot titles\n",
    "plot_titles = []\n",
    "for d in dropouts:\n",
    "    for l in learning_rates:\n",
    "        plot_titles.append(\"Dropout : \" + str(d) + \" & L.R. : \" + str(l))\n",
    "\n",
    "# Instanciate the figure\n",
    "fig = make_subplots(rows = 3, cols = 3, subplot_titles = (plot_titles))    \n",
    "\n",
    "# Change the font of the subplots title\n",
    "for i in fig['layout']['annotations']:\n",
    "    i['font'] = dict(size = 12,color = 'black')\n",
    "    \n",
    "# Plot all of the validation accuracies with respect to epochs\n",
    "show_legend = True\n",
    "colors = ['#5fa8d3','#1bc965','#5266cb','#be59e8']\n",
    "for d in range(len(dropouts)):\n",
    "    for l in range(len(learning_rates)):\n",
    "        for w in range(len(weight_decays)):\n",
    "            \n",
    "            # Avoiding duplicate legends\n",
    "            if ((d != 0)|(l != 0)):\n",
    "                show_legend = False\n",
    "            \n",
    "            # Add trace\n",
    "            fig.append_trace(go.Scatter(\n",
    "                x = [e for e in range(25)],\n",
    "                y = literal_eval(\n",
    "                     df[(df['dropout'] == dropouts[d])&\\\n",
    "                    (df['weight_decay'] == weight_decays[w])&\\\n",
    "                    (df['learning_rate'] == learning_rates[l])]['val_accuracy'].tolist()[0]),\n",
    "                legendgroup = str(w),\n",
    "                name = 'W.D. : ' + str(weight_decays[w]),\n",
    "                showlegend = show_legend,\n",
    "                mode = 'lines+markers',\n",
    "                marker = {'size':4},\n",
    "                line = dict(\n",
    "                    color = colors[w],\n",
    "                    width = 1),\n",
    "            ), row = d + 1, col = l + 1)\n",
    "\n",
    "# Fill x and y axis for the first plot\n",
    "fig.update_yaxes(title_text = \"Validation accuracy (%)\", row = 1, col = 1)\n",
    "fig.update_xaxes(title_text = \"Epoch\", row = 1, col = 1)\n",
    "fig.update_yaxes(range = [0.6, 0.9], autorange = False, tickfont = dict(size = 8), titlefont = dict(size = 10), showgrid = True, gridwidth = 1, gridcolor = 'LightGrey')\n",
    "fig.update_xaxes(tickfont = dict(size = 8), titlefont = dict(size = 10), showgrid = True, gridwidth = 1, gridcolor = 'LightGrey')\n",
    "\n",
    "# Add title and show the figure\n",
    "fig.update_layout(height = 800, width = 950, title_text = \"Validation accuracy with respect to epochs for different hyper parameters\", title_x = 0.5)\n",
    "fig.show()"
   ]
  },
  {
   "cell_type": "markdown",
   "metadata": {},
   "source": [
    "__Observation__ : The best hyper-parameters seem to be the following :\n",
    "- Learning rate = 0.0005\n",
    "- Dropout = 0.5\n",
    "- Weight decay = 0.0001\n",
    "\n",
    "These parameters will be used for training that follows."
   ]
  },
  {
   "cell_type": "markdown",
   "metadata": {},
   "source": [
    "### _Train the model_"
   ]
  },
  {
   "cell_type": "code",
   "execution_count": 545,
   "metadata": {},
   "outputs": [],
   "source": [
    "# Freezing the already trained layers so that their parameters don't get updated when training the last layer\n",
    "for layer in model.layers[:-1]:\n",
    "    layer.trainable = False"
   ]
  },
  {
   "cell_type": "code",
   "execution_count": 546,
   "metadata": {},
   "outputs": [],
   "source": [
    "# Compile the model, use an Adam optimizer\n",
    "model.compile(Adam(lr = learning_rate), loss = loss_f, metrics = ['accuracy'])"
   ]
  },
  {
   "cell_type": "code",
   "execution_count": 547,
   "metadata": {},
   "outputs": [],
   "source": [
    "# Train the model with more epochs, with tuned hyper parameters\n",
    "history = model.fit_generator(train_batches, validation_data = valid_batches, epochs = n_epochs, verbose = 0)"
   ]
  },
  {
   "cell_type": "code",
   "execution_count": 549,
   "metadata": {},
   "outputs": [
    {
     "data": {
      "application/vnd.plotly.v1+json": {
       "config": {
        "plotlyServerURL": "https://plot.ly"
       },
       "data": [
        {
         "marker": {
          "size": 5
         },
         "mode": "lines+markers",
         "name": "Training Accuracy",
         "type": "scatter",
         "x": [
          0,
          1,
          2,
          3,
          4,
          5,
          6,
          7,
          8,
          9,
          10,
          11,
          12,
          13,
          14,
          15,
          16,
          17,
          18,
          19,
          20,
          21,
          22,
          23,
          24,
          25,
          26,
          27,
          28,
          29,
          30,
          31,
          32,
          33,
          34,
          35,
          36,
          37,
          38,
          39
         ],
         "xaxis": "x",
         "y": [
          0.3650285005569458,
          0.6093304753303528,
          0.7158119678497314,
          0.7578347325325012,
          0.7784900069236755,
          0.811965823173523,
          0.8240740895271301,
          0.8344017267227173,
          0.8393874764442444,
          0.8490028381347656,
          0.8543447256088257,
          0.8422364592552185,
          0.8536324501037598,
          0.8636040091514587,
          0.8632478713989258,
          0.8660968542098999,
          0.8685897588729858,
          0.8817663788795471,
          0.8803418874740601,
          0.8853276371955872,
          0.8839031457901001,
          0.8739316463470459,
          0.8867521286010742,
          0.8867521286010742,
          0.8938746452331543,
          0.8910256624221802,
          0.8920940160751343,
          0.8846153616905212,
          0.8981481194496155,
          0.8871082663536072,
          0.8910256624221802,
          0.8938746452331543,
          0.8920940160751343,
          0.8942307829856873,
          0.8981481194496155,
          0.8896011114120483,
          0.8928062915802002,
          0.8977920413017273,
          0.8999287486076355,
          0.9034900069236755
         ],
         "yaxis": "y"
        },
        {
         "marker": {
          "size": 5
         },
         "mode": "lines+markers",
         "name": "Validation Accuracy",
         "type": "scatter",
         "x": [
          0,
          1,
          2,
          3,
          4,
          5,
          6,
          7,
          8,
          9,
          10,
          11,
          12,
          13,
          14,
          15,
          16,
          17,
          18,
          19,
          20,
          21,
          22,
          23,
          24,
          25,
          26,
          27,
          28,
          29,
          30,
          31,
          32,
          33,
          34,
          35,
          36,
          37,
          38,
          39
         ],
         "xaxis": "x",
         "y": [
          0.656205415725708,
          0.7617688775062561,
          0.7774607539176941,
          0.7902995944023132,
          0.7902995944023132,
          0.8145506381988525,
          0.8188302516937256,
          0.8330955505371094,
          0.8231098651885986,
          0.8074179887771606,
          0.8302425146102905,
          0.8259629011154175,
          0.8544935584068298,
          0.8373751640319824,
          0.8487874269485474,
          0.8544935584068298,
          0.855920135974884,
          0.8587731719017029,
          0.8630527853965759,
          0.8544935584068298,
          0.8502140045166016,
          0.8544935584068298,
          0.855920135974884,
          0.8487874269485474,
          0.8430812954902649,
          0.8687589168548584,
          0.851640522480011,
          0.8587731719017029,
          0.851640522480011,
          0.8616262674331665,
          0.8630527853965759,
          0.8573466539382935,
          0.8288159966468811,
          0.8487874269485474,
          0.851640522480011,
          0.8544935584068298,
          0.8416547775268555,
          0.8445078730583191,
          0.8345221281051636,
          0.8502140045166016
         ],
         "yaxis": "y"
        },
        {
         "marker": {
          "size": 5
         },
         "mode": "lines+markers",
         "name": "Training Loss",
         "type": "scatter",
         "x": [
          0,
          1,
          2,
          3,
          4,
          5,
          6,
          7,
          8,
          9,
          10,
          11,
          12,
          13,
          14,
          15,
          16,
          17,
          18,
          19,
          20,
          21,
          22,
          23,
          24,
          25,
          26,
          27,
          28,
          29,
          30,
          31,
          32,
          33,
          34,
          35,
          36,
          37,
          38,
          39
         ],
         "xaxis": "x2",
         "y": [
          1.6565750698078732,
          1.0286492567795973,
          0.7848436248268497,
          0.6676209030667601,
          0.6030981012559005,
          0.5425044067225225,
          0.5094246117138116,
          0.47304135934579744,
          0.46231199091995545,
          0.45541705365194557,
          0.4173291223680871,
          0.41839327949744004,
          0.398232888547104,
          0.3806451073399297,
          0.3817167848433524,
          0.36579001773456565,
          0.3592526241075619,
          0.33531325894203623,
          0.3348043459093469,
          0.33256052684919785,
          0.3316754882152264,
          0.3380257355691361,
          0.3182127626023741,
          0.3165741080147588,
          0.30451719212396194,
          0.3057460885951322,
          0.2973907267266189,
          0.31473001268854167,
          0.2794287608050213,
          0.3048420987407706,
          0.3023038722171403,
          0.2918818143867699,
          0.2916804918876061,
          0.2972634224555431,
          0.28612880073381625,
          0.29971808585685883,
          0.2971509847036454,
          0.28346579010330375,
          0.2798110279347482,
          0.2754913492080493
         ],
         "yaxis": "y2"
        },
        {
         "marker": {
          "size": 5
         },
         "mode": "lines+markers",
         "name": "Validation Loss",
         "type": "scatter",
         "x": [
          0,
          1,
          2,
          3,
          4,
          5,
          6,
          7,
          8,
          9,
          10,
          11,
          12,
          13,
          14,
          15,
          16,
          17,
          18,
          19,
          20,
          21,
          22,
          23,
          24,
          25,
          26,
          27,
          28,
          29,
          30,
          31,
          32,
          33,
          34,
          35,
          36,
          37,
          38,
          39
         ],
         "xaxis": "x2",
         "y": [
          1.1029032468795776,
          0.5616488456726074,
          0.4520532190799713,
          0.40356504917144775,
          0.549650251865387,
          0.4366213381290436,
          0.5203491449356079,
          0.5745731592178345,
          0.3997255265712738,
          0.329722136259079,
          0.4497760534286499,
          0.3398570716381073,
          0.4134083688259125,
          0.4708902835845947,
          0.2384786307811737,
          0.381550669670105,
          0.4089347720146179,
          0.4248584508895874,
          0.2798076570034027,
          0.4823804497718811,
          0.4712233543395996,
          0.43368881940841675,
          0.5562365651130676,
          0.5733751058578491,
          0.33474862575531006,
          0.47807973623275757,
          0.3774791359901428,
          0.2674497663974762,
          0.29268041253089905,
          0.4722803831100464,
          0.3152707815170288,
          0.46893954277038574,
          0.5704150795936584,
          0.3078887462615967,
          0.23383428156375885,
          0.33497098088264465,
          0.43989986181259155,
          0.6094844937324524,
          0.4374060332775116,
          0.26633140444755554
         ],
         "yaxis": "y2"
        }
       ],
       "layout": {
        "height": 800,
        "template": {
         "data": {
          "bar": [
           {
            "error_x": {
             "color": "#2a3f5f"
            },
            "error_y": {
             "color": "#2a3f5f"
            },
            "marker": {
             "line": {
              "color": "#E5ECF6",
              "width": 0.5
             }
            },
            "type": "bar"
           }
          ],
          "barpolar": [
           {
            "marker": {
             "line": {
              "color": "#E5ECF6",
              "width": 0.5
             }
            },
            "type": "barpolar"
           }
          ],
          "carpet": [
           {
            "aaxis": {
             "endlinecolor": "#2a3f5f",
             "gridcolor": "white",
             "linecolor": "white",
             "minorgridcolor": "white",
             "startlinecolor": "#2a3f5f"
            },
            "baxis": {
             "endlinecolor": "#2a3f5f",
             "gridcolor": "white",
             "linecolor": "white",
             "minorgridcolor": "white",
             "startlinecolor": "#2a3f5f"
            },
            "type": "carpet"
           }
          ],
          "choropleth": [
           {
            "colorbar": {
             "outlinewidth": 0,
             "ticks": ""
            },
            "type": "choropleth"
           }
          ],
          "contour": [
           {
            "colorbar": {
             "outlinewidth": 0,
             "ticks": ""
            },
            "colorscale": [
             [
              0,
              "#0d0887"
             ],
             [
              0.1111111111111111,
              "#46039f"
             ],
             [
              0.2222222222222222,
              "#7201a8"
             ],
             [
              0.3333333333333333,
              "#9c179e"
             ],
             [
              0.4444444444444444,
              "#bd3786"
             ],
             [
              0.5555555555555556,
              "#d8576b"
             ],
             [
              0.6666666666666666,
              "#ed7953"
             ],
             [
              0.7777777777777778,
              "#fb9f3a"
             ],
             [
              0.8888888888888888,
              "#fdca26"
             ],
             [
              1,
              "#f0f921"
             ]
            ],
            "type": "contour"
           }
          ],
          "contourcarpet": [
           {
            "colorbar": {
             "outlinewidth": 0,
             "ticks": ""
            },
            "type": "contourcarpet"
           }
          ],
          "heatmap": [
           {
            "colorbar": {
             "outlinewidth": 0,
             "ticks": ""
            },
            "colorscale": [
             [
              0,
              "#0d0887"
             ],
             [
              0.1111111111111111,
              "#46039f"
             ],
             [
              0.2222222222222222,
              "#7201a8"
             ],
             [
              0.3333333333333333,
              "#9c179e"
             ],
             [
              0.4444444444444444,
              "#bd3786"
             ],
             [
              0.5555555555555556,
              "#d8576b"
             ],
             [
              0.6666666666666666,
              "#ed7953"
             ],
             [
              0.7777777777777778,
              "#fb9f3a"
             ],
             [
              0.8888888888888888,
              "#fdca26"
             ],
             [
              1,
              "#f0f921"
             ]
            ],
            "type": "heatmap"
           }
          ],
          "heatmapgl": [
           {
            "colorbar": {
             "outlinewidth": 0,
             "ticks": ""
            },
            "colorscale": [
             [
              0,
              "#0d0887"
             ],
             [
              0.1111111111111111,
              "#46039f"
             ],
             [
              0.2222222222222222,
              "#7201a8"
             ],
             [
              0.3333333333333333,
              "#9c179e"
             ],
             [
              0.4444444444444444,
              "#bd3786"
             ],
             [
              0.5555555555555556,
              "#d8576b"
             ],
             [
              0.6666666666666666,
              "#ed7953"
             ],
             [
              0.7777777777777778,
              "#fb9f3a"
             ],
             [
              0.8888888888888888,
              "#fdca26"
             ],
             [
              1,
              "#f0f921"
             ]
            ],
            "type": "heatmapgl"
           }
          ],
          "histogram": [
           {
            "marker": {
             "colorbar": {
              "outlinewidth": 0,
              "ticks": ""
             }
            },
            "type": "histogram"
           }
          ],
          "histogram2d": [
           {
            "colorbar": {
             "outlinewidth": 0,
             "ticks": ""
            },
            "colorscale": [
             [
              0,
              "#0d0887"
             ],
             [
              0.1111111111111111,
              "#46039f"
             ],
             [
              0.2222222222222222,
              "#7201a8"
             ],
             [
              0.3333333333333333,
              "#9c179e"
             ],
             [
              0.4444444444444444,
              "#bd3786"
             ],
             [
              0.5555555555555556,
              "#d8576b"
             ],
             [
              0.6666666666666666,
              "#ed7953"
             ],
             [
              0.7777777777777778,
              "#fb9f3a"
             ],
             [
              0.8888888888888888,
              "#fdca26"
             ],
             [
              1,
              "#f0f921"
             ]
            ],
            "type": "histogram2d"
           }
          ],
          "histogram2dcontour": [
           {
            "colorbar": {
             "outlinewidth": 0,
             "ticks": ""
            },
            "colorscale": [
             [
              0,
              "#0d0887"
             ],
             [
              0.1111111111111111,
              "#46039f"
             ],
             [
              0.2222222222222222,
              "#7201a8"
             ],
             [
              0.3333333333333333,
              "#9c179e"
             ],
             [
              0.4444444444444444,
              "#bd3786"
             ],
             [
              0.5555555555555556,
              "#d8576b"
             ],
             [
              0.6666666666666666,
              "#ed7953"
             ],
             [
              0.7777777777777778,
              "#fb9f3a"
             ],
             [
              0.8888888888888888,
              "#fdca26"
             ],
             [
              1,
              "#f0f921"
             ]
            ],
            "type": "histogram2dcontour"
           }
          ],
          "mesh3d": [
           {
            "colorbar": {
             "outlinewidth": 0,
             "ticks": ""
            },
            "type": "mesh3d"
           }
          ],
          "parcoords": [
           {
            "line": {
             "colorbar": {
              "outlinewidth": 0,
              "ticks": ""
             }
            },
            "type": "parcoords"
           }
          ],
          "pie": [
           {
            "automargin": true,
            "type": "pie"
           }
          ],
          "scatter": [
           {
            "marker": {
             "colorbar": {
              "outlinewidth": 0,
              "ticks": ""
             }
            },
            "type": "scatter"
           }
          ],
          "scatter3d": [
           {
            "line": {
             "colorbar": {
              "outlinewidth": 0,
              "ticks": ""
             }
            },
            "marker": {
             "colorbar": {
              "outlinewidth": 0,
              "ticks": ""
             }
            },
            "type": "scatter3d"
           }
          ],
          "scattercarpet": [
           {
            "marker": {
             "colorbar": {
              "outlinewidth": 0,
              "ticks": ""
             }
            },
            "type": "scattercarpet"
           }
          ],
          "scattergeo": [
           {
            "marker": {
             "colorbar": {
              "outlinewidth": 0,
              "ticks": ""
             }
            },
            "type": "scattergeo"
           }
          ],
          "scattergl": [
           {
            "marker": {
             "colorbar": {
              "outlinewidth": 0,
              "ticks": ""
             }
            },
            "type": "scattergl"
           }
          ],
          "scattermapbox": [
           {
            "marker": {
             "colorbar": {
              "outlinewidth": 0,
              "ticks": ""
             }
            },
            "type": "scattermapbox"
           }
          ],
          "scatterpolar": [
           {
            "marker": {
             "colorbar": {
              "outlinewidth": 0,
              "ticks": ""
             }
            },
            "type": "scatterpolar"
           }
          ],
          "scatterpolargl": [
           {
            "marker": {
             "colorbar": {
              "outlinewidth": 0,
              "ticks": ""
             }
            },
            "type": "scatterpolargl"
           }
          ],
          "scatterternary": [
           {
            "marker": {
             "colorbar": {
              "outlinewidth": 0,
              "ticks": ""
             }
            },
            "type": "scatterternary"
           }
          ],
          "surface": [
           {
            "colorbar": {
             "outlinewidth": 0,
             "ticks": ""
            },
            "colorscale": [
             [
              0,
              "#0d0887"
             ],
             [
              0.1111111111111111,
              "#46039f"
             ],
             [
              0.2222222222222222,
              "#7201a8"
             ],
             [
              0.3333333333333333,
              "#9c179e"
             ],
             [
              0.4444444444444444,
              "#bd3786"
             ],
             [
              0.5555555555555556,
              "#d8576b"
             ],
             [
              0.6666666666666666,
              "#ed7953"
             ],
             [
              0.7777777777777778,
              "#fb9f3a"
             ],
             [
              0.8888888888888888,
              "#fdca26"
             ],
             [
              1,
              "#f0f921"
             ]
            ],
            "type": "surface"
           }
          ],
          "table": [
           {
            "cells": {
             "fill": {
              "color": "#EBF0F8"
             },
             "line": {
              "color": "white"
             }
            },
            "header": {
             "fill": {
              "color": "#C8D4E3"
             },
             "line": {
              "color": "white"
             }
            },
            "type": "table"
           }
          ]
         },
         "layout": {
          "annotationdefaults": {
           "arrowcolor": "#2a3f5f",
           "arrowhead": 0,
           "arrowwidth": 1
          },
          "coloraxis": {
           "colorbar": {
            "outlinewidth": 0,
            "ticks": ""
           }
          },
          "colorscale": {
           "diverging": [
            [
             0,
             "#8e0152"
            ],
            [
             0.1,
             "#c51b7d"
            ],
            [
             0.2,
             "#de77ae"
            ],
            [
             0.3,
             "#f1b6da"
            ],
            [
             0.4,
             "#fde0ef"
            ],
            [
             0.5,
             "#f7f7f7"
            ],
            [
             0.6,
             "#e6f5d0"
            ],
            [
             0.7,
             "#b8e186"
            ],
            [
             0.8,
             "#7fbc41"
            ],
            [
             0.9,
             "#4d9221"
            ],
            [
             1,
             "#276419"
            ]
           ],
           "sequential": [
            [
             0,
             "#0d0887"
            ],
            [
             0.1111111111111111,
             "#46039f"
            ],
            [
             0.2222222222222222,
             "#7201a8"
            ],
            [
             0.3333333333333333,
             "#9c179e"
            ],
            [
             0.4444444444444444,
             "#bd3786"
            ],
            [
             0.5555555555555556,
             "#d8576b"
            ],
            [
             0.6666666666666666,
             "#ed7953"
            ],
            [
             0.7777777777777778,
             "#fb9f3a"
            ],
            [
             0.8888888888888888,
             "#fdca26"
            ],
            [
             1,
             "#f0f921"
            ]
           ],
           "sequentialminus": [
            [
             0,
             "#0d0887"
            ],
            [
             0.1111111111111111,
             "#46039f"
            ],
            [
             0.2222222222222222,
             "#7201a8"
            ],
            [
             0.3333333333333333,
             "#9c179e"
            ],
            [
             0.4444444444444444,
             "#bd3786"
            ],
            [
             0.5555555555555556,
             "#d8576b"
            ],
            [
             0.6666666666666666,
             "#ed7953"
            ],
            [
             0.7777777777777778,
             "#fb9f3a"
            ],
            [
             0.8888888888888888,
             "#fdca26"
            ],
            [
             1,
             "#f0f921"
            ]
           ]
          },
          "colorway": [
           "#636efa",
           "#EF553B",
           "#00cc96",
           "#ab63fa",
           "#FFA15A",
           "#19d3f3",
           "#FF6692",
           "#B6E880",
           "#FF97FF",
           "#FECB52"
          ],
          "font": {
           "color": "#2a3f5f"
          },
          "geo": {
           "bgcolor": "white",
           "lakecolor": "white",
           "landcolor": "#E5ECF6",
           "showlakes": true,
           "showland": true,
           "subunitcolor": "white"
          },
          "hoverlabel": {
           "align": "left"
          },
          "hovermode": "closest",
          "mapbox": {
           "style": "light"
          },
          "paper_bgcolor": "white",
          "plot_bgcolor": "#E5ECF6",
          "polar": {
           "angularaxis": {
            "gridcolor": "white",
            "linecolor": "white",
            "ticks": ""
           },
           "bgcolor": "#E5ECF6",
           "radialaxis": {
            "gridcolor": "white",
            "linecolor": "white",
            "ticks": ""
           }
          },
          "scene": {
           "xaxis": {
            "backgroundcolor": "#E5ECF6",
            "gridcolor": "white",
            "gridwidth": 2,
            "linecolor": "white",
            "showbackground": true,
            "ticks": "",
            "zerolinecolor": "white"
           },
           "yaxis": {
            "backgroundcolor": "#E5ECF6",
            "gridcolor": "white",
            "gridwidth": 2,
            "linecolor": "white",
            "showbackground": true,
            "ticks": "",
            "zerolinecolor": "white"
           },
           "zaxis": {
            "backgroundcolor": "#E5ECF6",
            "gridcolor": "white",
            "gridwidth": 2,
            "linecolor": "white",
            "showbackground": true,
            "ticks": "",
            "zerolinecolor": "white"
           }
          },
          "shapedefaults": {
           "line": {
            "color": "#2a3f5f"
           }
          },
          "ternary": {
           "aaxis": {
            "gridcolor": "white",
            "linecolor": "white",
            "ticks": ""
           },
           "baxis": {
            "gridcolor": "white",
            "linecolor": "white",
            "ticks": ""
           },
           "bgcolor": "#E5ECF6",
           "caxis": {
            "gridcolor": "white",
            "linecolor": "white",
            "ticks": ""
           }
          },
          "title": {
           "x": 0.05
          },
          "xaxis": {
           "automargin": true,
           "gridcolor": "white",
           "linecolor": "white",
           "ticks": "",
           "title": {
            "standoff": 15
           },
           "zerolinecolor": "white",
           "zerolinewidth": 2
          },
          "yaxis": {
           "automargin": true,
           "gridcolor": "white",
           "linecolor": "white",
           "ticks": "",
           "title": {
            "standoff": 15
           },
           "zerolinecolor": "white",
           "zerolinewidth": 2
          }
         }
        },
        "title": {
         "text": "Histories of the fine-tuned MobileNetV2 over 40 epochs",
         "x": 0.5
        },
        "width": 950,
        "xaxis": {
         "anchor": "y",
         "domain": [
          0,
          1
         ],
         "gridcolor": "LightGrey",
         "gridwidth": 1,
         "showgrid": true,
         "tickfont": {
          "size": 15
         },
         "title": {
          "font": {
           "size": 15
          }
         }
        },
        "xaxis2": {
         "anchor": "y2",
         "domain": [
          0,
          1
         ],
         "gridcolor": "LightGrey",
         "gridwidth": 1,
         "showgrid": true,
         "tickfont": {
          "size": 15
         },
         "title": {
          "font": {
           "size": 15
          },
          "text": "Epoch"
         }
        },
        "yaxis": {
         "anchor": "x",
         "domain": [
          0.575,
          1
         ],
         "gridcolor": "LightGrey",
         "gridwidth": 1,
         "showgrid": true,
         "tickfont": {
          "size": 15
         },
         "title": {
          "font": {
           "size": 15
          }
         }
        },
        "yaxis2": {
         "anchor": "x2",
         "domain": [
          0,
          0.425
         ],
         "gridcolor": "LightGrey",
         "gridwidth": 1,
         "showgrid": true,
         "tickfont": {
          "size": 15
         },
         "title": {
          "font": {
           "size": 15
          }
         }
        }
       }
      },
      "text/html": [
       "<div>\n",
       "        \n",
       "        \n",
       "            <div id=\"afa6af1b-bd1d-4427-9051-c64e4a66fc55\" class=\"plotly-graph-div\" style=\"height:800px; width:950px;\"></div>\n",
       "            <script type=\"text/javascript\">\n",
       "                require([\"plotly\"], function(Plotly) {\n",
       "                    window.PLOTLYENV=window.PLOTLYENV || {};\n",
       "                    \n",
       "                if (document.getElementById(\"afa6af1b-bd1d-4427-9051-c64e4a66fc55\")) {\n",
       "                    Plotly.newPlot(\n",
       "                        'afa6af1b-bd1d-4427-9051-c64e4a66fc55',\n",
       "                        [{\"marker\": {\"size\": 5}, \"mode\": \"lines+markers\", \"name\": \"Training Accuracy\", \"type\": \"scatter\", \"x\": [0, 1, 2, 3, 4, 5, 6, 7, 8, 9, 10, 11, 12, 13, 14, 15, 16, 17, 18, 19, 20, 21, 22, 23, 24, 25, 26, 27, 28, 29, 30, 31, 32, 33, 34, 35, 36, 37, 38, 39], \"xaxis\": \"x\", \"y\": [0.3650285005569458, 0.6093304753303528, 0.7158119678497314, 0.7578347325325012, 0.7784900069236755, 0.811965823173523, 0.8240740895271301, 0.8344017267227173, 0.8393874764442444, 0.8490028381347656, 0.8543447256088257, 0.8422364592552185, 0.8536324501037598, 0.8636040091514587, 0.8632478713989258, 0.8660968542098999, 0.8685897588729858, 0.8817663788795471, 0.8803418874740601, 0.8853276371955872, 0.8839031457901001, 0.8739316463470459, 0.8867521286010742, 0.8867521286010742, 0.8938746452331543, 0.8910256624221802, 0.8920940160751343, 0.8846153616905212, 0.8981481194496155, 0.8871082663536072, 0.8910256624221802, 0.8938746452331543, 0.8920940160751343, 0.8942307829856873, 0.8981481194496155, 0.8896011114120483, 0.8928062915802002, 0.8977920413017273, 0.8999287486076355, 0.9034900069236755], \"yaxis\": \"y\"}, {\"marker\": {\"size\": 5}, \"mode\": \"lines+markers\", \"name\": \"Validation Accuracy\", \"type\": \"scatter\", \"x\": [0, 1, 2, 3, 4, 5, 6, 7, 8, 9, 10, 11, 12, 13, 14, 15, 16, 17, 18, 19, 20, 21, 22, 23, 24, 25, 26, 27, 28, 29, 30, 31, 32, 33, 34, 35, 36, 37, 38, 39], \"xaxis\": \"x\", \"y\": [0.656205415725708, 0.7617688775062561, 0.7774607539176941, 0.7902995944023132, 0.7902995944023132, 0.8145506381988525, 0.8188302516937256, 0.8330955505371094, 0.8231098651885986, 0.8074179887771606, 0.8302425146102905, 0.8259629011154175, 0.8544935584068298, 0.8373751640319824, 0.8487874269485474, 0.8544935584068298, 0.855920135974884, 0.8587731719017029, 0.8630527853965759, 0.8544935584068298, 0.8502140045166016, 0.8544935584068298, 0.855920135974884, 0.8487874269485474, 0.8430812954902649, 0.8687589168548584, 0.851640522480011, 0.8587731719017029, 0.851640522480011, 0.8616262674331665, 0.8630527853965759, 0.8573466539382935, 0.8288159966468811, 0.8487874269485474, 0.851640522480011, 0.8544935584068298, 0.8416547775268555, 0.8445078730583191, 0.8345221281051636, 0.8502140045166016], \"yaxis\": \"y\"}, {\"marker\": {\"size\": 5}, \"mode\": \"lines+markers\", \"name\": \"Training Loss\", \"type\": \"scatter\", \"x\": [0, 1, 2, 3, 4, 5, 6, 7, 8, 9, 10, 11, 12, 13, 14, 15, 16, 17, 18, 19, 20, 21, 22, 23, 24, 25, 26, 27, 28, 29, 30, 31, 32, 33, 34, 35, 36, 37, 38, 39], \"xaxis\": \"x2\", \"y\": [1.6565750698078732, 1.0286492567795973, 0.7848436248268497, 0.6676209030667601, 0.6030981012559005, 0.5425044067225225, 0.5094246117138116, 0.47304135934579744, 0.46231199091995545, 0.45541705365194557, 0.4173291223680871, 0.41839327949744004, 0.398232888547104, 0.3806451073399297, 0.3817167848433524, 0.36579001773456565, 0.3592526241075619, 0.33531325894203623, 0.3348043459093469, 0.33256052684919785, 0.3316754882152264, 0.3380257355691361, 0.3182127626023741, 0.3165741080147588, 0.30451719212396194, 0.3057460885951322, 0.2973907267266189, 0.31473001268854167, 0.2794287608050213, 0.3048420987407706, 0.3023038722171403, 0.2918818143867699, 0.2916804918876061, 0.2972634224555431, 0.28612880073381625, 0.29971808585685883, 0.2971509847036454, 0.28346579010330375, 0.2798110279347482, 0.2754913492080493], \"yaxis\": \"y2\"}, {\"marker\": {\"size\": 5}, \"mode\": \"lines+markers\", \"name\": \"Validation Loss\", \"type\": \"scatter\", \"x\": [0, 1, 2, 3, 4, 5, 6, 7, 8, 9, 10, 11, 12, 13, 14, 15, 16, 17, 18, 19, 20, 21, 22, 23, 24, 25, 26, 27, 28, 29, 30, 31, 32, 33, 34, 35, 36, 37, 38, 39], \"xaxis\": \"x2\", \"y\": [1.1029032468795776, 0.5616488456726074, 0.4520532190799713, 0.40356504917144775, 0.549650251865387, 0.4366213381290436, 0.5203491449356079, 0.5745731592178345, 0.3997255265712738, 0.329722136259079, 0.4497760534286499, 0.3398570716381073, 0.4134083688259125, 0.4708902835845947, 0.2384786307811737, 0.381550669670105, 0.4089347720146179, 0.4248584508895874, 0.2798076570034027, 0.4823804497718811, 0.4712233543395996, 0.43368881940841675, 0.5562365651130676, 0.5733751058578491, 0.33474862575531006, 0.47807973623275757, 0.3774791359901428, 0.2674497663974762, 0.29268041253089905, 0.4722803831100464, 0.3152707815170288, 0.46893954277038574, 0.5704150795936584, 0.3078887462615967, 0.23383428156375885, 0.33497098088264465, 0.43989986181259155, 0.6094844937324524, 0.4374060332775116, 0.26633140444755554], \"yaxis\": \"y2\"}],\n",
       "                        {\"height\": 800, \"template\": {\"data\": {\"bar\": [{\"error_x\": {\"color\": \"#2a3f5f\"}, \"error_y\": {\"color\": \"#2a3f5f\"}, \"marker\": {\"line\": {\"color\": \"#E5ECF6\", \"width\": 0.5}}, \"type\": \"bar\"}], \"barpolar\": [{\"marker\": {\"line\": {\"color\": \"#E5ECF6\", \"width\": 0.5}}, \"type\": \"barpolar\"}], \"carpet\": [{\"aaxis\": {\"endlinecolor\": \"#2a3f5f\", \"gridcolor\": \"white\", \"linecolor\": \"white\", \"minorgridcolor\": \"white\", \"startlinecolor\": \"#2a3f5f\"}, \"baxis\": {\"endlinecolor\": \"#2a3f5f\", \"gridcolor\": \"white\", \"linecolor\": \"white\", \"minorgridcolor\": \"white\", \"startlinecolor\": \"#2a3f5f\"}, \"type\": \"carpet\"}], \"choropleth\": [{\"colorbar\": {\"outlinewidth\": 0, \"ticks\": \"\"}, \"type\": \"choropleth\"}], \"contour\": [{\"colorbar\": {\"outlinewidth\": 0, \"ticks\": \"\"}, \"colorscale\": [[0.0, \"#0d0887\"], [0.1111111111111111, \"#46039f\"], [0.2222222222222222, \"#7201a8\"], [0.3333333333333333, \"#9c179e\"], [0.4444444444444444, \"#bd3786\"], [0.5555555555555556, \"#d8576b\"], [0.6666666666666666, \"#ed7953\"], [0.7777777777777778, \"#fb9f3a\"], [0.8888888888888888, \"#fdca26\"], [1.0, \"#f0f921\"]], \"type\": \"contour\"}], \"contourcarpet\": [{\"colorbar\": {\"outlinewidth\": 0, \"ticks\": \"\"}, \"type\": \"contourcarpet\"}], \"heatmap\": [{\"colorbar\": {\"outlinewidth\": 0, \"ticks\": \"\"}, \"colorscale\": [[0.0, \"#0d0887\"], [0.1111111111111111, \"#46039f\"], [0.2222222222222222, \"#7201a8\"], [0.3333333333333333, \"#9c179e\"], [0.4444444444444444, \"#bd3786\"], [0.5555555555555556, \"#d8576b\"], [0.6666666666666666, \"#ed7953\"], [0.7777777777777778, \"#fb9f3a\"], [0.8888888888888888, \"#fdca26\"], [1.0, \"#f0f921\"]], \"type\": \"heatmap\"}], \"heatmapgl\": [{\"colorbar\": {\"outlinewidth\": 0, \"ticks\": \"\"}, \"colorscale\": [[0.0, \"#0d0887\"], [0.1111111111111111, \"#46039f\"], [0.2222222222222222, \"#7201a8\"], [0.3333333333333333, \"#9c179e\"], [0.4444444444444444, \"#bd3786\"], [0.5555555555555556, \"#d8576b\"], [0.6666666666666666, \"#ed7953\"], [0.7777777777777778, \"#fb9f3a\"], [0.8888888888888888, \"#fdca26\"], [1.0, \"#f0f921\"]], \"type\": \"heatmapgl\"}], \"histogram\": [{\"marker\": {\"colorbar\": {\"outlinewidth\": 0, \"ticks\": \"\"}}, \"type\": \"histogram\"}], \"histogram2d\": [{\"colorbar\": {\"outlinewidth\": 0, \"ticks\": \"\"}, \"colorscale\": [[0.0, \"#0d0887\"], [0.1111111111111111, \"#46039f\"], [0.2222222222222222, \"#7201a8\"], [0.3333333333333333, \"#9c179e\"], [0.4444444444444444, \"#bd3786\"], [0.5555555555555556, \"#d8576b\"], [0.6666666666666666, \"#ed7953\"], [0.7777777777777778, \"#fb9f3a\"], [0.8888888888888888, \"#fdca26\"], [1.0, \"#f0f921\"]], \"type\": \"histogram2d\"}], \"histogram2dcontour\": [{\"colorbar\": {\"outlinewidth\": 0, \"ticks\": \"\"}, \"colorscale\": [[0.0, \"#0d0887\"], [0.1111111111111111, \"#46039f\"], [0.2222222222222222, \"#7201a8\"], [0.3333333333333333, \"#9c179e\"], [0.4444444444444444, \"#bd3786\"], [0.5555555555555556, \"#d8576b\"], [0.6666666666666666, \"#ed7953\"], [0.7777777777777778, \"#fb9f3a\"], [0.8888888888888888, \"#fdca26\"], [1.0, \"#f0f921\"]], \"type\": \"histogram2dcontour\"}], \"mesh3d\": [{\"colorbar\": {\"outlinewidth\": 0, \"ticks\": \"\"}, \"type\": \"mesh3d\"}], \"parcoords\": [{\"line\": {\"colorbar\": {\"outlinewidth\": 0, \"ticks\": \"\"}}, \"type\": \"parcoords\"}], \"pie\": [{\"automargin\": true, \"type\": \"pie\"}], \"scatter\": [{\"marker\": {\"colorbar\": {\"outlinewidth\": 0, \"ticks\": \"\"}}, \"type\": \"scatter\"}], \"scatter3d\": [{\"line\": {\"colorbar\": {\"outlinewidth\": 0, \"ticks\": \"\"}}, \"marker\": {\"colorbar\": {\"outlinewidth\": 0, \"ticks\": \"\"}}, \"type\": \"scatter3d\"}], \"scattercarpet\": [{\"marker\": {\"colorbar\": {\"outlinewidth\": 0, \"ticks\": \"\"}}, \"type\": \"scattercarpet\"}], \"scattergeo\": [{\"marker\": {\"colorbar\": {\"outlinewidth\": 0, \"ticks\": \"\"}}, \"type\": \"scattergeo\"}], \"scattergl\": [{\"marker\": {\"colorbar\": {\"outlinewidth\": 0, \"ticks\": \"\"}}, \"type\": \"scattergl\"}], \"scattermapbox\": [{\"marker\": {\"colorbar\": {\"outlinewidth\": 0, \"ticks\": \"\"}}, \"type\": \"scattermapbox\"}], \"scatterpolar\": [{\"marker\": {\"colorbar\": {\"outlinewidth\": 0, \"ticks\": \"\"}}, \"type\": \"scatterpolar\"}], \"scatterpolargl\": [{\"marker\": {\"colorbar\": {\"outlinewidth\": 0, \"ticks\": \"\"}}, \"type\": \"scatterpolargl\"}], \"scatterternary\": [{\"marker\": {\"colorbar\": {\"outlinewidth\": 0, \"ticks\": \"\"}}, \"type\": \"scatterternary\"}], \"surface\": [{\"colorbar\": {\"outlinewidth\": 0, \"ticks\": \"\"}, \"colorscale\": [[0.0, \"#0d0887\"], [0.1111111111111111, \"#46039f\"], [0.2222222222222222, \"#7201a8\"], [0.3333333333333333, \"#9c179e\"], [0.4444444444444444, \"#bd3786\"], [0.5555555555555556, \"#d8576b\"], [0.6666666666666666, \"#ed7953\"], [0.7777777777777778, \"#fb9f3a\"], [0.8888888888888888, \"#fdca26\"], [1.0, \"#f0f921\"]], \"type\": \"surface\"}], \"table\": [{\"cells\": {\"fill\": {\"color\": \"#EBF0F8\"}, \"line\": {\"color\": \"white\"}}, \"header\": {\"fill\": {\"color\": \"#C8D4E3\"}, \"line\": {\"color\": \"white\"}}, \"type\": \"table\"}]}, \"layout\": {\"annotationdefaults\": {\"arrowcolor\": \"#2a3f5f\", \"arrowhead\": 0, \"arrowwidth\": 1}, \"coloraxis\": {\"colorbar\": {\"outlinewidth\": 0, \"ticks\": \"\"}}, \"colorscale\": {\"diverging\": [[0, \"#8e0152\"], [0.1, \"#c51b7d\"], [0.2, \"#de77ae\"], [0.3, \"#f1b6da\"], [0.4, \"#fde0ef\"], [0.5, \"#f7f7f7\"], [0.6, \"#e6f5d0\"], [0.7, \"#b8e186\"], [0.8, \"#7fbc41\"], [0.9, \"#4d9221\"], [1, \"#276419\"]], \"sequential\": [[0.0, \"#0d0887\"], [0.1111111111111111, \"#46039f\"], [0.2222222222222222, \"#7201a8\"], [0.3333333333333333, \"#9c179e\"], [0.4444444444444444, \"#bd3786\"], [0.5555555555555556, \"#d8576b\"], [0.6666666666666666, \"#ed7953\"], [0.7777777777777778, \"#fb9f3a\"], [0.8888888888888888, \"#fdca26\"], [1.0, \"#f0f921\"]], \"sequentialminus\": [[0.0, \"#0d0887\"], [0.1111111111111111, \"#46039f\"], [0.2222222222222222, \"#7201a8\"], [0.3333333333333333, \"#9c179e\"], [0.4444444444444444, \"#bd3786\"], [0.5555555555555556, \"#d8576b\"], [0.6666666666666666, \"#ed7953\"], [0.7777777777777778, \"#fb9f3a\"], [0.8888888888888888, \"#fdca26\"], [1.0, \"#f0f921\"]]}, \"colorway\": [\"#636efa\", \"#EF553B\", \"#00cc96\", \"#ab63fa\", \"#FFA15A\", \"#19d3f3\", \"#FF6692\", \"#B6E880\", \"#FF97FF\", \"#FECB52\"], \"font\": {\"color\": \"#2a3f5f\"}, \"geo\": {\"bgcolor\": \"white\", \"lakecolor\": \"white\", \"landcolor\": \"#E5ECF6\", \"showlakes\": true, \"showland\": true, \"subunitcolor\": \"white\"}, \"hoverlabel\": {\"align\": \"left\"}, \"hovermode\": \"closest\", \"mapbox\": {\"style\": \"light\"}, \"paper_bgcolor\": \"white\", \"plot_bgcolor\": \"#E5ECF6\", \"polar\": {\"angularaxis\": {\"gridcolor\": \"white\", \"linecolor\": \"white\", \"ticks\": \"\"}, \"bgcolor\": \"#E5ECF6\", \"radialaxis\": {\"gridcolor\": \"white\", \"linecolor\": \"white\", \"ticks\": \"\"}}, \"scene\": {\"xaxis\": {\"backgroundcolor\": \"#E5ECF6\", \"gridcolor\": \"white\", \"gridwidth\": 2, \"linecolor\": \"white\", \"showbackground\": true, \"ticks\": \"\", \"zerolinecolor\": \"white\"}, \"yaxis\": {\"backgroundcolor\": \"#E5ECF6\", \"gridcolor\": \"white\", \"gridwidth\": 2, \"linecolor\": \"white\", \"showbackground\": true, \"ticks\": \"\", \"zerolinecolor\": \"white\"}, \"zaxis\": {\"backgroundcolor\": \"#E5ECF6\", \"gridcolor\": \"white\", \"gridwidth\": 2, \"linecolor\": \"white\", \"showbackground\": true, \"ticks\": \"\", \"zerolinecolor\": \"white\"}}, \"shapedefaults\": {\"line\": {\"color\": \"#2a3f5f\"}}, \"ternary\": {\"aaxis\": {\"gridcolor\": \"white\", \"linecolor\": \"white\", \"ticks\": \"\"}, \"baxis\": {\"gridcolor\": \"white\", \"linecolor\": \"white\", \"ticks\": \"\"}, \"bgcolor\": \"#E5ECF6\", \"caxis\": {\"gridcolor\": \"white\", \"linecolor\": \"white\", \"ticks\": \"\"}}, \"title\": {\"x\": 0.05}, \"xaxis\": {\"automargin\": true, \"gridcolor\": \"white\", \"linecolor\": \"white\", \"ticks\": \"\", \"title\": {\"standoff\": 15}, \"zerolinecolor\": \"white\", \"zerolinewidth\": 2}, \"yaxis\": {\"automargin\": true, \"gridcolor\": \"white\", \"linecolor\": \"white\", \"ticks\": \"\", \"title\": {\"standoff\": 15}, \"zerolinecolor\": \"white\", \"zerolinewidth\": 2}}}, \"title\": {\"text\": \"Histories of the fine-tuned MobileNetV2 over 40 epochs\", \"x\": 0.5}, \"width\": 950, \"xaxis\": {\"anchor\": \"y\", \"domain\": [0.0, 1.0], \"gridcolor\": \"LightGrey\", \"gridwidth\": 1, \"showgrid\": true, \"tickfont\": {\"size\": 15}, \"title\": {\"font\": {\"size\": 15}}}, \"xaxis2\": {\"anchor\": \"y2\", \"domain\": [0.0, 1.0], \"gridcolor\": \"LightGrey\", \"gridwidth\": 1, \"showgrid\": true, \"tickfont\": {\"size\": 15}, \"title\": {\"font\": {\"size\": 15}, \"text\": \"Epoch\"}}, \"yaxis\": {\"anchor\": \"x\", \"domain\": [0.575, 1.0], \"gridcolor\": \"LightGrey\", \"gridwidth\": 1, \"showgrid\": true, \"tickfont\": {\"size\": 15}, \"title\": {\"font\": {\"size\": 15}}}, \"yaxis2\": {\"anchor\": \"x2\", \"domain\": [0.0, 0.425], \"gridcolor\": \"LightGrey\", \"gridwidth\": 1, \"showgrid\": true, \"tickfont\": {\"size\": 15}, \"title\": {\"font\": {\"size\": 15}}}},\n",
       "                        {\"responsive\": true}\n",
       "                    ).then(function(){\n",
       "                            \n",
       "var gd = document.getElementById('afa6af1b-bd1d-4427-9051-c64e4a66fc55');\n",
       "var x = new MutationObserver(function (mutations, observer) {{\n",
       "        var display = window.getComputedStyle(gd).display;\n",
       "        if (!display || display === 'none') {{\n",
       "            console.log([gd, 'removed!']);\n",
       "            Plotly.purge(gd);\n",
       "            observer.disconnect();\n",
       "        }}\n",
       "}});\n",
       "\n",
       "// Listen for the removal of the full notebook cells\n",
       "var notebookContainer = gd.closest('#notebook-container');\n",
       "if (notebookContainer) {{\n",
       "    x.observe(notebookContainer, {childList: true});\n",
       "}}\n",
       "\n",
       "// Listen for the clearing of the current output cell\n",
       "var outputEl = gd.closest('.output');\n",
       "if (outputEl) {{\n",
       "    x.observe(outputEl, {childList: true});\n",
       "}}\n",
       "\n",
       "                        })\n",
       "                };\n",
       "                });\n",
       "            </script>\n",
       "        </div>"
      ]
     },
     "metadata": {},
     "output_type": "display_data"
    }
   ],
   "source": [
    "# Instanciate the figure\n",
    "fig = make_subplots(rows = 2, cols = 1)    \n",
    "fig.add_trace(go.Scatter(x = [e for e in range(40)], y = history.history['accuracy'],\n",
    "                    mode ='lines+markers',\n",
    "                    marker = {'size':5},\n",
    "                    name ='Training Accuracy'), row = 1, col = 1)\n",
    "fig.add_trace(go.Scatter(x = [e for e in range(40)], y = history.history['val_accuracy'],\n",
    "                    mode ='lines+markers',\n",
    "                    marker = {'size':5},\n",
    "                    name ='Validation Accuracy'), row = 1, col = 1)\n",
    "fig.add_trace(go.Scatter(x = [e for e in range(40)], y = history.history['loss'],\n",
    "                    mode ='lines+markers',\n",
    "                    marker = {'size':5},\n",
    "                    name ='Training Loss'), row = 2, col = 1)\n",
    "fig.add_trace(go.Scatter(x = [e for e in range(40)], y = history.history['val_loss'],\n",
    "                    mode ='lines+markers',\n",
    "                    marker = {'size':5},\n",
    "                    name ='Validation Loss'), row = 2, col = 1)\n",
    "\n",
    "# Fill x and y axis for the first plot\n",
    "fig.update_xaxes(title_text = \"Epoch\", row = 2, col = 1)\n",
    "fig.update_yaxes(tickfont = dict(size = 15), titlefont = dict(size = 15), showgrid = True, gridwidth = 1, gridcolor = 'LightGrey')\n",
    "fig.update_xaxes(tickfont = dict(size = 15), titlefont = dict(size = 15), showgrid = True, gridwidth = 1, gridcolor = 'LightGrey')\n",
    "\n",
    "# Add title and show the figure\n",
    "fig.update_layout(height = 800, width = 950, title_text = \"Histories of the fine-tuned MobileNetV2 over 40 epochs\", title_x = 0.5)\n",
    "fig.show()"
   ]
  },
  {
   "cell_type": "markdown",
   "metadata": {},
   "source": [
    "__Observation__ : We should stop after 30 epochs."
   ]
  },
  {
   "cell_type": "markdown",
   "metadata": {},
   "source": [
    "### _Predictions of the model_"
   ]
  },
  {
   "cell_type": "code",
   "execution_count": 505,
   "metadata": {},
   "outputs": [],
   "source": [
    "# Make predictions over all the loaded test data\n",
    "test_labels = test_batches.classes\n",
    "predictions = model.predict_generator(test_batches, verbose = 0)"
   ]
  },
  {
   "cell_type": "code",
   "execution_count": 523,
   "metadata": {},
   "outputs": [],
   "source": [
    "def plot_confusion_matrix(cm, classes, title = 'Confusion matrix', cmap = plt.cm.Blues):\n",
    "    \"\"\"\n",
    "    This function plots the confusion matrix.\n",
    "    \n",
    "    \"\"\"\n",
    "    plt.figure(figsize = (15,8))\n",
    "    plt.imshow(cm, interpolation = 'nearest', cmap = cmap)\n",
    "    plt.title(title)\n",
    "    plt.colorbar()\n",
    "    tick_marks = np.arange(len(classes))\n",
    "    plt.xticks(tick_marks, classes, rotation=45)\n",
    "    plt.yticks(tick_marks, classes)\n",
    "\n",
    "    thresh = cm.max() / 2.\n",
    "    for i, j in itertools.product(range(cm.shape[0]), range(cm.shape[1])):\n",
    "        plt.text(j, i, cm[i, j],\n",
    "                 horizontalalignment = \"center\",\n",
    "                 color = \"white\" if cm[i, j] > thresh else \"black\")\n",
    "\n",
    "    plt.tight_layout()\n",
    "    plt.ylabel('True label')\n",
    "    plt.xlabel('Predicted label')"
   ]
  },
  {
   "cell_type": "code",
   "execution_count": 525,
   "metadata": {},
   "outputs": [
    {
     "data": {
      "image/png": "[encoded data removed]",
      "text/plain": [
       "<Figure size 1080x576 with 2 Axes>"
      ]
     },
     "metadata": {
      "needs_background": "light"
     },
     "output_type": "display_data"
    }
   ],
   "source": [
    "cm = confusion_matrix(test_labels, predictions.argmax(axis = 1))\n",
    "cm_plot_labels = classes\n",
    "plot_confusion_matrix(cm, cm_plot_labels, title = 'Confusion Matrix')"
   ]
  },
  {
   "cell_type": "markdown",
   "metadata": {},
   "source": [
    "__Observation__ : Predictions are overall pretty accurate, but the model has a hard time distinguishing mountains and glaciers, or buildings and streets."
   ]
  },
  {
   "cell_type": "markdown",
   "metadata": {},
   "source": [
    "### _Overall performance of the model_"
   ]
  },
  {
   "cell_type": "code",
   "execution_count": 551,
   "metadata": {},
   "outputs": [],
   "source": [
    "# Hyper parameters\n",
    "learning_rate = 0.0005\n",
    "weight_decay = 0.0001\n",
    "dropout = 0.5\n",
    "\n",
    "# Train the model 5 times over 40 epochs to get a more accurate measure of its performance\n",
    "histories = []\n",
    "for t in range(5):\n",
    "    \n",
    "    # Clone the MobileNetV2\n",
    "    model = (keras.applications.mobilenet_v2.MobileNetV2())\n",
    "    m = clone_model(model)\n",
    "    m.set_weights(model.get_weights())\n",
    "\n",
    "    # Add a dropout before the last layer to regularize\n",
    "    x = (Dropout(dropout, input_shape = (1280,)))(m.layers[-2].output)\n",
    "\n",
    "    # Change the last layer to a 6 class classification layer with a softmax activation function combined with a weight decay\n",
    "    last_layer = Dense(6, kernel_regularizer = l2(weight_decay), activation = 'softmax')(x)\n",
    "    m = Model(inputs = m.input, outputs = last_layer)\n",
    "\n",
    "    # Freezing the already trained layers so that their parameters don't get updated when training the last layer\n",
    "    for layer in m.layers[:-1]:\n",
    "        layer.trainable = False\n",
    "\n",
    "    # Compile the model, use an Adam optimizer\n",
    "    m.compile(Adam(lr = learning_rate), loss = loss_f, metrics = ['accuracy'])\n",
    "    history = m.fit_generator(train_batches, validation_data = valid_batches, epochs = 30, verbose = 0)\n",
    "    \n",
    "    # Save the history\n",
    "    histories.append(history)"
   ]
  },
  {
   "cell_type": "code",
   "execution_count": 567,
   "metadata": {},
   "outputs": [],
   "source": [
    "# Aggregate each metric of the histories\n",
    "train_accs = []\n",
    "valid_accs = []\n",
    "train_losses = []\n",
    "valid_losses= []\n",
    "for history in histories:\n",
    "    train_accs.append(history.history['accuracy'])\n",
    "    valid_accs.append(history.history['val_accuracy'])\n",
    "    train_losses.append(history.history['loss'])\n",
    "    valid_losses.append(history.history['val_loss'])\n",
    "    \n",
    "# Compute the mean and the standard deviation\n",
    "train_acc_mean = np.array(train_accs).mean(axis = 0)\n",
    "train_acc_std = np.array(train_accs).std(axis = 0)\n",
    "valid_acc_mean = np.array(valid_accs).mean(axis = 0)\n",
    "valid_acc_std = np.array(valid_accs).std(axis = 0)\n",
    "train_loss_mean = np.array(train_losses).mean(axis = 0)\n",
    "train_loss_std = np.array(train_losses).std(axis = 0)\n",
    "valid_loss_mean = np.array(valid_losses).mean(axis = 0)\n",
    "valid_loss_std = np.array(valid_losses).std(axis = 0)"
   ]
  },
  {
   "cell_type": "code",
   "execution_count": 636,
   "metadata": {},
   "outputs": [
    {
     "data": {
      "application/vnd.plotly.v1+json": {
       "config": {
        "plotlyServerURL": "https://plot.ly"
       },
       "data": [
        {
         "marker": {
          "size": 5
         },
         "mode": "lines+markers",
         "name": "Training Accuracy",
         "type": "scatter",
         "x": [
          0,
          1,
          2,
          3,
          4,
          5,
          6,
          7,
          8,
          9,
          10,
          11,
          12,
          13,
          14,
          15,
          16,
          17,
          18,
          19,
          20,
          21,
          22,
          23,
          24,
          25,
          26,
          27,
          28,
          29
         ],
         "xaxis": "x",
         "y": [
          0.3390313386917114,
          0.606766402721405,
          0.7106837034225464,
          0.759829044342041,
          0.7858262658119202,
          0.8098291158676147,
          0.8216524124145508,
          0.8263532519340515,
          0.8371082544326782,
          0.8439458608627319,
          0.8518518209457397,
          0.8543447256088257,
          0.8628205060958862,
          0.8638889193534851,
          0.8646011352539062,
          0.8662393689155579,
          0.8658832311630249,
          0.8752849698066711,
          0.879273533821106,
          0.8799856901168823,
          0.8824785947799683,
          0.8845441937446594,
          0.884829044342041,
          0.8834757804870605,
          0.8858974575996399,
          0.8857549428939819,
          0.889102578163147,
          0.8911681175231934,
          0.8922365307807922,
          0.8923789262771606
         ],
         "yaxis": "y"
        },
        {
         "marker": {
          "size": 5
         },
         "mode": "lines+markers",
         "name": "Validation Accuracy",
         "type": "scatter",
         "x": [
          0,
          1,
          2,
          3,
          4,
          5,
          6,
          7,
          8,
          9,
          10,
          11,
          12,
          13,
          14,
          15,
          16,
          17,
          18,
          19,
          20,
          21,
          22,
          23,
          24,
          25,
          26,
          27,
          28,
          29
         ],
         "xaxis": "x",
         "y": [
          0.6211126923561097,
          0.7469329595565796,
          0.7811697483062744,
          0.8017118573188782,
          0.8168330907821655,
          0.8236804485321045,
          0.83366619348526,
          0.8373751878738404,
          0.83366619348526,
          0.8385164141654968,
          0.835948646068573,
          0.8465049743652344,
          0.8507845878601075,
          0.8485021471977234,
          0.847075617313385,
          0.8533523678779602,
          0.8601997137069702,
          0.8593438029289245,
          0.8590584874153138,
          0.8584878802299499,
          0.865049934387207,
          0.8570613503456116,
          0.8610556483268738,
          0.86048504114151,
          0.862767469882965,
          0.8593437790870666,
          0.8576319456100464,
          0.8582025647163392,
          0.8593437910079956,
          0.8564907193183899
         ],
         "yaxis": "y"
        },
        {
         "marker": {
          "size": 5
         },
         "mode": "lines+markers",
         "name": "Training Loss",
         "type": "scatter",
         "x": [
          0,
          1,
          2,
          3,
          4,
          5,
          6,
          7,
          8,
          9,
          10,
          11,
          12,
          13,
          14,
          15,
          16,
          17,
          18,
          19,
          20,
          21,
          22,
          23,
          24,
          25,
          26,
          27,
          28,
          29
         ],
         "xaxis": "x2",
         "y": [
          1.7383765855066458,
          1.0531597797007983,
          0.7896624811014898,
          0.6621989351052504,
          0.5926309231679324,
          0.5355917557691917,
          0.5019811927253365,
          0.47899408617250605,
          0.4529520314133745,
          0.4366222070153283,
          0.41722421678382793,
          0.40678511745060264,
          0.3871469131562105,
          0.3847124620295658,
          0.37606408891514836,
          0.367240690132152,
          0.3692303733778136,
          0.35041020317294996,
          0.3383368225858422,
          0.3386325878550185,
          0.32820832654621523,
          0.3257218440543552,
          0.3197849362239539,
          0.31921381308482244,
          0.31917106092315795,
          0.31326518253213653,
          0.3057591739967678,
          0.3052917802690441,
          0.299946616331057,
          0.29873086974831387
         ],
         "yaxis": "y2"
        },
        {
         "marker": {
          "size": 5
         },
         "mode": "lines+markers",
         "name": "Validation Loss",
         "type": "scatter",
         "x": [
          0,
          1,
          2,
          3,
          4,
          5,
          6,
          7,
          8,
          9,
          10,
          11,
          12,
          13,
          14,
          15,
          16,
          17,
          18,
          19,
          20,
          21,
          22,
          23,
          24,
          25,
          26,
          27,
          28,
          29
         ],
         "xaxis": "x2",
         "y": [
          0.9956915616989136,
          0.7280292510986328,
          0.5971787452697754,
          0.5552732884883881,
          0.4991312801837921,
          0.470056813955307,
          0.5146452009677887,
          0.3813222527503967,
          0.46807185411453245,
          0.403397274017334,
          0.4591918706893921,
          0.4535051703453064,
          0.3473279118537903,
          0.3805461049079895,
          0.41001025438308714,
          0.38161187171936034,
          0.3404944747686386,
          0.43051530718803405,
          0.4276326417922974,
          0.4568710565567017,
          0.4001106858253479,
          0.41363064050674436,
          0.4425303518772125,
          0.36586275696754456,
          0.40665155053138735,
          0.3788091421127319,
          0.3722728848457336,
          0.4057566910982132,
          0.3428264677524567,
          0.38215820789337157
         ],
         "yaxis": "y2"
        },
        {
         "fill": "toself",
         "fillcolor": "rgba(0,100,200,0.2)",
         "line": {
          "color": "rgba(255,255,255,0)"
         },
         "name": "Training Accuracy",
         "showlegend": false,
         "type": "scatter",
         "x": [
          0,
          1,
          2,
          3,
          4,
          5,
          6,
          7,
          8,
          9,
          10,
          11,
          12,
          13,
          14,
          15,
          16,
          17,
          18,
          19,
          20,
          21,
          22,
          23,
          24,
          25,
          26,
          27,
          28,
          29,
          29,
          28,
          27,
          26,
          25,
          24,
          23,
          22,
          21,
          20,
          19,
          18,
          17,
          16,
          15,
          14,
          13,
          12,
          11,
          10,
          9,
          8,
          7,
          6,
          5,
          4,
          3,
          2,
          1,
          0
         ],
         "xaxis": "x",
         "y": [
          0.364107221364975,
          0.6199966073036194,
          0.714402437210083,
          0.7632493376731873,
          0.7913323044776917,
          0.8151923418045044,
          0.8279966711997986,
          0.8322205543518066,
          0.8400154113769531,
          0.8470781445503235,
          0.8553411364555359,
          0.858411431312561,
          0.8663703203201294,
          0.8685994744300842,
          0.8706715703010559,
          0.8692578673362732,
          0.8702945709228516,
          0.8801177740097046,
          0.8825140595436096,
          0.8840336203575134,
          0.8868051767349243,
          0.8857231736183167,
          0.8919749855995178,
          0.8876556754112244,
          0.8902217149734497,
          0.8909028768539429,
          0.8934443593025208,
          0.8963661193847656,
          0.8975312113761902,
          0.8956381678581238,
          0.8891196846961975,
          0.8869418501853943,
          0.8859701156616211,
          0.8847607970237732,
          0.880607008934021,
          0.8815732002258301,
          0.8792958855628967,
          0.8776831030845642,
          0.8833652138710022,
          0.8781520128250122,
          0.8759377598762512,
          0.8760330080986023,
          0.8704521656036377,
          0.8614718914031982,
          0.8632208704948425,
          0.8585307002067566,
          0.859178364276886,
          0.8592706918716431,
          0.8502780199050903,
          0.8483625054359436,
          0.8408135771751404,
          0.8342010974884033,
          0.8204859495162964,
          0.815308153629303,
          0.8044658899307251,
          0.7803202271461487,
          0.7564087510108948,
          0.7069649696350098,
          0.5935361981391907,
          0.3139554560184479
         ],
         "yaxis": "y"
        },
        {
         "fill": "toself",
         "fillcolor": "rgba(200,100,00,0.2)",
         "line": {
          "color": "rgba(255,255,255,0)"
         },
         "name": "Validation Accuracy",
         "showlegend": false,
         "type": "scatter",
         "x": [
          0,
          1,
          2,
          3,
          4,
          5,
          6,
          7,
          8,
          9,
          10,
          11,
          12,
          13,
          14,
          15,
          16,
          17,
          18,
          19,
          20,
          21,
          22,
          23,
          24,
          25,
          26,
          27,
          28,
          29,
          29,
          28,
          27,
          26,
          25,
          24,
          23,
          22,
          21,
          20,
          19,
          18,
          17,
          16,
          15,
          14,
          13,
          12,
          11,
          10,
          9,
          8,
          7,
          6,
          5,
          4,
          3,
          2,
          1,
          0
         ],
         "xaxis": "x",
         "y": [
          0.6601027449892124,
          0.7874183697791153,
          0.8142530253284442,
          0.823119369912541,
          0.8378491797133872,
          0.849931761017331,
          0.8606363684121263,
          0.8582825471264219,
          0.8536498964199217,
          0.860843386451683,
          0.8581403074434885,
          0.8589608236382694,
          0.8660584836301418,
          0.869649505136215,
          0.8663501853836386,
          0.8688852206459552,
          0.8745219793126753,
          0.8699271120653478,
          0.8711091086436683,
          0.8759453109488006,
          0.8807443914380203,
          0.8694779297556655,
          0.8749627182026818,
          0.8749599670019755,
          0.8735337670769336,
          0.8668706884027272,
          0.868360398324277,
          0.8733426470751207,
          0.8708483994276623,
          0.8685143027675588,
          0.8444671358692211,
          0.8478391825883289,
          0.8430624823575577,
          0.8469034928958158,
          0.851816869771406,
          0.8520011726889964,
          0.8460101152810445,
          0.8471485784510657,
          0.8446447709355577,
          0.8493554773363937,
          0.8410304495110993,
          0.8470078661869592,
          0.8487604937925013,
          0.8458774481012652,
          0.8378195151099652,
          0.8278010492431314,
          0.8273547892592319,
          0.8355106920900731,
          0.8340491250921994,
          0.8137569846936575,
          0.8161894418793106,
          0.8136824905505984,
          0.8164678286212588,
          0.8066960185583938,
          0.797429136046878,
          0.7958170018509437,
          0.7803043447252154,
          0.7480864712841045,
          0.7064475493340439,
          0.5821226397230069
         ],
         "yaxis": "y"
        },
        {
         "fill": "toself",
         "fillcolor": "rgba(0,200,100,0.2)",
         "line": {
          "color": "rgba(255,255,255,0)"
         },
         "name": "Training Loss",
         "showlegend": false,
         "type": "scatter",
         "x": [
          0,
          1,
          2,
          3,
          4,
          5,
          6,
          7,
          8,
          9,
          10,
          11,
          12,
          13,
          14,
          15,
          16,
          17,
          18,
          19,
          20,
          21,
          22,
          23,
          24,
          25,
          26,
          27,
          28,
          29,
          29,
          28,
          27,
          26,
          25,
          24,
          23,
          22,
          21,
          20,
          19,
          18,
          17,
          16,
          15,
          14,
          13,
          12,
          11,
          10,
          9,
          8,
          7,
          6,
          5,
          4,
          3,
          2,
          1,
          0
         ],
         "xaxis": "x2",
         "y": [
          1.7994208516571186,
          1.084273518048043,
          0.8019098462024193,
          0.6736173637907054,
          0.602344170925381,
          0.5453428764739756,
          0.5165242429122051,
          0.48616922486641617,
          0.460561643428345,
          0.4458630280671439,
          0.4254541767866086,
          0.414525513253348,
          0.3929036424197717,
          0.3917474156316856,
          0.38247211979436146,
          0.3739197897958959,
          0.37396595101040603,
          0.3581624313642239,
          0.34595902655547794,
          0.3418317999146665,
          0.33459757808691476,
          0.33058705637065144,
          0.32889120582291753,
          0.3230609573781037,
          0.32601072338580905,
          0.32029038216010514,
          0.3102583473931703,
          0.31092795177179045,
          0.311912689745805,
          0.3027055365268261,
          0.29475620296980165,
          0.28798054291630903,
          0.2996556087662977,
          0.30126000060036523,
          0.30623998290416793,
          0.31233139846050684,
          0.3153666687915412,
          0.3106786666249902,
          0.320856631738059,
          0.3218190750055157,
          0.33543337579537047,
          0.33071461861620643,
          0.34265797498167605,
          0.3644947957452212,
          0.3605615904684081,
          0.36965605803593526,
          0.3776775084274461,
          0.38139018389264934,
          0.39904472164785726,
          0.4089942567810473,
          0.42738138596351266,
          0.44534241939840397,
          0.47181894747859593,
          0.4874381425384678,
          0.5258406350644078,
          0.5829176754104839,
          0.6507805064197955,
          0.7774151160005603,
          1.0220460413535537,
          1.6773323193561729
         ],
         "yaxis": "y2"
        },
        {
         "fill": "toself",
         "fillcolor": "rgba(200,100,200,0.2)",
         "line": {
          "color": "rgba(255,255,255,0)"
         },
         "name": "Validation Loss",
         "showlegend": false,
         "type": "scatter",
         "x": [
          0,
          1,
          2,
          3,
          4,
          5,
          6,
          7,
          8,
          9,
          10,
          11,
          12,
          13,
          14,
          15,
          16,
          17,
          18,
          19,
          20,
          21,
          22,
          23,
          24,
          25,
          26,
          27,
          28,
          29,
          29,
          28,
          27,
          26,
          25,
          24,
          23,
          22,
          21,
          20,
          19,
          18,
          17,
          16,
          15,
          14,
          13,
          12,
          11,
          10,
          9,
          8,
          7,
          6,
          5,
          4,
          3,
          2,
          1,
          0
         ],
         "xaxis": "x2",
         "y": [
          1.1157464114415243,
          0.8347278897397682,
          0.646846088510076,
          0.6000020802703424,
          0.5548995667611696,
          0.5724804798523967,
          0.6027706629188018,
          0.46558165642060956,
          0.5780402119705041,
          0.4389962491099327,
          0.5473743070361526,
          0.5103526230222102,
          0.4365127663798634,
          0.45440974739802326,
          0.5207560087311724,
          0.45749475229504577,
          0.4402967659558834,
          0.5372215170650525,
          0.4688017664374954,
          0.49851036280826466,
          0.47620037935184106,
          0.480163032174658,
          0.5622838373032255,
          0.4538615783488565,
          0.5083259460458524,
          0.4259462025545113,
          0.42333768758313123,
          0.5628054875446022,
          0.3712677792382807,
          0.4721086554343345,
          0.29220776035240864,
          0.31438515626663266,
          0.24870789465182414,
          0.321208082108336,
          0.3316720816709525,
          0.30497715501692235,
          0.2778639355862326,
          0.3227768664511995,
          0.3470982488388307,
          0.3240209922988548,
          0.4152317503051387,
          0.38646351714709937,
          0.32380909731101565,
          0.24069218358139377,
          0.3057289911436749,
          0.2992645000350018,
          0.30668246241795577,
          0.2581430573277172,
          0.39665771766840263,
          0.37100943434263156,
          0.3677982989247353,
          0.3581034962585608,
          0.2970628490801839,
          0.42651973901677553,
          0.3676331480582174,
          0.4433629936064146,
          0.5105444967064338,
          0.5475114020294749,
          0.6213306124574974,
          0.8756367119563029
         ],
         "yaxis": "y2"
        }
       ],
       "layout": {
        "height": 800,
        "template": {
         "data": {
          "bar": [
           {
            "error_x": {
             "color": "#2a3f5f"
            },
            "error_y": {
             "color": "#2a3f5f"
            },
            "marker": {
             "line": {
              "color": "#E5ECF6",
              "width": 0.5
             }
            },
            "type": "bar"
           }
          ],
          "barpolar": [
           {
            "marker": {
             "line": {
              "color": "#E5ECF6",
              "width": 0.5
             }
            },
            "type": "barpolar"
           }
          ],
          "carpet": [
           {
            "aaxis": {
             "endlinecolor": "#2a3f5f",
             "gridcolor": "white",
             "linecolor": "white",
             "minorgridcolor": "white",
             "startlinecolor": "#2a3f5f"
            },
            "baxis": {
             "endlinecolor": "#2a3f5f",
             "gridcolor": "white",
             "linecolor": "white",
             "minorgridcolor": "white",
             "startlinecolor": "#2a3f5f"
            },
            "type": "carpet"
           }
          ],
          "choropleth": [
           {
            "colorbar": {
             "outlinewidth": 0,
             "ticks": ""
            },
            "type": "choropleth"
           }
          ],
          "contour": [
           {
            "colorbar": {
             "outlinewidth": 0,
             "ticks": ""
            },
            "colorscale": [
             [
              0,
              "#0d0887"
             ],
             [
              0.1111111111111111,
              "#46039f"
             ],
             [
              0.2222222222222222,
              "#7201a8"
             ],
             [
              0.3333333333333333,
              "#9c179e"
             ],
             [
              0.4444444444444444,
              "#bd3786"
             ],
             [
              0.5555555555555556,
              "#d8576b"
             ],
             [
              0.6666666666666666,
              "#ed7953"
             ],
             [
              0.7777777777777778,
              "#fb9f3a"
             ],
             [
              0.8888888888888888,
              "#fdca26"
             ],
             [
              1,
              "#f0f921"
             ]
            ],
            "type": "contour"
           }
          ],
          "contourcarpet": [
           {
            "colorbar": {
             "outlinewidth": 0,
             "ticks": ""
            },
            "type": "contourcarpet"
           }
          ],
          "heatmap": [
           {
            "colorbar": {
             "outlinewidth": 0,
             "ticks": ""
            },
            "colorscale": [
             [
              0,
              "#0d0887"
             ],
             [
              0.1111111111111111,
              "#46039f"
             ],
             [
              0.2222222222222222,
              "#7201a8"
             ],
             [
              0.3333333333333333,
              "#9c179e"
             ],
             [
              0.4444444444444444,
              "#bd3786"
             ],
             [
              0.5555555555555556,
              "#d8576b"
             ],
             [
              0.6666666666666666,
              "#ed7953"
             ],
             [
              0.7777777777777778,
              "#fb9f3a"
             ],
             [
              0.8888888888888888,
              "#fdca26"
             ],
             [
              1,
              "#f0f921"
             ]
            ],
            "type": "heatmap"
           }
          ],
          "heatmapgl": [
           {
            "colorbar": {
             "outlinewidth": 0,
             "ticks": ""
            },
            "colorscale": [
             [
              0,
              "#0d0887"
             ],
             [
              0.1111111111111111,
              "#46039f"
             ],
             [
              0.2222222222222222,
              "#7201a8"
             ],
             [
              0.3333333333333333,
              "#9c179e"
             ],
             [
              0.4444444444444444,
              "#bd3786"
             ],
             [
              0.5555555555555556,
              "#d8576b"
             ],
             [
              0.6666666666666666,
              "#ed7953"
             ],
             [
              0.7777777777777778,
              "#fb9f3a"
             ],
             [
              0.8888888888888888,
              "#fdca26"
             ],
             [
              1,
              "#f0f921"
             ]
            ],
            "type": "heatmapgl"
           }
          ],
          "histogram": [
           {
            "marker": {
             "colorbar": {
              "outlinewidth": 0,
              "ticks": ""
             }
            },
            "type": "histogram"
           }
          ],
          "histogram2d": [
           {
            "colorbar": {
             "outlinewidth": 0,
             "ticks": ""
            },
            "colorscale": [
             [
              0,
              "#0d0887"
             ],
             [
              0.1111111111111111,
              "#46039f"
             ],
             [
              0.2222222222222222,
              "#7201a8"
             ],
             [
              0.3333333333333333,
              "#9c179e"
             ],
             [
              0.4444444444444444,
              "#bd3786"
             ],
             [
              0.5555555555555556,
              "#d8576b"
             ],
             [
              0.6666666666666666,
              "#ed7953"
             ],
             [
              0.7777777777777778,
              "#fb9f3a"
             ],
             [
              0.8888888888888888,
              "#fdca26"
             ],
             [
              1,
              "#f0f921"
             ]
            ],
            "type": "histogram2d"
           }
          ],
          "histogram2dcontour": [
           {
            "colorbar": {
             "outlinewidth": 0,
             "ticks": ""
            },
            "colorscale": [
             [
              0,
              "#0d0887"
             ],
             [
              0.1111111111111111,
              "#46039f"
             ],
             [
              0.2222222222222222,
              "#7201a8"
             ],
             [
              0.3333333333333333,
              "#9c179e"
             ],
             [
              0.4444444444444444,
              "#bd3786"
             ],
             [
              0.5555555555555556,
              "#d8576b"
             ],
             [
              0.6666666666666666,
              "#ed7953"
             ],
             [
              0.7777777777777778,
              "#fb9f3a"
             ],
             [
              0.8888888888888888,
              "#fdca26"
             ],
             [
              1,
              "#f0f921"
             ]
            ],
            "type": "histogram2dcontour"
           }
          ],
          "mesh3d": [
           {
            "colorbar": {
             "outlinewidth": 0,
             "ticks": ""
            },
            "type": "mesh3d"
           }
          ],
          "parcoords": [
           {
            "line": {
             "colorbar": {
              "outlinewidth": 0,
              "ticks": ""
             }
            },
            "type": "parcoords"
           }
          ],
          "pie": [
           {
            "automargin": true,
            "type": "pie"
           }
          ],
          "scatter": [
           {
            "marker": {
             "colorbar": {
              "outlinewidth": 0,
              "ticks": ""
             }
            },
            "type": "scatter"
           }
          ],
          "scatter3d": [
           {
            "line": {
             "colorbar": {
              "outlinewidth": 0,
              "ticks": ""
             }
            },
            "marker": {
             "colorbar": {
              "outlinewidth": 0,
              "ticks": ""
             }
            },
            "type": "scatter3d"
           }
          ],
          "scattercarpet": [
           {
            "marker": {
             "colorbar": {
              "outlinewidth": 0,
              "ticks": ""
             }
            },
            "type": "scattercarpet"
           }
          ],
          "scattergeo": [
           {
            "marker": {
             "colorbar": {
              "outlinewidth": 0,
              "ticks": ""
             }
            },
            "type": "scattergeo"
           }
          ],
          "scattergl": [
           {
            "marker": {
             "colorbar": {
              "outlinewidth": 0,
              "ticks": ""
             }
            },
            "type": "scattergl"
           }
          ],
          "scattermapbox": [
           {
            "marker": {
             "colorbar": {
              "outlinewidth": 0,
              "ticks": ""
             }
            },
            "type": "scattermapbox"
           }
          ],
          "scatterpolar": [
           {
            "marker": {
             "colorbar": {
              "outlinewidth": 0,
              "ticks": ""
             }
            },
            "type": "scatterpolar"
           }
          ],
          "scatterpolargl": [
           {
            "marker": {
             "colorbar": {
              "outlinewidth": 0,
              "ticks": ""
             }
            },
            "type": "scatterpolargl"
           }
          ],
          "scatterternary": [
           {
            "marker": {
             "colorbar": {
              "outlinewidth": 0,
              "ticks": ""
             }
            },
            "type": "scatterternary"
           }
          ],
          "surface": [
           {
            "colorbar": {
             "outlinewidth": 0,
             "ticks": ""
            },
            "colorscale": [
             [
              0,
              "#0d0887"
             ],
             [
              0.1111111111111111,
              "#46039f"
             ],
             [
              0.2222222222222222,
              "#7201a8"
             ],
             [
              0.3333333333333333,
              "#9c179e"
             ],
             [
              0.4444444444444444,
              "#bd3786"
             ],
             [
              0.5555555555555556,
              "#d8576b"
             ],
             [
              0.6666666666666666,
              "#ed7953"
             ],
             [
              0.7777777777777778,
              "#fb9f3a"
             ],
             [
              0.8888888888888888,
              "#fdca26"
             ],
             [
              1,
              "#f0f921"
             ]
            ],
            "type": "surface"
           }
          ],
          "table": [
           {
            "cells": {
             "fill": {
              "color": "#EBF0F8"
             },
             "line": {
              "color": "white"
             }
            },
            "header": {
             "fill": {
              "color": "#C8D4E3"
             },
             "line": {
              "color": "white"
             }
            },
            "type": "table"
           }
          ]
         },
         "layout": {
          "annotationdefaults": {
           "arrowcolor": "#2a3f5f",
           "arrowhead": 0,
           "arrowwidth": 1
          },
          "coloraxis": {
           "colorbar": {
            "outlinewidth": 0,
            "ticks": ""
           }
          },
          "colorscale": {
           "diverging": [
            [
             0,
             "#8e0152"
            ],
            [
             0.1,
             "#c51b7d"
            ],
            [
             0.2,
             "#de77ae"
            ],
            [
             0.3,
             "#f1b6da"
            ],
            [
             0.4,
             "#fde0ef"
            ],
            [
             0.5,
             "#f7f7f7"
            ],
            [
             0.6,
             "#e6f5d0"
            ],
            [
             0.7,
             "#b8e186"
            ],
            [
             0.8,
             "#7fbc41"
            ],
            [
             0.9,
             "#4d9221"
            ],
            [
             1,
             "#276419"
            ]
           ],
           "sequential": [
            [
             0,
             "#0d0887"
            ],
            [
             0.1111111111111111,
             "#46039f"
            ],
            [
             0.2222222222222222,
             "#7201a8"
            ],
            [
             0.3333333333333333,
             "#9c179e"
            ],
            [
             0.4444444444444444,
             "#bd3786"
            ],
            [
             0.5555555555555556,
             "#d8576b"
            ],
            [
             0.6666666666666666,
             "#ed7953"
            ],
            [
             0.7777777777777778,
             "#fb9f3a"
            ],
            [
             0.8888888888888888,
             "#fdca26"
            ],
            [
             1,
             "#f0f921"
            ]
           ],
           "sequentialminus": [
            [
             0,
             "#0d0887"
            ],
            [
             0.1111111111111111,
             "#46039f"
            ],
            [
             0.2222222222222222,
             "#7201a8"
            ],
            [
             0.3333333333333333,
             "#9c179e"
            ],
            [
             0.4444444444444444,
             "#bd3786"
            ],
            [
             0.5555555555555556,
             "#d8576b"
            ],
            [
             0.6666666666666666,
             "#ed7953"
            ],
            [
             0.7777777777777778,
             "#fb9f3a"
            ],
            [
             0.8888888888888888,
             "#fdca26"
            ],
            [
             1,
             "#f0f921"
            ]
           ]
          },
          "colorway": [
           "#636efa",
           "#EF553B",
           "#00cc96",
           "#ab63fa",
           "#FFA15A",
           "#19d3f3",
           "#FF6692",
           "#B6E880",
           "#FF97FF",
           "#FECB52"
          ],
          "font": {
           "color": "#2a3f5f"
          },
          "geo": {
           "bgcolor": "white",
           "lakecolor": "white",
           "landcolor": "#E5ECF6",
           "showlakes": true,
           "showland": true,
           "subunitcolor": "white"
          },
          "hoverlabel": {
           "align": "left"
          },
          "hovermode": "closest",
          "mapbox": {
           "style": "light"
          },
          "paper_bgcolor": "white",
          "plot_bgcolor": "#E5ECF6",
          "polar": {
           "angularaxis": {
            "gridcolor": "white",
            "linecolor": "white",
            "ticks": ""
           },
           "bgcolor": "#E5ECF6",
           "radialaxis": {
            "gridcolor": "white",
            "linecolor": "white",
            "ticks": ""
           }
          },
          "scene": {
           "xaxis": {
            "backgroundcolor": "#E5ECF6",
            "gridcolor": "white",
            "gridwidth": 2,
            "linecolor": "white",
            "showbackground": true,
            "ticks": "",
            "zerolinecolor": "white"
           },
           "yaxis": {
            "backgroundcolor": "#E5ECF6",
            "gridcolor": "white",
            "gridwidth": 2,
            "linecolor": "white",
            "showbackground": true,
            "ticks": "",
            "zerolinecolor": "white"
           },
           "zaxis": {
            "backgroundcolor": "#E5ECF6",
            "gridcolor": "white",
            "gridwidth": 2,
            "linecolor": "white",
            "showbackground": true,
            "ticks": "",
            "zerolinecolor": "white"
           }
          },
          "shapedefaults": {
           "line": {
            "color": "#2a3f5f"
           }
          },
          "ternary": {
           "aaxis": {
            "gridcolor": "white",
            "linecolor": "white",
            "ticks": ""
           },
           "baxis": {
            "gridcolor": "white",
            "linecolor": "white",
            "ticks": ""
           },
           "bgcolor": "#E5ECF6",
           "caxis": {
            "gridcolor": "white",
            "linecolor": "white",
            "ticks": ""
           }
          },
          "title": {
           "x": 0.05
          },
          "xaxis": {
           "automargin": true,
           "gridcolor": "white",
           "linecolor": "white",
           "ticks": "",
           "title": {
            "standoff": 15
           },
           "zerolinecolor": "white",
           "zerolinewidth": 2
          },
          "yaxis": {
           "automargin": true,
           "gridcolor": "white",
           "linecolor": "white",
           "ticks": "",
           "title": {
            "standoff": 15
           },
           "zerolinecolor": "white",
           "zerolinewidth": 2
          }
         }
        },
        "title": {
         "text": "Fine-tuned MobileNetV2 averaged over 5 runs of 30 epochs",
         "x": 0.5
        },
        "width": 900,
        "xaxis": {
         "anchor": "y",
         "domain": [
          0,
          0.45
         ],
         "gridcolor": "LightGrey",
         "gridwidth": 1,
         "showgrid": true,
         "tickfont": {
          "size": 15
         },
         "title": {
          "font": {
           "size": 15
          },
          "text": "Epoch"
         }
        },
        "xaxis2": {
         "anchor": "y2",
         "domain": [
          0.55,
          1
         ],
         "gridcolor": "LightGrey",
         "gridwidth": 1,
         "showgrid": true,
         "tickfont": {
          "size": 15
         },
         "title": {
          "font": {
           "size": 15
          },
          "text": "Epoch"
         }
        },
        "yaxis": {
         "anchor": "x",
         "domain": [
          0,
          1
         ],
         "gridcolor": "LightGrey",
         "gridwidth": 1,
         "showgrid": true,
         "tickfont": {
          "size": 15
         },
         "title": {
          "font": {
           "size": 15
          },
          "text": "Accuracy (%)"
         }
        },
        "yaxis2": {
         "anchor": "x2",
         "domain": [
          0,
          1
         ],
         "gridcolor": "LightGrey",
         "gridwidth": 1,
         "showgrid": true,
         "tickfont": {
          "size": 15
         },
         "title": {
          "font": {
           "size": 15
          },
          "text": "Loss"
         }
        }
       }
      },
      "text/html": [
       "<div>\n",
       "        \n",
       "        \n",
       "            <div id=\"9066501b-c445-4e98-ba02-b479758d9155\" class=\"plotly-graph-div\" style=\"height:800px; width:900px;\"></div>\n",
       "            <script type=\"text/javascript\">\n",
       "                require([\"plotly\"], function(Plotly) {\n",
       "                    window.PLOTLYENV=window.PLOTLYENV || {};\n",
       "                    \n",
       "                if (document.getElementById(\"9066501b-c445-4e98-ba02-b479758d9155\")) {\n",
       "                    Plotly.newPlot(\n",
       "                        '9066501b-c445-4e98-ba02-b479758d9155',\n",
       "                        [{\"marker\": {\"size\": 5}, \"mode\": \"lines+markers\", \"name\": \"Training Accuracy\", \"type\": \"scatter\", \"x\": [0, 1, 2, 3, 4, 5, 6, 7, 8, 9, 10, 11, 12, 13, 14, 15, 16, 17, 18, 19, 20, 21, 22, 23, 24, 25, 26, 27, 28, 29], \"xaxis\": \"x\", \"y\": [0.3390313386917114, 0.606766402721405, 0.7106837034225464, 0.759829044342041, 0.7858262658119202, 0.8098291158676147, 0.8216524124145508, 0.8263532519340515, 0.8371082544326782, 0.8439458608627319, 0.8518518209457397, 0.8543447256088257, 0.8628205060958862, 0.8638889193534851, 0.8646011352539062, 0.8662393689155579, 0.8658832311630249, 0.8752849698066711, 0.879273533821106, 0.8799856901168823, 0.8824785947799683, 0.8845441937446594, 0.884829044342041, 0.8834757804870605, 0.8858974575996399, 0.8857549428939819, 0.889102578163147, 0.8911681175231934, 0.8922365307807922, 0.8923789262771606], \"yaxis\": \"y\"}, {\"marker\": {\"size\": 5}, \"mode\": \"lines+markers\", \"name\": \"Validation Accuracy\", \"type\": \"scatter\", \"x\": [0, 1, 2, 3, 4, 5, 6, 7, 8, 9, 10, 11, 12, 13, 14, 15, 16, 17, 18, 19, 20, 21, 22, 23, 24, 25, 26, 27, 28, 29], \"xaxis\": \"x\", \"y\": [0.6211126923561097, 0.7469329595565796, 0.7811697483062744, 0.8017118573188782, 0.8168330907821655, 0.8236804485321045, 0.83366619348526, 0.8373751878738404, 0.83366619348526, 0.8385164141654968, 0.835948646068573, 0.8465049743652344, 0.8507845878601075, 0.8485021471977234, 0.847075617313385, 0.8533523678779602, 0.8601997137069702, 0.8593438029289245, 0.8590584874153138, 0.8584878802299499, 0.865049934387207, 0.8570613503456116, 0.8610556483268738, 0.86048504114151, 0.862767469882965, 0.8593437790870666, 0.8576319456100464, 0.8582025647163392, 0.8593437910079956, 0.8564907193183899], \"yaxis\": \"y\"}, {\"marker\": {\"size\": 5}, \"mode\": \"lines+markers\", \"name\": \"Training Loss\", \"type\": \"scatter\", \"x\": [0, 1, 2, 3, 4, 5, 6, 7, 8, 9, 10, 11, 12, 13, 14, 15, 16, 17, 18, 19, 20, 21, 22, 23, 24, 25, 26, 27, 28, 29], \"xaxis\": \"x2\", \"y\": [1.7383765855066458, 1.0531597797007983, 0.7896624811014898, 0.6621989351052504, 0.5926309231679324, 0.5355917557691917, 0.5019811927253365, 0.47899408617250605, 0.4529520314133745, 0.4366222070153283, 0.41722421678382793, 0.40678511745060264, 0.3871469131562105, 0.3847124620295658, 0.37606408891514836, 0.367240690132152, 0.3692303733778136, 0.35041020317294996, 0.3383368225858422, 0.3386325878550185, 0.32820832654621523, 0.3257218440543552, 0.3197849362239539, 0.31921381308482244, 0.31917106092315795, 0.31326518253213653, 0.3057591739967678, 0.3052917802690441, 0.299946616331057, 0.29873086974831387], \"yaxis\": \"y2\"}, {\"marker\": {\"size\": 5}, \"mode\": \"lines+markers\", \"name\": \"Validation Loss\", \"type\": \"scatter\", \"x\": [0, 1, 2, 3, 4, 5, 6, 7, 8, 9, 10, 11, 12, 13, 14, 15, 16, 17, 18, 19, 20, 21, 22, 23, 24, 25, 26, 27, 28, 29], \"xaxis\": \"x2\", \"y\": [0.9956915616989136, 0.7280292510986328, 0.5971787452697754, 0.5552732884883881, 0.4991312801837921, 0.470056813955307, 0.5146452009677887, 0.3813222527503967, 0.46807185411453245, 0.403397274017334, 0.4591918706893921, 0.4535051703453064, 0.3473279118537903, 0.3805461049079895, 0.41001025438308714, 0.38161187171936034, 0.3404944747686386, 0.43051530718803405, 0.4276326417922974, 0.4568710565567017, 0.4001106858253479, 0.41363064050674436, 0.4425303518772125, 0.36586275696754456, 0.40665155053138735, 0.3788091421127319, 0.3722728848457336, 0.4057566910982132, 0.3428264677524567, 0.38215820789337157], \"yaxis\": \"y2\"}, {\"fill\": \"toself\", \"fillcolor\": \"rgba(0,100,200,0.2)\", \"line\": {\"color\": \"rgba(255,255,255,0)\"}, \"name\": \"Training Accuracy\", \"showlegend\": false, \"type\": \"scatter\", \"x\": [0, 1, 2, 3, 4, 5, 6, 7, 8, 9, 10, 11, 12, 13, 14, 15, 16, 17, 18, 19, 20, 21, 22, 23, 24, 25, 26, 27, 28, 29, 29, 28, 27, 26, 25, 24, 23, 22, 21, 20, 19, 18, 17, 16, 15, 14, 13, 12, 11, 10, 9, 8, 7, 6, 5, 4, 3, 2, 1, 0], \"xaxis\": \"x\", \"y\": [0.364107221364975, 0.6199966073036194, 0.714402437210083, 0.7632493376731873, 0.7913323044776917, 0.8151923418045044, 0.8279966711997986, 0.8322205543518066, 0.8400154113769531, 0.8470781445503235, 0.8553411364555359, 0.858411431312561, 0.8663703203201294, 0.8685994744300842, 0.8706715703010559, 0.8692578673362732, 0.8702945709228516, 0.8801177740097046, 0.8825140595436096, 0.8840336203575134, 0.8868051767349243, 0.8857231736183167, 0.8919749855995178, 0.8876556754112244, 0.8902217149734497, 0.8909028768539429, 0.8934443593025208, 0.8963661193847656, 0.8975312113761902, 0.8956381678581238, 0.8891196846961975, 0.8869418501853943, 0.8859701156616211, 0.8847607970237732, 0.880607008934021, 0.8815732002258301, 0.8792958855628967, 0.8776831030845642, 0.8833652138710022, 0.8781520128250122, 0.8759377598762512, 0.8760330080986023, 0.8704521656036377, 0.8614718914031982, 0.8632208704948425, 0.8585307002067566, 0.859178364276886, 0.8592706918716431, 0.8502780199050903, 0.8483625054359436, 0.8408135771751404, 0.8342010974884033, 0.8204859495162964, 0.815308153629303, 0.8044658899307251, 0.7803202271461487, 0.7564087510108948, 0.7069649696350098, 0.5935361981391907, 0.3139554560184479], \"yaxis\": \"y\"}, {\"fill\": \"toself\", \"fillcolor\": \"rgba(200,100,00,0.2)\", \"line\": {\"color\": \"rgba(255,255,255,0)\"}, \"name\": \"Validation Accuracy\", \"showlegend\": false, \"type\": \"scatter\", \"x\": [0, 1, 2, 3, 4, 5, 6, 7, 8, 9, 10, 11, 12, 13, 14, 15, 16, 17, 18, 19, 20, 21, 22, 23, 24, 25, 26, 27, 28, 29, 29, 28, 27, 26, 25, 24, 23, 22, 21, 20, 19, 18, 17, 16, 15, 14, 13, 12, 11, 10, 9, 8, 7, 6, 5, 4, 3, 2, 1, 0], \"xaxis\": \"x\", \"y\": [0.6601027449892124, 0.7874183697791153, 0.8142530253284442, 0.823119369912541, 0.8378491797133872, 0.849931761017331, 0.8606363684121263, 0.8582825471264219, 0.8536498964199217, 0.860843386451683, 0.8581403074434885, 0.8589608236382694, 0.8660584836301418, 0.869649505136215, 0.8663501853836386, 0.8688852206459552, 0.8745219793126753, 0.8699271120653478, 0.8711091086436683, 0.8759453109488006, 0.8807443914380203, 0.8694779297556655, 0.8749627182026818, 0.8749599670019755, 0.8735337670769336, 0.8668706884027272, 0.868360398324277, 0.8733426470751207, 0.8708483994276623, 0.8685143027675588, 0.8444671358692211, 0.8478391825883289, 0.8430624823575577, 0.8469034928958158, 0.851816869771406, 0.8520011726889964, 0.8460101152810445, 0.8471485784510657, 0.8446447709355577, 0.8493554773363937, 0.8410304495110993, 0.8470078661869592, 0.8487604937925013, 0.8458774481012652, 0.8378195151099652, 0.8278010492431314, 0.8273547892592319, 0.8355106920900731, 0.8340491250921994, 0.8137569846936575, 0.8161894418793106, 0.8136824905505984, 0.8164678286212588, 0.8066960185583938, 0.797429136046878, 0.7958170018509437, 0.7803043447252154, 0.7480864712841045, 0.7064475493340439, 0.5821226397230069], \"yaxis\": \"y\"}, {\"fill\": \"toself\", \"fillcolor\": \"rgba(0,200,100,0.2)\", \"line\": {\"color\": \"rgba(255,255,255,0)\"}, \"name\": \"Training Loss\", \"showlegend\": false, \"type\": \"scatter\", \"x\": [0, 1, 2, 3, 4, 5, 6, 7, 8, 9, 10, 11, 12, 13, 14, 15, 16, 17, 18, 19, 20, 21, 22, 23, 24, 25, 26, 27, 28, 29, 29, 28, 27, 26, 25, 24, 23, 22, 21, 20, 19, 18, 17, 16, 15, 14, 13, 12, 11, 10, 9, 8, 7, 6, 5, 4, 3, 2, 1, 0], \"xaxis\": \"x2\", \"y\": [1.7994208516571186, 1.084273518048043, 0.8019098462024193, 0.6736173637907054, 0.602344170925381, 0.5453428764739756, 0.5165242429122051, 0.48616922486641617, 0.460561643428345, 0.4458630280671439, 0.4254541767866086, 0.414525513253348, 0.3929036424197717, 0.3917474156316856, 0.38247211979436146, 0.3739197897958959, 0.37396595101040603, 0.3581624313642239, 0.34595902655547794, 0.3418317999146665, 0.33459757808691476, 0.33058705637065144, 0.32889120582291753, 0.3230609573781037, 0.32601072338580905, 0.32029038216010514, 0.3102583473931703, 0.31092795177179045, 0.311912689745805, 0.3027055365268261, 0.29475620296980165, 0.28798054291630903, 0.2996556087662977, 0.30126000060036523, 0.30623998290416793, 0.31233139846050684, 0.3153666687915412, 0.3106786666249902, 0.320856631738059, 0.3218190750055157, 0.33543337579537047, 0.33071461861620643, 0.34265797498167605, 0.3644947957452212, 0.3605615904684081, 0.36965605803593526, 0.3776775084274461, 0.38139018389264934, 0.39904472164785726, 0.4089942567810473, 0.42738138596351266, 0.44534241939840397, 0.47181894747859593, 0.4874381425384678, 0.5258406350644078, 0.5829176754104839, 0.6507805064197955, 0.7774151160005603, 1.0220460413535537, 1.6773323193561729], \"yaxis\": \"y2\"}, {\"fill\": \"toself\", \"fillcolor\": \"rgba(200,100,200,0.2)\", \"line\": {\"color\": \"rgba(255,255,255,0)\"}, \"name\": \"Validation Loss\", \"showlegend\": false, \"type\": \"scatter\", \"x\": [0, 1, 2, 3, 4, 5, 6, 7, 8, 9, 10, 11, 12, 13, 14, 15, 16, 17, 18, 19, 20, 21, 22, 23, 24, 25, 26, 27, 28, 29, 29, 28, 27, 26, 25, 24, 23, 22, 21, 20, 19, 18, 17, 16, 15, 14, 13, 12, 11, 10, 9, 8, 7, 6, 5, 4, 3, 2, 1, 0], \"xaxis\": \"x2\", \"y\": [1.1157464114415243, 0.8347278897397682, 0.646846088510076, 0.6000020802703424, 0.5548995667611696, 0.5724804798523967, 0.6027706629188018, 0.46558165642060956, 0.5780402119705041, 0.4389962491099327, 0.5473743070361526, 0.5103526230222102, 0.4365127663798634, 0.45440974739802326, 0.5207560087311724, 0.45749475229504577, 0.4402967659558834, 0.5372215170650525, 0.4688017664374954, 0.49851036280826466, 0.47620037935184106, 0.480163032174658, 0.5622838373032255, 0.4538615783488565, 0.5083259460458524, 0.4259462025545113, 0.42333768758313123, 0.5628054875446022, 0.3712677792382807, 0.4721086554343345, 0.29220776035240864, 0.31438515626663266, 0.24870789465182414, 0.321208082108336, 0.3316720816709525, 0.30497715501692235, 0.2778639355862326, 0.3227768664511995, 0.3470982488388307, 0.3240209922988548, 0.4152317503051387, 0.38646351714709937, 0.32380909731101565, 0.24069218358139377, 0.3057289911436749, 0.2992645000350018, 0.30668246241795577, 0.2581430573277172, 0.39665771766840263, 0.37100943434263156, 0.3677982989247353, 0.3581034962585608, 0.2970628490801839, 0.42651973901677553, 0.3676331480582174, 0.4433629936064146, 0.5105444967064338, 0.5475114020294749, 0.6213306124574974, 0.8756367119563029], \"yaxis\": \"y2\"}],\n",
       "                        {\"height\": 800, \"template\": {\"data\": {\"bar\": [{\"error_x\": {\"color\": \"#2a3f5f\"}, \"error_y\": {\"color\": \"#2a3f5f\"}, \"marker\": {\"line\": {\"color\": \"#E5ECF6\", \"width\": 0.5}}, \"type\": \"bar\"}], \"barpolar\": [{\"marker\": {\"line\": {\"color\": \"#E5ECF6\", \"width\": 0.5}}, \"type\": \"barpolar\"}], \"carpet\": [{\"aaxis\": {\"endlinecolor\": \"#2a3f5f\", \"gridcolor\": \"white\", \"linecolor\": \"white\", \"minorgridcolor\": \"white\", \"startlinecolor\": \"#2a3f5f\"}, \"baxis\": {\"endlinecolor\": \"#2a3f5f\", \"gridcolor\": \"white\", \"linecolor\": \"white\", \"minorgridcolor\": \"white\", \"startlinecolor\": \"#2a3f5f\"}, \"type\": \"carpet\"}], \"choropleth\": [{\"colorbar\": {\"outlinewidth\": 0, \"ticks\": \"\"}, \"type\": \"choropleth\"}], \"contour\": [{\"colorbar\": {\"outlinewidth\": 0, \"ticks\": \"\"}, \"colorscale\": [[0.0, \"#0d0887\"], [0.1111111111111111, \"#46039f\"], [0.2222222222222222, \"#7201a8\"], [0.3333333333333333, \"#9c179e\"], [0.4444444444444444, \"#bd3786\"], [0.5555555555555556, \"#d8576b\"], [0.6666666666666666, \"#ed7953\"], [0.7777777777777778, \"#fb9f3a\"], [0.8888888888888888, \"#fdca26\"], [1.0, \"#f0f921\"]], \"type\": \"contour\"}], \"contourcarpet\": [{\"colorbar\": {\"outlinewidth\": 0, \"ticks\": \"\"}, \"type\": \"contourcarpet\"}], \"heatmap\": [{\"colorbar\": {\"outlinewidth\": 0, \"ticks\": \"\"}, \"colorscale\": [[0.0, \"#0d0887\"], [0.1111111111111111, \"#46039f\"], [0.2222222222222222, \"#7201a8\"], [0.3333333333333333, \"#9c179e\"], [0.4444444444444444, \"#bd3786\"], [0.5555555555555556, \"#d8576b\"], [0.6666666666666666, \"#ed7953\"], [0.7777777777777778, \"#fb9f3a\"], [0.8888888888888888, \"#fdca26\"], [1.0, \"#f0f921\"]], \"type\": \"heatmap\"}], \"heatmapgl\": [{\"colorbar\": {\"outlinewidth\": 0, \"ticks\": \"\"}, \"colorscale\": [[0.0, \"#0d0887\"], [0.1111111111111111, \"#46039f\"], [0.2222222222222222, \"#7201a8\"], [0.3333333333333333, \"#9c179e\"], [0.4444444444444444, \"#bd3786\"], [0.5555555555555556, \"#d8576b\"], [0.6666666666666666, \"#ed7953\"], [0.7777777777777778, \"#fb9f3a\"], [0.8888888888888888, \"#fdca26\"], [1.0, \"#f0f921\"]], \"type\": \"heatmapgl\"}], \"histogram\": [{\"marker\": {\"colorbar\": {\"outlinewidth\": 0, \"ticks\": \"\"}}, \"type\": \"histogram\"}], \"histogram2d\": [{\"colorbar\": {\"outlinewidth\": 0, \"ticks\": \"\"}, \"colorscale\": [[0.0, \"#0d0887\"], [0.1111111111111111, \"#46039f\"], [0.2222222222222222, \"#7201a8\"], [0.3333333333333333, \"#9c179e\"], [0.4444444444444444, \"#bd3786\"], [0.5555555555555556, \"#d8576b\"], [0.6666666666666666, \"#ed7953\"], [0.7777777777777778, \"#fb9f3a\"], [0.8888888888888888, \"#fdca26\"], [1.0, \"#f0f921\"]], \"type\": \"histogram2d\"}], \"histogram2dcontour\": [{\"colorbar\": {\"outlinewidth\": 0, \"ticks\": \"\"}, \"colorscale\": [[0.0, \"#0d0887\"], [0.1111111111111111, \"#46039f\"], [0.2222222222222222, \"#7201a8\"], [0.3333333333333333, \"#9c179e\"], [0.4444444444444444, \"#bd3786\"], [0.5555555555555556, \"#d8576b\"], [0.6666666666666666, \"#ed7953\"], [0.7777777777777778, \"#fb9f3a\"], [0.8888888888888888, \"#fdca26\"], [1.0, \"#f0f921\"]], \"type\": \"histogram2dcontour\"}], \"mesh3d\": [{\"colorbar\": {\"outlinewidth\": 0, \"ticks\": \"\"}, \"type\": \"mesh3d\"}], \"parcoords\": [{\"line\": {\"colorbar\": {\"outlinewidth\": 0, \"ticks\": \"\"}}, \"type\": \"parcoords\"}], \"pie\": [{\"automargin\": true, \"type\": \"pie\"}], \"scatter\": [{\"marker\": {\"colorbar\": {\"outlinewidth\": 0, \"ticks\": \"\"}}, \"type\": \"scatter\"}], \"scatter3d\": [{\"line\": {\"colorbar\": {\"outlinewidth\": 0, \"ticks\": \"\"}}, \"marker\": {\"colorbar\": {\"outlinewidth\": 0, \"ticks\": \"\"}}, \"type\": \"scatter3d\"}], \"scattercarpet\": [{\"marker\": {\"colorbar\": {\"outlinewidth\": 0, \"ticks\": \"\"}}, \"type\": \"scattercarpet\"}], \"scattergeo\": [{\"marker\": {\"colorbar\": {\"outlinewidth\": 0, \"ticks\": \"\"}}, \"type\": \"scattergeo\"}], \"scattergl\": [{\"marker\": {\"colorbar\": {\"outlinewidth\": 0, \"ticks\": \"\"}}, \"type\": \"scattergl\"}], \"scattermapbox\": [{\"marker\": {\"colorbar\": {\"outlinewidth\": 0, \"ticks\": \"\"}}, \"type\": \"scattermapbox\"}], \"scatterpolar\": [{\"marker\": {\"colorbar\": {\"outlinewidth\": 0, \"ticks\": \"\"}}, \"type\": \"scatterpolar\"}], \"scatterpolargl\": [{\"marker\": {\"colorbar\": {\"outlinewidth\": 0, \"ticks\": \"\"}}, \"type\": \"scatterpolargl\"}], \"scatterternary\": [{\"marker\": {\"colorbar\": {\"outlinewidth\": 0, \"ticks\": \"\"}}, \"type\": \"scatterternary\"}], \"surface\": [{\"colorbar\": {\"outlinewidth\": 0, \"ticks\": \"\"}, \"colorscale\": [[0.0, \"#0d0887\"], [0.1111111111111111, \"#46039f\"], [0.2222222222222222, \"#7201a8\"], [0.3333333333333333, \"#9c179e\"], [0.4444444444444444, \"#bd3786\"], [0.5555555555555556, \"#d8576b\"], [0.6666666666666666, \"#ed7953\"], [0.7777777777777778, \"#fb9f3a\"], [0.8888888888888888, \"#fdca26\"], [1.0, \"#f0f921\"]], \"type\": \"surface\"}], \"table\": [{\"cells\": {\"fill\": {\"color\": \"#EBF0F8\"}, \"line\": {\"color\": \"white\"}}, \"header\": {\"fill\": {\"color\": \"#C8D4E3\"}, \"line\": {\"color\": \"white\"}}, \"type\": \"table\"}]}, \"layout\": {\"annotationdefaults\": {\"arrowcolor\": \"#2a3f5f\", \"arrowhead\": 0, \"arrowwidth\": 1}, \"coloraxis\": {\"colorbar\": {\"outlinewidth\": 0, \"ticks\": \"\"}}, \"colorscale\": {\"diverging\": [[0, \"#8e0152\"], [0.1, \"#c51b7d\"], [0.2, \"#de77ae\"], [0.3, \"#f1b6da\"], [0.4, \"#fde0ef\"], [0.5, \"#f7f7f7\"], [0.6, \"#e6f5d0\"], [0.7, \"#b8e186\"], [0.8, \"#7fbc41\"], [0.9, \"#4d9221\"], [1, \"#276419\"]], \"sequential\": [[0.0, \"#0d0887\"], [0.1111111111111111, \"#46039f\"], [0.2222222222222222, \"#7201a8\"], [0.3333333333333333, \"#9c179e\"], [0.4444444444444444, \"#bd3786\"], [0.5555555555555556, \"#d8576b\"], [0.6666666666666666, \"#ed7953\"], [0.7777777777777778, \"#fb9f3a\"], [0.8888888888888888, \"#fdca26\"], [1.0, \"#f0f921\"]], \"sequentialminus\": [[0.0, \"#0d0887\"], [0.1111111111111111, \"#46039f\"], [0.2222222222222222, \"#7201a8\"], [0.3333333333333333, \"#9c179e\"], [0.4444444444444444, \"#bd3786\"], [0.5555555555555556, \"#d8576b\"], [0.6666666666666666, \"#ed7953\"], [0.7777777777777778, \"#fb9f3a\"], [0.8888888888888888, \"#fdca26\"], [1.0, \"#f0f921\"]]}, \"colorway\": [\"#636efa\", \"#EF553B\", \"#00cc96\", \"#ab63fa\", \"#FFA15A\", \"#19d3f3\", \"#FF6692\", \"#B6E880\", \"#FF97FF\", \"#FECB52\"], \"font\": {\"color\": \"#2a3f5f\"}, \"geo\": {\"bgcolor\": \"white\", \"lakecolor\": \"white\", \"landcolor\": \"#E5ECF6\", \"showlakes\": true, \"showland\": true, \"subunitcolor\": \"white\"}, \"hoverlabel\": {\"align\": \"left\"}, \"hovermode\": \"closest\", \"mapbox\": {\"style\": \"light\"}, \"paper_bgcolor\": \"white\", \"plot_bgcolor\": \"#E5ECF6\", \"polar\": {\"angularaxis\": {\"gridcolor\": \"white\", \"linecolor\": \"white\", \"ticks\": \"\"}, \"bgcolor\": \"#E5ECF6\", \"radialaxis\": {\"gridcolor\": \"white\", \"linecolor\": \"white\", \"ticks\": \"\"}}, \"scene\": {\"xaxis\": {\"backgroundcolor\": \"#E5ECF6\", \"gridcolor\": \"white\", \"gridwidth\": 2, \"linecolor\": \"white\", \"showbackground\": true, \"ticks\": \"\", \"zerolinecolor\": \"white\"}, \"yaxis\": {\"backgroundcolor\": \"#E5ECF6\", \"gridcolor\": \"white\", \"gridwidth\": 2, \"linecolor\": \"white\", \"showbackground\": true, \"ticks\": \"\", \"zerolinecolor\": \"white\"}, \"zaxis\": {\"backgroundcolor\": \"#E5ECF6\", \"gridcolor\": \"white\", \"gridwidth\": 2, \"linecolor\": \"white\", \"showbackground\": true, \"ticks\": \"\", \"zerolinecolor\": \"white\"}}, \"shapedefaults\": {\"line\": {\"color\": \"#2a3f5f\"}}, \"ternary\": {\"aaxis\": {\"gridcolor\": \"white\", \"linecolor\": \"white\", \"ticks\": \"\"}, \"baxis\": {\"gridcolor\": \"white\", \"linecolor\": \"white\", \"ticks\": \"\"}, \"bgcolor\": \"#E5ECF6\", \"caxis\": {\"gridcolor\": \"white\", \"linecolor\": \"white\", \"ticks\": \"\"}}, \"title\": {\"x\": 0.05}, \"xaxis\": {\"automargin\": true, \"gridcolor\": \"white\", \"linecolor\": \"white\", \"ticks\": \"\", \"title\": {\"standoff\": 15}, \"zerolinecolor\": \"white\", \"zerolinewidth\": 2}, \"yaxis\": {\"automargin\": true, \"gridcolor\": \"white\", \"linecolor\": \"white\", \"ticks\": \"\", \"title\": {\"standoff\": 15}, \"zerolinecolor\": \"white\", \"zerolinewidth\": 2}}}, \"title\": {\"text\": \"Fine-tuned MobileNetV2 averaged over 5 runs of 30 epochs\", \"x\": 0.5}, \"width\": 900, \"xaxis\": {\"anchor\": \"y\", \"domain\": [0.0, 0.45], \"gridcolor\": \"LightGrey\", \"gridwidth\": 1, \"showgrid\": true, \"tickfont\": {\"size\": 15}, \"title\": {\"font\": {\"size\": 15}, \"text\": \"Epoch\"}}, \"xaxis2\": {\"anchor\": \"y2\", \"domain\": [0.55, 1.0], \"gridcolor\": \"LightGrey\", \"gridwidth\": 1, \"showgrid\": true, \"tickfont\": {\"size\": 15}, \"title\": {\"font\": {\"size\": 15}, \"text\": \"Epoch\"}}, \"yaxis\": {\"anchor\": \"x\", \"domain\": [0.0, 1.0], \"gridcolor\": \"LightGrey\", \"gridwidth\": 1, \"showgrid\": true, \"tickfont\": {\"size\": 15}, \"title\": {\"font\": {\"size\": 15}, \"text\": \"Accuracy (%)\"}}, \"yaxis2\": {\"anchor\": \"x2\", \"domain\": [0.0, 1.0], \"gridcolor\": \"LightGrey\", \"gridwidth\": 1, \"showgrid\": true, \"tickfont\": {\"size\": 15}, \"title\": {\"font\": {\"size\": 15}, \"text\": \"Loss\"}}},\n",
       "                        {\"responsive\": true}\n",
       "                    ).then(function(){\n",
       "                            \n",
       "var gd = document.getElementById('9066501b-c445-4e98-ba02-b479758d9155');\n",
       "var x = new MutationObserver(function (mutations, observer) {{\n",
       "        var display = window.getComputedStyle(gd).display;\n",
       "        if (!display || display === 'none') {{\n",
       "            console.log([gd, 'removed!']);\n",
       "            Plotly.purge(gd);\n",
       "            observer.disconnect();\n",
       "        }}\n",
       "}});\n",
       "\n",
       "// Listen for the removal of the full notebook cells\n",
       "var notebookContainer = gd.closest('#notebook-container');\n",
       "if (notebookContainer) {{\n",
       "    x.observe(notebookContainer, {childList: true});\n",
       "}}\n",
       "\n",
       "// Listen for the clearing of the current output cell\n",
       "var outputEl = gd.closest('.output');\n",
       "if (outputEl) {{\n",
       "    x.observe(outputEl, {childList: true});\n",
       "}}\n",
       "\n",
       "                        })\n",
       "                };\n",
       "                });\n",
       "            </script>\n",
       "        </div>"
      ]
     },
     "metadata": {},
     "output_type": "display_data"
    }
   ],
   "source": [
    "# Plot the performance of the model over 30 epochs\n",
    "\n",
    "# Instanciate the figure\n",
    "fig = make_subplots(rows = 1, cols = 2)    \n",
    "\n",
    "# Parameters\n",
    "epochs = np.array([e for e in range(30)])\n",
    "epochs_rev = epochs[::-1]\n",
    "train_acc_up = train_acc_mean + train_acc_std\n",
    "train_acc_low = (train_acc_mean - train_acc_std)[::-1]\n",
    "valid_acc_up = valid_acc_mean + valid_acc_std\n",
    "valid_acc_low = (valid_acc_mean - valid_acc_std)[::-1]\n",
    "train_loss_up = train_loss_mean + train_loss_std\n",
    "train_loss_low = (train_loss_mean - train_loss_std)[::-1]\n",
    "valid_loss_up = valid_loss_mean + valid_loss_std\n",
    "valid_loss_low = (valid_loss_mean - valid_loss_std)[::-1]\n",
    "\n",
    "# Plot the means of the training accuracy, validation accuracy, training loss, validation loss\n",
    "fig.add_trace(go.Scatter(x = epochs, y = train_acc_mean,\n",
    "                    mode ='lines+markers',\n",
    "                    marker = {'size':5},\n",
    "                    name ='Training Accuracy'), row = 1, col = 1)\n",
    "fig.add_trace(go.Scatter(x = epochs, y = valid_acc_mean,\n",
    "                    mode ='lines+markers',\n",
    "                    marker = {'size':5},\n",
    "                    name ='Validation Accuracy'), row = 1, col = 1)\n",
    "fig.add_trace(go.Scatter(x = epochs, y = train_loss_mean,\n",
    "                    mode ='lines+markers',\n",
    "                    marker = {'size':5},\n",
    "                    name ='Training Loss'), row = 1, col = 2)\n",
    "fig.add_trace(go.Scatter(x = epochs, y = valid_loss_mean,\n",
    "                    mode ='lines+markers',\n",
    "                    marker = {'size':5},\n",
    "                    name ='Validation Loss'), row = 1, col = 2)\n",
    "\n",
    "# Plot the stds of the training accuracy, validation accuracy, training loss, validation loss\n",
    "fig.add_trace(go.Scatter(\n",
    "    x = np.concatenate((epochs, epochs_rev)),\n",
    "    y = np.concatenate((train_acc_up, train_acc_low)),\n",
    "    fill='toself',\n",
    "    fillcolor='rgba(0,100,200,0.2)',\n",
    "    line_color='rgba(255,255,255,0)',\n",
    "    showlegend=False,\n",
    "    name='Training Accuracy'), row = 1, col = 1)\n",
    "fig.add_trace(go.Scatter(\n",
    "    x = np.concatenate((epochs, epochs_rev)),\n",
    "    y = np.concatenate((valid_acc_up, valid_acc_low)),\n",
    "    fill='toself',\n",
    "    fillcolor='rgba(200,100,00,0.2)',\n",
    "    line_color='rgba(255,255,255,0)',\n",
    "    showlegend=False,\n",
    "    name='Validation Accuracy'), row = 1, col = 1)\n",
    "fig.add_trace(go.Scatter(\n",
    "    x = np.concatenate((epochs, epochs_rev)),\n",
    "    y = np.concatenate((train_loss_up, train_loss_low)),\n",
    "    fill='toself',\n",
    "    fillcolor='rgba(0,200,100,0.2)',\n",
    "    line_color='rgba(255,255,255,0)',\n",
    "    showlegend=False,\n",
    "    name='Training Loss'), row = 1, col = 2)\n",
    "fig.add_trace(go.Scatter(\n",
    "    x = np.concatenate((epochs, epochs_rev)),\n",
    "    y = np.concatenate((valid_loss_up, valid_loss_low)),\n",
    "    fill='toself',\n",
    "    fillcolor='rgba(200,100,200,0.2)',\n",
    "    line_color='rgba(255,255,255,0)',\n",
    "    showlegend=False,\n",
    "    name='Validation Loss'), row = 1, col = 2)\n",
    "\n",
    "# Fill x and y axis for the first plot\n",
    "fig.update_xaxes(title_text = \"Epoch\", row = 1, col = 1)\n",
    "fig.update_xaxes(title_text = \"Epoch\", row = 1, col = 2)\n",
    "fig.update_yaxes(title_text = \"Accuracy (%)\", row = 1, col = 1)\n",
    "fig.update_yaxes(title_text = \"Loss\", row = 1, col = 2)\n",
    "fig.update_yaxes(tickfont = dict(size = 15), titlefont = dict(size = 15), showgrid = True, gridwidth = 1, gridcolor = 'LightGrey')\n",
    "fig.update_xaxes(tickfont = dict(size = 15), titlefont = dict(size = 15), showgrid = True, gridwidth = 1, gridcolor = 'LightGrey')\n",
    "\n",
    "# Add title and show the figure\n",
    "fig.update_layout(height = 800, width = 900, title_text = \"Fine-tuned MobileNetV2 averaged over 5 runs ofb 30 epochs\", title_x = 0.5)\n",
    "fig.show()"
   ]
  }
 ],
 "metadata": {
  "kernelspec": {
   "display_name": "Python 3",
   "language": "python",
   "name": "python3"
  },
  "language_info": {
   "codemirror_mode": {
    "name": "ipython",
    "version": 3
   },
   "file_extension": ".py",
   "mimetype": "text/x-python",
   "name": "python",
   "nbconvert_exporter": "python",
   "pygments_lexer": "ipython3",
   "version": "3.6.10"
  }
 },
 "nbformat": 4,
 "nbformat_minor": 4
}
